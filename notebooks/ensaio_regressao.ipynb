{
 "cells": [
  {
   "cell_type": "markdown",
   "id": "ad0b5dc1-8579-4067-a815-88f3f0e71bd4",
   "metadata": {
    "jp-MarkdownHeadingCollapsed": true
   },
   "source": [
    "# Import of libraries"
   ]
  },
  {
   "cell_type": "code",
   "execution_count": 1,
   "id": "7e982869-5e8f-4056-b790-20233553431a",
   "metadata": {},
   "outputs": [],
   "source": [
    "from sklearn.preprocessing import PolynomialFeatures"
   ]
  },
  {
   "cell_type": "code",
   "execution_count": 2,
   "id": "539ef0e5-7672-4abc-a98e-0a4370c18e8b",
   "metadata": {},
   "outputs": [],
   "source": [
    "from sklearn.model_selection import cross_val_score"
   ]
  },
  {
   "cell_type": "code",
   "execution_count": 3,
   "id": "49d594b9-31cb-4832-827b-6981ca922e4d",
   "metadata": {},
   "outputs": [],
   "source": [
    "from sklearn.ensemble import RandomForestRegressor"
   ]
  },
  {
   "cell_type": "code",
   "execution_count": 4,
   "id": "bb4ba7d8-462c-4333-95cd-cccc8e224c07",
   "metadata": {},
   "outputs": [],
   "source": [
    "from sklearn.linear_model import LinearRegression"
   ]
  },
  {
   "cell_type": "code",
   "execution_count": 5,
   "id": "f140b3b2-9a68-4447-8de3-8af3174df34f",
   "metadata": {},
   "outputs": [],
   "source": [
    "from sklearn.model_selection import GridSearchCV"
   ]
  },
  {
   "cell_type": "code",
   "execution_count": 6,
   "id": "3a3d4c57-163b-4f09-b31b-f6909fe54889",
   "metadata": {},
   "outputs": [],
   "source": [
    "from sklearn.tree import DecisionTreeRegressor"
   ]
  },
  {
   "cell_type": "code",
   "execution_count": 7,
   "id": "f6d683f5-28ae-4b09-bf93-d768ca3c6f4e",
   "metadata": {},
   "outputs": [],
   "source": [
    "from sklearn.linear_model import ElasticNet"
   ]
  },
  {
   "cell_type": "code",
   "execution_count": 8,
   "id": "f8ad8281-4943-4afa-b0ec-83d9dc0bd6c4",
   "metadata": {},
   "outputs": [],
   "source": [
    "from sklearn.linear_model import Lasso"
   ]
  },
  {
   "cell_type": "code",
   "execution_count": 9,
   "id": "376c4d2d-2cc0-4b02-b75f-20bf694f10f3",
   "metadata": {},
   "outputs": [],
   "source": [
    "from sklearn.linear_model import Ridge"
   ]
  },
  {
   "cell_type": "code",
   "execution_count": 10,
   "id": "427e757e-d66c-4f93-8d17-3a21dd020492",
   "metadata": {},
   "outputs": [],
   "source": [
    "from sklearn import metrics as mt"
   ]
  },
  {
   "cell_type": "code",
   "execution_count": 11,
   "id": "95217472-3dc4-4e65-b921-86e4859356c8",
   "metadata": {},
   "outputs": [],
   "source": [
    "import matplotlib.pyplot as plt"
   ]
  },
  {
   "cell_type": "code",
   "execution_count": 12,
   "id": "06f68083-78f7-4cc4-b144-d066ff9ad5b5",
   "metadata": {},
   "outputs": [],
   "source": [
    "import pandas as pd"
   ]
  },
  {
   "cell_type": "code",
   "execution_count": 13,
   "id": "bef9024e-ad1a-4cef-8190-0db329ee90ab",
   "metadata": {},
   "outputs": [],
   "source": [
    "import numpy as np"
   ]
  },
  {
   "cell_type": "markdown",
   "id": "7b8f09a0-a838-441e-b8eb-a5b8acf02557",
   "metadata": {
    "jp-MarkdownHeadingCollapsed": true
   },
   "source": [
    "# Function definition"
   ]
  },
  {
   "cell_type": "code",
   "execution_count": 14,
   "id": "bd1f67a3-4ce6-44de-a250-84d2360eced1",
   "metadata": {},
   "outputs": [],
   "source": [
    "def join_data(x_df1, x_df2, y_df1, y_df2):\n",
    "    \n",
    "    \"\"\"\n",
    "    This function is responsible for joining the dataframes.\n",
    "\n",
    "    Args:\n",
    "        parameter1 (DataFrame): Receives a dataframe that will join with the x_df2.\n",
    "        parameter2 (DataFrame): Receives a dataframe that will join with the x_df1.\n",
    "        parameter3 (DataFrame): Receives a dataframe that will join with the y_df2.\n",
    "        parameter4 (DataFrame): Receives a dataframe that will join with the y_df1.\n",
    "\n",
    "    Returns:\n",
    "        returns two dataframes.\n",
    "\n",
    "    Example:\n",
    "        df1\n",
    "        df2\n",
    "        df3\n",
    "        df4\n",
    "        x, y = join_data(df1, df2, df3, df4)\n",
    "    \"\"\"\n",
    "    # Combining the data from x_df1 and x_df2, the DataFrames vertically, resetting the indices\n",
    "    new_x = pd.concat([x_df1, x_df2], axis=0)\n",
    "    new_x.reset_index(drop=True, inplace=True)\n",
    "\n",
    "    # Combining the data from y_df1 and y_df2, the DataFrames vertically, resetting the indices\n",
    "    new_y = pd.concat([y_df1, y_df2], axis=0)\n",
    "    new_y.reset_index(drop=True, inplace=True)\n",
    "\n",
    "    # Returns two dataframes\n",
    "    return new_x, new_y"
   ]
  },
  {
   "cell_type": "code",
   "execution_count": 15,
   "id": "047d220a-7a9e-4ab2-936d-6d652ff84ea8",
   "metadata": {},
   "outputs": [],
   "source": [
    "def get_metrics(y_real, y_pred, list_R2, list_MSE, list_RMSE, list_MAE, list_MAPE):\n",
    "\n",
    "    \"\"\"\n",
    "    This function is responsible for calculating the metrics: R2, MSE, RMSE, MAE e MAPE.\n",
    "\n",
    "    Args:\n",
    "        parameter1 (DataFrame): represents the actual values.\n",
    "        parameter2 (numpy.ndarray): represents the predicted values.\n",
    "        parameter3 (list): location where the R2 metrics will be stored\n",
    "        parameter4 (list): location where the MSE metrics will be stored\n",
    "        parameter5 (list): location where the RMSE metrics will be stored\n",
    "        parameter6 (list): location where the MAE metrics will be stored\n",
    "        parameter7 (list): location where the MAPE metrics will be stored\n",
    "\n",
    "    Returns:\n",
    "        There is no return.\n",
    "\n",
    "    Example:\n",
    "        get_metrics(y_real, y_pred, list_R2, list_MSE, list_RMSE, list_MAE, list_MAPE)\n",
    "    \"\"\"\n",
    "    #R2\n",
    "    r2 = mt.r2_score(y_real, y_pred)\n",
    "    list_R2.append(r2)\n",
    "\n",
    "    #MSE\n",
    "    mse = mt.mean_squared_error(y_real, y_pred)\n",
    "    list_MSE.append(mse)\n",
    "\n",
    "    #RMSE\n",
    "    rmse = np.sqrt(mse)\n",
    "    list_RMSE.append(rmse)\n",
    "\n",
    "    #MAE\n",
    "    mae = mt.mean_absolute_error(y_real, y_pred)\n",
    "    list_MAE.append(mae)\n",
    "\n",
    "    #MAPE\n",
    "\n",
    "    y_real_array = y_real.values\n",
    "    \n",
    "    mape = np.mean(np.abs((y_real_array - y_pred) / y_real_array)) * 100\n",
    "    list_MAPE.append(mape)"
   ]
  },
  {
   "cell_type": "code",
   "execution_count": 16,
   "id": "24bdc2bf-5476-464d-a8a3-f8b15d4a032a",
   "metadata": {},
   "outputs": [],
   "source": [
    "def show_table(list_names_algorithm, list_names_metrics, list_values_metrics):\n",
    "\n",
    "    \"\"\"\n",
    "    This function is responsible for creating a table and displaying it.\n",
    "\n",
    "    Args:\n",
    "        parameter1 (list): Receives a list with the names of the algorithms worked on.\n",
    "        parameter2 (list): Receives a list with the names of the defined metrics.\n",
    "        parameter3 (list): Receives a list of lists with the resulting metric values. \n",
    "                           The size of that list must be equal to the size of the list of the first parameter, \n",
    "                           Otherwise, an error will occur.\n",
    "\n",
    "    Returns:\n",
    "        returns a table in dataframe format.\n",
    "\n",
    "    Example:\n",
    "        algorithm = ['A','B', 'C']\n",
    "        metrics = ['aa', 'bb', 'cc']\n",
    "        values = [[1], [2], [3]]\n",
    "        show_table(algorithm, metrics, values)\n",
    "    \"\"\"\n",
    "    \n",
    "    # Create a dictionary = table\n",
    "    tab = {}\n",
    "\n",
    "    # Add elements to the dictionary by assigning a value to a specific key\n",
    "    tab['Algorithm Name'] = list_names_algorithm\n",
    "\n",
    "    # Error handling\n",
    "    try:\n",
    "        # Scrolling through the list\n",
    "        for names in list_names_metrics:\n",
    "            # Add elements to the dictionary by assigning a value to a specific key\n",
    "            tab[names] = list_values_metrics[list_names_metrics.index(names)]\n",
    "\n",
    "        # Create a DataFrame from data\n",
    "        df_tab = pd.DataFrame(tab)\n",
    "            \n",
    "    except ValueError:\n",
    "        \n",
    "        print('Unable to execute this command! Check the size and type of the third parameter.')\n",
    "        \n",
    "    else:\n",
    "        # Returns a dataframe\n",
    "        return df_tab"
   ]
  },
  {
   "cell_type": "markdown",
   "id": "33309107-eec2-44e7-9964-7703d99a96aa",
   "metadata": {
    "jp-MarkdownHeadingCollapsed": true
   },
   "source": [
    "# Loading data"
   ]
  },
  {
   "cell_type": "code",
   "execution_count": 17,
   "id": "3562b6b0-6dd2-4447-9093-bd5175829748",
   "metadata": {},
   "outputs": [],
   "source": [
    "x_train = pd.read_csv('../Datasets/ensaio_regressao/X_train.csv')"
   ]
  },
  {
   "cell_type": "code",
   "execution_count": 18,
   "id": "1a3adfd4-78e7-4026-8db7-a7075f12f881",
   "metadata": {
    "jp-MarkdownHeadingCollapsed": true
   },
   "outputs": [],
   "source": [
    "y_train = pd.read_csv('../Datasets/ensaio_regressao/Y_train.csv')"
   ]
  },
  {
   "cell_type": "code",
   "execution_count": 19,
   "id": "0a7af224-0943-4bb6-8741-cddb43251cf9",
   "metadata": {},
   "outputs": [],
   "source": [
    "x_vld = pd.read_csv('../Datasets/ensaio_regressao/X_vld.csv')"
   ]
  },
  {
   "cell_type": "code",
   "execution_count": 20,
   "id": "fe58c9df-68a7-458a-94e6-b7cdb1a83406",
   "metadata": {},
   "outputs": [],
   "source": [
    "y_vld = pd.read_csv('../Datasets/ensaio_regressao/Y_vld.csv')"
   ]
  },
  {
   "cell_type": "code",
   "execution_count": 21,
   "id": "948a82f5-afab-45d3-919d-d6d44ab2fa34",
   "metadata": {},
   "outputs": [],
   "source": [
    "x_test = pd.read_csv('../Datasets/ensaio_regressao/X_test.csv')"
   ]
  },
  {
   "cell_type": "code",
   "execution_count": 22,
   "id": "cb5ddc3f-de5e-48fa-af18-eba6a95ef19b",
   "metadata": {},
   "outputs": [],
   "source": [
    "y_test = pd.read_csv('../Datasets/ensaio_regressao/Y_test.csv')"
   ]
  },
  {
   "cell_type": "code",
   "execution_count": 23,
   "id": "dc62b963-dbc0-444e-8744-43a18ebdb4e2",
   "metadata": {},
   "outputs": [],
   "source": [
    "# Juntando os dados de treinamento com os dados de validação\n",
    "x_train_vld, y_train_vld = join_data(x_train, x_vld, y_train, y_vld)"
   ]
  },
  {
   "cell_type": "code",
   "execution_count": 24,
   "id": "bd839a5b-ca3b-4167-8775-6faceb47129f",
   "metadata": {},
   "outputs": [],
   "source": [
    "# Juntando os dados de teste com os dados juntados anteriormente\n",
    "x, y = join_data(x_test, x_train_vld, y_test, y_train_vld)"
   ]
  },
  {
   "cell_type": "markdown",
   "id": "929bf5bd-3886-41fc-8de3-eb738a67dcc7",
   "metadata": {
    "jp-MarkdownHeadingCollapsed": true
   },
   "source": [
    "# Training supervised regression learning algorithms"
   ]
  },
  {
   "cell_type": "markdown",
   "id": "76ef8023-138d-444d-8429-bd1e064458ca",
   "metadata": {
    "jp-MarkdownHeadingCollapsed": true
   },
   "source": [
    "### Linear Regressionn"
   ]
  },
  {
   "cell_type": "markdown",
   "id": "10608423-8612-497c-b368-f124bbaf2949",
   "metadata": {
    "jp-MarkdownHeadingCollapsed": true
   },
   "source": [
    "#### Para dados de treinamento"
   ]
  },
  {
   "cell_type": "code",
   "execution_count": 25,
   "id": "be1ee11a-1157-4b80-82db-53243ba71e9e",
   "metadata": {},
   "outputs": [],
   "source": [
    "model_lr = LinearRegression()"
   ]
  },
  {
   "cell_type": "code",
   "execution_count": 26,
   "id": "06a2d478-82bf-456a-9642-67e56105e949",
   "metadata": {},
   "outputs": [],
   "source": [
    "lr_train = model_lr.fit(x_train, y_train)"
   ]
  },
  {
   "cell_type": "markdown",
   "id": "283a8b91-f655-41e2-9510-ca84fb1eef97",
   "metadata": {
    "jp-MarkdownHeadingCollapsed": true
   },
   "source": [
    "#### Para dados de validação"
   ]
  },
  {
   "cell_type": "code",
   "execution_count": 27,
   "id": "df65ace6-456f-41aa-8d9b-d4402cdd6321",
   "metadata": {},
   "outputs": [],
   "source": [
    "lr_vld = model_lr.fit(x_train_vld, y_train_vld)"
   ]
  },
  {
   "cell_type": "markdown",
   "id": "41a6a18d-1179-4a23-bbb8-cff9594787bd",
   "metadata": {
    "jp-MarkdownHeadingCollapsed": true
   },
   "source": [
    "#### Para dados de teste"
   ]
  },
  {
   "cell_type": "code",
   "execution_count": 28,
   "id": "dbf166a8-d2e8-4da9-98e0-f50794cfa8d8",
   "metadata": {},
   "outputs": [],
   "source": [
    "lr_test = model_lr.fit(x, y)"
   ]
  },
  {
   "cell_type": "markdown",
   "id": "de7f74b2-6eea-42ce-9b72-0b4d4da771ed",
   "metadata": {
    "jp-MarkdownHeadingCollapsed": true
   },
   "source": [
    "### Decision Tree Regressor"
   ]
  },
  {
   "cell_type": "markdown",
   "id": "ff1ddafa-dca6-42da-bbe7-b0cb5635827a",
   "metadata": {
    "jp-MarkdownHeadingCollapsed": true
   },
   "source": [
    "#### Para dados de treinamento"
   ]
  },
  {
   "cell_type": "code",
   "execution_count": 29,
   "id": "317bb5a0-d876-40c7-97d4-50348a2738b3",
   "metadata": {},
   "outputs": [],
   "source": [
    "model_tree_r = DecisionTreeRegressor()\n",
    "tree_r_train = model_tree_r.fit(x_train, y_train)"
   ]
  },
  {
   "cell_type": "markdown",
   "id": "b9b2d40b-3ff2-400d-97c7-39acaecb2aed",
   "metadata": {
    "jp-MarkdownHeadingCollapsed": true
   },
   "source": [
    "#### Para dados de validação"
   ]
  },
  {
   "cell_type": "code",
   "execution_count": 30,
   "id": "b47199a3-c197-4ff5-a699-c48d97bbe973",
   "metadata": {},
   "outputs": [],
   "source": [
    "model_tree_r = DecisionTreeRegressor(max_depth=20)"
   ]
  },
  {
   "cell_type": "code",
   "execution_count": 31,
   "id": "84ee2d33-5466-49c9-80c9-12ee371bb86a",
   "metadata": {},
   "outputs": [],
   "source": [
    "tree_r_vld = model_tree_r.fit(x_train_vld, y_train_vld)"
   ]
  },
  {
   "cell_type": "markdown",
   "id": "127dde34-bcb0-4e36-9e32-5c3ac14049c5",
   "metadata": {
    "jp-MarkdownHeadingCollapsed": true
   },
   "source": [
    "##### Obtendo o melhor parametro"
   ]
  },
  {
   "cell_type": "code",
   "execution_count": null,
   "id": "e3e4dc04-beee-48b3-a26f-d722e3a5c995",
   "metadata": {},
   "outputs": [],
   "source": [
    "# Valores de d\n",
    "d_values = list(range(1, 40))\n",
    "\n",
    "# Lista para armazenar os valores da R2\n",
    "list_r2_tree_r = []\n",
    "\n",
    "# Lista para armazenar os valores da MSE\n",
    "list_mse_tree_r = []\n",
    "\n",
    "# Lista para armazenar os valores da RMSE\n",
    "list_rmse_tree_r = []\n",
    "\n",
    "# Lista para armazenar os valores da MAE\n",
    "list_mae_tree_r = []\n",
    "\n",
    "# Lista para armazenar os valores da MAPE\n",
    "list_mape_tree_r = []\n",
    "\n",
    "for d in d_values:\n",
    "    # Treinando o algoritmo\n",
    "    tree_r = DecisionTreeRegressor(max_depth=d).fit(x_train, y_train)\n",
    "    \n",
    "    # Previsão\n",
    "    y_pred = tree_r.predict(x_vld)\n",
    "    \n",
    "    # Performance  \n",
    "    r2_tree_r = mt.r2_score(y_vld, y_pred)\n",
    "    list_r2_tree_r.append(r2_tree_r)\n",
    "\n",
    "    mse_tree_r = mt.mean_squared_error(y_vld, y_pred)\n",
    "    list_mse_tree_r.append(mse_tree_r)\n",
    "\n",
    "    rmse_tree_r = np.sqrt(mse_tree_r)\n",
    "    list_rmse_tree_r.append(rmse_tree_r)\n",
    "\n",
    "    mae_tree_r = mt.mean_absolute_error(y_vld, y_pred)\n",
    "    list_mae_tree_r.append(mae_tree_r)\n",
    "\n",
    "    y_vld_array = y_vld.values # Convertendo o DataFrame em um numpy.ndarray\n",
    "\n",
    "    mape_tree_r = np.mean(np.abs((y_vld_array - y_pred) / y_vld_array)) * 100\n",
    "    list_mape_tree_r.append(mape_tree_r)"
   ]
  },
  {
   "cell_type": "code",
   "execution_count": null,
   "id": "145d62f5-3ac0-4b2c-94cb-2e1fef8bc74c",
   "metadata": {},
   "outputs": [],
   "source": [
    "# Plot the results\n",
    "plt.plot(d_values, list_r2_tree_r, marker='o', linestyle='-', label='R2')\n",
    "plt.plot(d_values, list_mse_tree_r, marker='o', linestyle='-', label='MSE')\n",
    "plt.plot(d_values, list_rmse_tree_r, marker='o', linestyle='-', label='RMSE')\n",
    "plt.plot(d_values, list_mae_tree_r, marker='o', linestyle='-', label='MAE')\n",
    "plt.plot(d_values, list_mape_tree_r, marker='o', linestyle='-', label='MAPE')\n",
    "\n",
    "plt.xlabel('Valor de max_depth')\n",
    "plt.ylabel('Performance')\n",
    "plt.legend()\n",
    "plt.grid(True)\n",
    "plt.show()"
   ]
  },
  {
   "cell_type": "code",
   "execution_count": null,
   "id": "2c5fff86-16a1-42a3-ae70-0539361e4946",
   "metadata": {},
   "outputs": [],
   "source": [
    "# Plot the results\n",
    "plt.scatter(x_train.loc[:, ['song_duration_ms']], y_train, edgecolor=\"black\", c=\"darkorange\", label=\"dado de treinamento\")\n",
    "plt.plot(x_vld, y_pred, color=\"cornflowerblue\", label=\"max_depth=2\", linewidth=2)\n",
    "# plt.plot(X_test, y_2, color=\"yellowgreen\", label=\"max_depth=5\", linewidth=2)\n",
    "plt.xlabel(\"feature\")\n",
    "plt.ylabel(\"target = label - é o que estamos tentando prever\")\n",
    "plt.title(\"Decision Tree Regression\")\n",
    "plt.legend()\n",
    "plt.show()"
   ]
  },
  {
   "cell_type": "markdown",
   "id": "07ae081c-4207-4920-8392-24acdc74c853",
   "metadata": {
    "jp-MarkdownHeadingCollapsed": true
   },
   "source": [
    "#### Para dados de teste"
   ]
  },
  {
   "cell_type": "code",
   "execution_count": 32,
   "id": "14740859-7211-4934-b17a-8c9fd5354fa2",
   "metadata": {},
   "outputs": [],
   "source": [
    "tree_r_test = model_tree_r.fit(x, y)"
   ]
  },
  {
   "cell_type": "markdown",
   "id": "413ad8d6-2de0-40ae-a179-d762d1f27fa7",
   "metadata": {
    "jp-MarkdownHeadingCollapsed": true
   },
   "source": [
    "### Random Forest Regressor"
   ]
  },
  {
   "cell_type": "markdown",
   "id": "3cfa906f-e019-4ce6-b4ab-f2aca27c54e2",
   "metadata": {
    "jp-MarkdownHeadingCollapsed": true
   },
   "source": [
    "#### Para dados de treinamento"
   ]
  },
  {
   "cell_type": "code",
   "execution_count": 34,
   "id": "31b38a39-4484-4f4d-a1c2-7ebb1aadbbbe",
   "metadata": {},
   "outputs": [],
   "source": [
    "rf_regressor = RandomForestRegressor()\n",
    "rf_regressor_train = rf_regressor.fit(x_train, y_train.values.ravel())"
   ]
  },
  {
   "cell_type": "markdown",
   "id": "b7f9c511-2957-4ec5-831d-3f985106e70e",
   "metadata": {
    "jp-MarkdownHeadingCollapsed": true
   },
   "source": [
    "#### Para dados de validação"
   ]
  },
  {
   "cell_type": "code",
   "execution_count": 35,
   "id": "1737936d-f838-451e-89dc-cd8cae7f326f",
   "metadata": {},
   "outputs": [],
   "source": [
    "rf_regressor = RandomForestRegressor(n_estimators=200, max_depth=30)\n",
    "rf_regressor_vld = rf_regressor.fit(x_train_vld, y_train_vld.values.ravel())"
   ]
  },
  {
   "cell_type": "markdown",
   "id": "faff0ede-6d64-4162-820b-6a91c166e5c4",
   "metadata": {
    "jp-MarkdownHeadingCollapsed": true
   },
   "source": [
    "##### Obtendo o melhor parâmetro"
   ]
  },
  {
   "cell_type": "code",
   "execution_count": null,
   "id": "31e96129-261d-4a12-b687-bdfa503df6dc",
   "metadata": {},
   "outputs": [],
   "source": [
    "# Crie um dicionário de hiperparâmetros que deseja ajustar\n",
    "param_grid = {\n",
    "    'n_estimators': [50, 100, 200],\n",
    "    'max_depth': [None, 10, 20, 30],\n",
    "    'min_samples_split': [2, 5, 10],\n",
    "    'min_samples_leaf': [1, 2, 4],\n",
    "    'max_features': ['auto', 'sqrt', 'log2']\n",
    "}\n",
    "\n",
    "# Crie o regressor Random Forest\n",
    "rf_regressor = RandomForestRegressor()\n",
    "\n",
    "# Crie o objeto GridSearchCV para encontrar os melhores hiperparâmetros\n",
    "grid_search = GridSearchCV(estimator=rf_regressor, param_grid=param_grid, cv=5, scoring='neg_mean_squared_error', n_jobs=-1)\n",
    "\n",
    "# Realize a busca em grade nos dados de treinamento\n",
    "grid_search.fit(x_train, y_train.values.ravel())\n",
    "\n",
    "# Exiba os melhores hiperparâmetros encontrados\n",
    "best_params = grid_search.best_params_\n",
    "print(\"Melhores hiperparâmetros encontrados:\")\n",
    "print(best_params)\n",
    "\n",
    "# Treine um novo modelo com os melhores hiperparâmetros no conjunto de treinamento completo\n",
    "best_rf_regressor = RandomForestRegressor(random_state=42, **best_params)\n",
    "best_rf_regressor.fit(x_train, y_train)\n",
    "\n",
    "# Avalie o modelo final no conjunto de teste\n",
    "y_pred = best_rf_regressor.predict(x_vld)\n",
    "mse = mt.mean_squared_error(y_vld, y_pred)\n",
    "print(f\"Erro médio quadrático no conjunto de teste: {mse}\")"
   ]
  },
  {
   "cell_type": "code",
   "execution_count": null,
   "id": "3604b947-4683-43f8-b97a-2b6db3a2dc60",
   "metadata": {},
   "outputs": [],
   "source": [
    "# Avalie o modelo final no conjunto de teste\n",
    "y_pred = best_rf_regressor.predict(x_train)\n",
    "mse = mt.mean_squared_error(y_train, y_pred)\n",
    "print(f\"Erro médio quadrático no conjunto de teste: {mse}\")"
   ]
  },
  {
   "cell_type": "markdown",
   "id": "51a9ca95-35f6-4bf6-abd7-b92ea75e5025",
   "metadata": {
    "jp-MarkdownHeadingCollapsed": true
   },
   "source": [
    "#### Para dados de teste"
   ]
  },
  {
   "cell_type": "code",
   "execution_count": 36,
   "id": "a4b325e3-4f4b-4722-bab1-a791c0e904a7",
   "metadata": {},
   "outputs": [],
   "source": [
    "rf_regressor_test = rf_regressor.fit(x, y.values.ravel())"
   ]
  },
  {
   "cell_type": "markdown",
   "id": "a0d18512-54b4-44c4-90d8-1a2337ea753d",
   "metadata": {
    "jp-MarkdownHeadingCollapsed": true
   },
   "source": [
    "### Polinomial Regression"
   ]
  },
  {
   "cell_type": "markdown",
   "id": "c1365532-d33d-40a2-8548-c1f160b89deb",
   "metadata": {
    "jp-MarkdownHeadingCollapsed": true
   },
   "source": [
    "#### Para dados de treinamento"
   ]
  },
  {
   "cell_type": "code",
   "execution_count": 37,
   "id": "e6202559-2dce-40d8-8a87-5aa2c191261b",
   "metadata": {},
   "outputs": [],
   "source": [
    "poly_features_pr_train = PolynomialFeatures()\n",
    "x_poly_train = poly_features_pr_train.fit_transform(x_train)"
   ]
  },
  {
   "cell_type": "code",
   "execution_count": 38,
   "id": "5bfca42b-bd45-44e0-bbd2-3da8597c421c",
   "metadata": {},
   "outputs": [],
   "source": [
    "model_pr = LinearRegression()\n",
    "pr_train = model_pr.fit(x_poly_train, y_train)"
   ]
  },
  {
   "cell_type": "markdown",
   "id": "0f689d16-ed6f-4264-8dee-26c7480c7686",
   "metadata": {
    "jp-MarkdownHeadingCollapsed": true
   },
   "source": [
    "#### Para dados de validação"
   ]
  },
  {
   "cell_type": "code",
   "execution_count": 39,
   "id": "478a3224-5192-40c5-9014-48a9934953b5",
   "metadata": {},
   "outputs": [],
   "source": [
    "poly_features_pr_vld = PolynomialFeatures(degree=2)\n",
    "x_poly_train_vld = poly_features_pr_vld.fit_transform(x_train_vld)"
   ]
  },
  {
   "cell_type": "code",
   "execution_count": 40,
   "id": "280567e2-1c41-44c8-b7b9-d3802e51efaa",
   "metadata": {},
   "outputs": [],
   "source": [
    "model_pr = LinearRegression()\n",
    "pr_vld = model_pr.fit(x_poly_train_vld, y_train_vld)"
   ]
  },
  {
   "cell_type": "markdown",
   "id": "8f2e7276-ed5d-4f9b-a71c-d521f6600344",
   "metadata": {
    "jp-MarkdownHeadingCollapsed": true
   },
   "source": [
    "##### Obtendo o melhor valor para os parametros"
   ]
  },
  {
   "cell_type": "code",
   "execution_count": null,
   "id": "2134cce3-4c9a-48f1-9cd8-4353588bccc4",
   "metadata": {},
   "outputs": [],
   "source": [
    "# Transformar os recursos em recursos polinomiais\n",
    "poly_features = PolynomialFeatures(degree=2)  # Grau do polinômio\n",
    "X_poly = poly_features.fit_transform(x_train)"
   ]
  },
  {
   "cell_type": "code",
   "execution_count": null,
   "id": "257ee8f7-0671-4ed2-9820-0f13f9d49d3c",
   "metadata": {},
   "outputs": [],
   "source": [
    "# Treinar o modelo de regressão linear\n",
    "model = LinearRegression()\n",
    "model.fit(X_poly, y_train)"
   ]
  },
  {
   "cell_type": "code",
   "execution_count": null,
   "id": "7981caea-f52e-40da-bfcc-52b95b86ed23",
   "metadata": {},
   "outputs": [],
   "source": [
    "# Fazer previsões\n",
    "X_vld_poly = poly_features.transform(x_vld)  # Transformar os dados de teste em recursos polinomiais\n",
    "y_pred = model.predict(X_vld_poly)  # Fazer previsões"
   ]
  },
  {
   "cell_type": "code",
   "execution_count": null,
   "id": "f2586853-adea-4602-9d91-8cdec833df6d",
   "metadata": {},
   "outputs": [],
   "source": [
    "# Plotar os dados originais\n",
    "plt.scatter(x_train.iloc[:, 0], y_train, label='Dados originais')\n",
    "\n",
    "# Plotar as previsões do modelo\n",
    "plt.plot(x_vld, y_pred, color='red', label='Previsões')\n",
    "\n",
    "plt.xlabel('x_train')\n",
    "plt.ylabel('y_train')\n",
    "plt.legend()\n",
    "plt.show()"
   ]
  },
  {
   "cell_type": "code",
   "execution_count": null,
   "id": "f0b1b235-e17f-4ae6-93c3-be650d9a02d8",
   "metadata": {},
   "outputs": [],
   "source": [
    "# Lista para armazenar os escores de validação cruzada\n",
    "cross_val_scores = []\n",
    "\n",
    "# Range de graus de polinômio para tentar\n",
    "degrees = list(range(4, 6))\n",
    "\n",
    "for degree in degrees:\n",
    "    # Transformar os recursos em recursos polinomiais\n",
    "    poly_features = PolynomialFeatures(degree=degree)\n",
    "    X_poly = poly_features.fit_transform(x_train)\n",
    "\n",
    "    # Criar e ajustar o modelo de regressão linear\n",
    "    model = LinearRegression()\n",
    "    \n",
    "    # Calcular o erro médio quadrático usando validação cruzada\n",
    "    mse_scores = -cross_val_score(model, X_poly, y_train, cv=5, scoring='neg_mean_squared_error')\n",
    "    \n",
    "    # Calcular a média dos erros quadráticos\n",
    "    mean_mse = mse_scores.mean()\n",
    "    \n",
    "    # Armazenar a pontuação média de validação cruzada para este grau do polinômio\n",
    "    cross_val_scores.append(mean_mse)\n",
    "\n",
    "# Encontrar o grau do polinômio com o menor erro médio quadrático\n",
    "best_degree = degrees[np.argmin(cross_val_scores)]\n",
    "print(f\"O melhor grau do polinômio é {best_degree}\")"
   ]
  },
  {
   "cell_type": "code",
   "execution_count": null,
   "id": "f99cf685-a925-43f0-abb5-9aedf103eb63",
   "metadata": {},
   "outputs": [],
   "source": [
    "# Plotar os resultados\n",
    "plt.plot(degrees, cross_val_scores, marker='o')\n",
    "plt.xlabel('Grau do Polinômio')\n",
    "plt.ylabel('Erro Médio Quadrático (MSE)')\n",
    "plt.title('Erro Médio Quadrático vs. Grau do Polinômio')\n",
    "plt.show()"
   ]
  },
  {
   "cell_type": "markdown",
   "id": "8f3ffbf4-b0bc-42dc-b008-98ede840eef2",
   "metadata": {
    "jp-MarkdownHeadingCollapsed": true
   },
   "source": [
    "#### Para dados de teste"
   ]
  },
  {
   "cell_type": "code",
   "execution_count": 41,
   "id": "64a9c973-c19f-40d9-9ede-bdcbcfdba3c1",
   "metadata": {},
   "outputs": [],
   "source": [
    "poly_features_pr_test = PolynomialFeatures(degree=2)\n",
    "x_poly_test = poly_features_pr_test.fit_transform(x)"
   ]
  },
  {
   "cell_type": "code",
   "execution_count": 42,
   "id": "74f35e60-a770-40ce-ab59-c93b2dd0f8b4",
   "metadata": {},
   "outputs": [],
   "source": [
    "model_pr = LinearRegression()\n",
    "pr_test = model_pr.fit(x_poly_test, y)"
   ]
  },
  {
   "cell_type": "markdown",
   "id": "478cd62c-e169-466b-ab4f-4f061f796b4f",
   "metadata": {
    "jp-MarkdownHeadingCollapsed": true
   },
   "source": [
    "### Linear Regression Lasso"
   ]
  },
  {
   "cell_type": "markdown",
   "id": "112e7f33-c38a-446c-83a0-5132434ce2cd",
   "metadata": {
    "jp-MarkdownHeadingCollapsed": true
   },
   "source": [
    "#### Para dados de treinamento"
   ]
  },
  {
   "cell_type": "code",
   "execution_count": 43,
   "id": "46d3e4d9-8b20-4c7a-b9e5-c20862197ac0",
   "metadata": {},
   "outputs": [],
   "source": [
    "model_lr_lasso = Lasso()\n",
    "lr_lasso_train = model_lr_lasso.fit(x_train, y_train)"
   ]
  },
  {
   "cell_type": "markdown",
   "id": "8885957d-bd78-427d-b890-af993ae6ae11",
   "metadata": {
    "jp-MarkdownHeadingCollapsed": true
   },
   "source": [
    "#### Para dados de validação"
   ]
  },
  {
   "cell_type": "code",
   "execution_count": 44,
   "id": "3f8fa7d1-b700-4f76-aa73-6c0206f2c362",
   "metadata": {},
   "outputs": [],
   "source": [
    "model_lr_lasso = Lasso(alpha=0.001, max_iter=1000)\n",
    "lr_lasso_vld = model_lr_lasso.fit(x_train_vld, y_train_vld)"
   ]
  },
  {
   "cell_type": "markdown",
   "id": "76941cc0-7b77-44b2-9ed1-81443f3be14f",
   "metadata": {
    "jp-MarkdownHeadingCollapsed": true
   },
   "source": [
    "##### Obtendo o melhor valor para os parametros"
   ]
  },
  {
   "cell_type": "code",
   "execution_count": null,
   "id": "04133d1f-6dea-418a-8ccb-320525146b17",
   "metadata": {},
   "outputs": [],
   "source": [
    "# Defina uma grade de valores de hiperparâmetros para testar\n",
    "param_grid = {'alpha': [0.001, 0.01, 0.1, 1.0, 10.0]}\n",
    "\n",
    "# Crie o modelo Lasso\n",
    "lasso = Lasso()\n",
    "\n",
    "# Use GridSearchCV para encontrar os melhores parâmetros\n",
    "grid_search = GridSearchCV(lasso, param_grid, cv=5, scoring='neg_mean_squared_error')\n",
    "grid_search.fit(x_train, y_train)\n",
    "\n",
    "# Obtenha os melhores parâmetros\n",
    "best_alpha = grid_search.best_params_['alpha']"
   ]
  },
  {
   "cell_type": "code",
   "execution_count": null,
   "id": "5dab5aeb-0fc8-4031-8275-dc5a11c0705d",
   "metadata": {},
   "outputs": [],
   "source": [
    "# Crie o modelo Lasso com os melhores parâmetros\n",
    "lasso_model = Lasso(alpha=best_alpha)\n",
    "\n",
    "# Treine o modelo com os dados de treinamento\n",
    "lasso_model.fit(x_train, y_train)\n",
    "\n",
    "# Faça previsões no conjunto de validação\n",
    "y_pred = lasso_model.predict(x_vld)\n",
    "\n",
    "# Avalie o desempenho do modelo\n",
    "mse = mt.mean_squared_error(y_vld, y_pred)\n",
    "r2 = mt.r2_score(y_vld, y_pred)\n",
    "\n",
    "print(f'Melhor valor de alpha: {best_alpha}')\n",
    "print(f'MSE: {mse}')\n",
    "print(f'R-squared: {r2}')"
   ]
  },
  {
   "cell_type": "markdown",
   "id": "5499b560-1a8a-4140-b735-dc505739afef",
   "metadata": {
    "jp-MarkdownHeadingCollapsed": true
   },
   "source": [
    "#### Para dados de teste"
   ]
  },
  {
   "cell_type": "code",
   "execution_count": 45,
   "id": "8ca84a37-f9da-4622-bbb9-8940133c0574",
   "metadata": {},
   "outputs": [],
   "source": [
    "model_lr_lasso = Lasso(alpha=0.001, max_iter=1000)\n",
    "lr_lasso_test = model_lr_lasso.fit(x, y)"
   ]
  },
  {
   "cell_type": "markdown",
   "id": "c959c141-b5f5-48f2-a30a-ddfb045f6213",
   "metadata": {
    "jp-MarkdownHeadingCollapsed": true
   },
   "source": [
    "### Linear Regression Ridge"
   ]
  },
  {
   "cell_type": "markdown",
   "id": "2934887d-6374-43f5-bd7c-e5a42d1b485c",
   "metadata": {
    "jp-MarkdownHeadingCollapsed": true
   },
   "source": [
    "#### Para dados de treinamento"
   ]
  },
  {
   "cell_type": "code",
   "execution_count": 48,
   "id": "f6b9b706-9759-4966-92dc-9a68127a0d31",
   "metadata": {},
   "outputs": [],
   "source": [
    "alpha = 1\n",
    "max_iter = None\n",
    "model_lr_ridge = Ridge(alpha=alpha, max_iter=max_iter)\n",
    "lr_ridge_train = model_lr_ridge.fit(x_train, y_train)"
   ]
  },
  {
   "cell_type": "markdown",
   "id": "f2858739-0f62-4deb-8855-35ba628b7e2d",
   "metadata": {
    "jp-MarkdownHeadingCollapsed": true
   },
   "source": [
    "#### Para dados de validação"
   ]
  },
  {
   "cell_type": "code",
   "execution_count": 50,
   "id": "d66e6163-1579-4a9d-b5fc-365deef1bf58",
   "metadata": {},
   "outputs": [],
   "source": [
    "alpha = 10\n",
    "max_iter = 1000\n",
    "model_lr_ridge = Ridge(alpha=alpha, max_iter=max_iter)\n",
    "lr_ridge_vld = model_lr_ridge.fit(x_train_vld, y_train_vld)"
   ]
  },
  {
   "cell_type": "markdown",
   "id": "019d0eda-0f35-4a4b-b9ef-fcc4d0df0eb3",
   "metadata": {
    "jp-MarkdownHeadingCollapsed": true
   },
   "source": [
    "##### Obtendo o melhor parametro"
   ]
  },
  {
   "cell_type": "code",
   "execution_count": null,
   "id": "b744fea5-b62b-4a83-a4f5-8178d43792c0",
   "metadata": {},
   "outputs": [],
   "source": [
    "# Defina uma grade de valores de hiperparâmetros para testar\n",
    "param_grid = {'alpha': [0.001, 0.01, 0.1, 1.0, 10.0]}\n",
    "\n",
    "# Crie um objeto de regressão Ridge\n",
    "ridge_reg = Ridge()  # O parâmetro alpha controla a força da regularização\n",
    "\n",
    "# Use GridSearchCV para encontrar os melhores parâmetros\n",
    "grid_search = GridSearchCV(ridge_reg, param_grid, cv=5, scoring='neg_mean_squared_error')\n",
    "grid_search.fit(x_train, y_train)\n",
    "\n",
    "# Obtenha os melhores parâmetros\n",
    "best_alpha = grid_search.best_params_['alpha']"
   ]
  },
  {
   "cell_type": "code",
   "execution_count": null,
   "id": "43c52b9a-07cb-480e-872e-c77411e1a11f",
   "metadata": {},
   "outputs": [],
   "source": [
    "ridge_reg = Ridge(alpha=best_alpha)\n",
    "\n",
    "# Treine o modelo com os dados de treinamento\n",
    "ridge_reg.fit(x_train, y_train)\n",
    "\n",
    "# Faça previsões no conjunto de validação\n",
    "y_pred = ridge_reg.predict(x_vld)\n",
    "\n",
    "# Avalie o desempenho do modelo\n",
    "mse = mt.mean_squared_error(y_vld, y_pred)\n",
    "r2 = mt.r2_score(y_vld, y_pred)\n",
    "\n",
    "print(f'Melhor valor de alpha: {best_alpha}')\n",
    "print(f'MSE: {mse}')\n",
    "print(f'R-squared: {r2}')"
   ]
  },
  {
   "cell_type": "markdown",
   "id": "106d0cd1-7e2c-4584-9f89-7d0535895464",
   "metadata": {
    "jp-MarkdownHeadingCollapsed": true
   },
   "source": [
    "#### Para dados de teste"
   ]
  },
  {
   "cell_type": "code",
   "execution_count": 51,
   "id": "491f835c-54a7-4e63-bf38-b06c4a073ebb",
   "metadata": {},
   "outputs": [],
   "source": [
    "alpha = 10\n",
    "max_iter = 1000\n",
    "model_lr_ridge = Ridge(alpha=alpha, max_iter=max_iter)\n",
    "lr_ridge_test = model_lr_ridge.fit(x, y)"
   ]
  },
  {
   "cell_type": "markdown",
   "id": "408a7e75-4c48-4894-9e76-a087183ebea6",
   "metadata": {
    "jp-MarkdownHeadingCollapsed": true
   },
   "source": [
    "### Linear Regression Elastic Net"
   ]
  },
  {
   "cell_type": "markdown",
   "id": "789667ec-bea1-4031-8b9e-cb8ce2451241",
   "metadata": {
    "jp-MarkdownHeadingCollapsed": true
   },
   "source": [
    "#### Para dados de treinamento"
   ]
  },
  {
   "cell_type": "code",
   "execution_count": 54,
   "id": "a836351c-8f84-44c3-9c70-b0f9513ece6d",
   "metadata": {},
   "outputs": [],
   "source": [
    "alpha = 1 \n",
    "l1_ratio = 0.5\n",
    "max_iterint = 1000\n",
    "model_elastic_net = ElasticNet(alpha=alpha, l1_ratio=l1_ratio, max_iter=max_iterint)\n",
    "lr_elastic_net_train = model_elastic_net.fit(x_train, y_train)"
   ]
  },
  {
   "cell_type": "markdown",
   "id": "45cca8ae-9876-408a-8b5c-61d1ed59f393",
   "metadata": {
    "jp-MarkdownHeadingCollapsed": true
   },
   "source": [
    "#### Para dados de validação"
   ]
  },
  {
   "cell_type": "code",
   "execution_count": 55,
   "id": "5da9655a-1c80-4c3b-bf10-1446947c6328",
   "metadata": {},
   "outputs": [],
   "source": [
    "alpha=0.001\n",
    "l1_ratio=0.5\n",
    "max_iterint=1000\n",
    "model_elastic_net = ElasticNet(alpha=alpha, l1_ratio=l1_ratio, max_iter=max_iterint)\n",
    "lr_elastic_net_vld = model_elastic_net.fit(x_train, y_train)"
   ]
  },
  {
   "cell_type": "markdown",
   "id": "42a584ff-eaae-4e2c-a69a-02e156ffe5e0",
   "metadata": {
    "jp-MarkdownHeadingCollapsed": true
   },
   "source": [
    "##### Obtendo os melhores valores para o parametro"
   ]
  },
  {
   "cell_type": "code",
   "execution_count": null,
   "id": "0582ecae-ec02-41fd-bc12-3d6e3763b3dd",
   "metadata": {
    "scrolled": true
   },
   "outputs": [],
   "source": [
    "# Crie um modelo Elastic Net\n",
    "max_iter = 1000\n",
    "alpha = 0.001 # Parâmetro de regularização (alpha)\n",
    "l1_ratio = 0.5 # Proporção de regularização L1 (0.5 significa que é uma combinação igual de L1 e L2)\n",
    "elastic_net = ElasticNet(alpha=alpha, l1_ratio=l1_ratio, max_iter=max_iter)\n",
    "\n",
    "# Treine o modelo\n",
    "elastic_net.fit(x_train, y_train)\n",
    "\n",
    "# Faça previsões no conjunto de teste\n",
    "y_pred = elastic_net.predict(x_vld)\n",
    "\n",
    "# Avalie o desempenho do modelo\n",
    "mse = mt.mean_squared_error(y_vld, y_pred)\n",
    "r2 = mt.r2_score(y_vld, y_pred)\n",
    "\n",
    "print(f\"Mean Squared Error: {mse:.2f}\")\n",
    "print(f\"R-squared: {r2:.2f}\")"
   ]
  },
  {
   "cell_type": "markdown",
   "id": "89882de4-57d5-482c-8f3a-5f5287145bf2",
   "metadata": {
    "jp-MarkdownHeadingCollapsed": true
   },
   "source": [
    "#### Para dados de teste"
   ]
  },
  {
   "cell_type": "code",
   "execution_count": 56,
   "id": "0bb76f62-d047-4cfa-bf4c-de6c0f3c5d28",
   "metadata": {},
   "outputs": [],
   "source": [
    "alpha=0.001\n",
    "l1_ratio=0.5\n",
    "max_iterint=1000\n",
    "model_elastic_net = ElasticNet(alpha=alpha, l1_ratio=l1_ratio, max_iter=max_iterint)\n",
    "lr_elastic_net_test = model_elastic_net.fit(x, y)"
   ]
  },
  {
   "cell_type": "markdown",
   "id": "0b029a7a-aa19-4804-80a7-5c61d25e473f",
   "metadata": {
    "jp-MarkdownHeadingCollapsed": true
   },
   "source": [
    "### Polinomial Regression Lasso"
   ]
  },
  {
   "cell_type": "markdown",
   "id": "75903e9c-9a63-47fb-a6e8-3e08fba78aae",
   "metadata": {
    "jp-MarkdownHeadingCollapsed": true
   },
   "source": [
    "#### Para dados de treinamento"
   ]
  },
  {
   "cell_type": "code",
   "execution_count": 57,
   "id": "d52b6ffc-c1e6-48a2-941c-485d5ee154d2",
   "metadata": {},
   "outputs": [],
   "source": [
    "poly_features_pr_lasso_train = PolynomialFeatures()\n",
    "x_train_poly = poly_features_pr_lasso_train.fit_transform(x_train)\n",
    "\n",
    "model_pr_lasso = Lasso()\n",
    "pr_lasso_train = model_pr_lasso.fit(x_train_poly, y_train)"
   ]
  },
  {
   "cell_type": "markdown",
   "id": "f249ebf8-2ed8-4cae-9bfc-a92d5ec4170c",
   "metadata": {
    "jp-MarkdownHeadingCollapsed": true
   },
   "source": [
    "#### Para dados de validação"
   ]
  },
  {
   "cell_type": "code",
   "execution_count": 58,
   "id": "de16fe7b-c963-4fff-af85-65eec8a5ce2f",
   "metadata": {},
   "outputs": [],
   "source": [
    "poly_features_pr_lasso_vld = PolynomialFeatures(degree=2)\n",
    "x_train_vld_poly = poly_features_pr_lasso_vld.fit_transform(x_train_vld)\n",
    "\n",
    "model_pr_lasso = Lasso(alpha=0.01, max_iter=1000)\n",
    "pr_lasso_vld = model_pr_lasso.fit(x_train_vld_poly, y_train_vld)"
   ]
  },
  {
   "cell_type": "markdown",
   "id": "8c6334b5-1576-4203-a6a4-f5916ebeb5ff",
   "metadata": {
    "jp-MarkdownHeadingCollapsed": true
   },
   "source": [
    "##### Obtendo os mehores valores para o parametro"
   ]
  },
  {
   "cell_type": "code",
   "execution_count": null,
   "id": "f0d9fbdc-4db9-45ae-8b1d-11a483b79639",
   "metadata": {},
   "outputs": [],
   "source": [
    "degree = 2\n",
    "alpha= 0.01\n",
    "max_iter= 1000\n",
    "\n",
    "poly_features = PolynomialFeatures(degree=degree)\n",
    "X_poly = poly_features.fit_transform(x_train)\n",
    "\n",
    "# Aplicando a regressão polinomial Lasso\n",
    "lasso_reg = Lasso(alpha=alpha, max_iter=max_iter)  # Alpha é o hiperparâmetro de regularização\n",
    "lasso_reg.fit(X_poly, y_train)\n",
    "\n",
    "# Predição\n",
    "X_new_poly = poly_features.transform(x_vld)\n",
    "y_pred = lasso_reg.predict(X_new_poly)\n",
    "\n",
    "mse = mt.mean_squared_error(y_vld, y_pred)\n",
    "\n",
    "print(f\"Mean Squared Error: {mse:.2f}\")"
   ]
  },
  {
   "cell_type": "markdown",
   "id": "766a3654-2b71-4aec-a1c6-fd4aac796283",
   "metadata": {
    "jp-MarkdownHeadingCollapsed": true
   },
   "source": [
    "#### Para dados de teste"
   ]
  },
  {
   "cell_type": "code",
   "execution_count": 60,
   "id": "92ecb297-7f5d-4e47-a92b-a9d80609d7d5",
   "metadata": {},
   "outputs": [],
   "source": [
    "poly_features_pr_lasso_test = PolynomialFeatures(degree=2)\n",
    "x_poly = poly_features_pr_lasso_test.fit_transform(x)\n",
    "\n",
    "model_pr_lasso = Lasso(alpha=0.01, max_iter=1000)\n",
    "pr_lasso_test = model_pr_lasso.fit(x_poly, y)"
   ]
  },
  {
   "cell_type": "markdown",
   "id": "2c1f38a3-2f80-4b42-a704-218e7fe71aa0",
   "metadata": {
    "jp-MarkdownHeadingCollapsed": true
   },
   "source": [
    "### Polinomial Regression Ridge"
   ]
  },
  {
   "cell_type": "markdown",
   "id": "9262d4e3-5dae-457d-99ba-0d745954c4a3",
   "metadata": {
    "jp-MarkdownHeadingCollapsed": true
   },
   "source": [
    "#### Para dados de treinamento"
   ]
  },
  {
   "cell_type": "code",
   "execution_count": 61,
   "id": "b73ad417-6d16-41ba-8f2e-ff99e687e8ff",
   "metadata": {},
   "outputs": [],
   "source": [
    "poly_features_pr_ridge_train = PolynomialFeatures()\n",
    "x_train_poly = poly_features_pr_ridge_train.fit_transform(x_train)\n",
    "\n",
    "model_pr_ridge = Ridge()\n",
    "pr_ridge_train = model_pr_ridge.fit(x_train_poly, y_train)"
   ]
  },
  {
   "cell_type": "markdown",
   "id": "cc00de9b-489f-41c7-b01c-9de605496c13",
   "metadata": {
    "jp-MarkdownHeadingCollapsed": true
   },
   "source": [
    "#### Para dados de validação"
   ]
  },
  {
   "cell_type": "code",
   "execution_count": 62,
   "id": "2fb1f43d-b31b-4a89-97a6-68fca8a14d93",
   "metadata": {},
   "outputs": [],
   "source": [
    "poly_features_pr_ridge_vld = PolynomialFeatures(degree=2)\n",
    "x_train_vld_poly = poly_features_pr_ridge_vld.fit_transform(x_train_vld)\n",
    "\n",
    "model_pr_ridge = Ridge(alpha=0.001, max_iter=1000)\n",
    "pr_ridge_vld = model_pr_ridge.fit(x_train_vld_poly, y_train_vld)"
   ]
  },
  {
   "cell_type": "markdown",
   "id": "a1de0231-f939-44b1-b733-e19918f42d2c",
   "metadata": {
    "jp-MarkdownHeadingCollapsed": true
   },
   "source": [
    "##### Obtendo os melhores valores para os parametros"
   ]
  },
  {
   "cell_type": "code",
   "execution_count": null,
   "id": "91a0870e-2c53-4898-bef6-4f37917baa06",
   "metadata": {},
   "outputs": [],
   "source": [
    "alpha = 0.001\n",
    "degree = 2\n",
    "max_iter = 1000\n",
    "poly = PolynomialFeatures(degree=degree)\n",
    "X_poly = poly.fit_transform(x_train)\n",
    "\n",
    "ridge = Ridge(alpha=alpha, max_iter=max_iter)\n",
    "ridge.fit(X_poly, y_train)\n",
    "\n",
    "X_test_poly = poly.transform(x_vld)\n",
    "y_pred = ridge.predict(X_test_poly)\n",
    "\n",
    "# Calcular o erro médio quadrático\n",
    "mse = mt.mean_squared_error(y_vld, y_pred)\n",
    "print(f\"Mean Squared Error: {mse}\")"
   ]
  },
  {
   "cell_type": "markdown",
   "id": "ee9f91ea-87c1-4c63-b4ca-a622adc9cef6",
   "metadata": {
    "jp-MarkdownHeadingCollapsed": true
   },
   "source": [
    "#### Para dados de teste"
   ]
  },
  {
   "cell_type": "code",
   "execution_count": 63,
   "id": "4a800374-27d9-49f4-8794-ccb2a7436106",
   "metadata": {},
   "outputs": [],
   "source": [
    "poly_features_pr_ridge_test = PolynomialFeatures(degree=2)\n",
    "x_poly = poly_features_pr_ridge_test.fit_transform(x)\n",
    "\n",
    "model_pr_ridge = Ridge(alpha=0.001, max_iter=1000)\n",
    "pr_ridge_test = model_pr_ridge.fit(x_poly, y)"
   ]
  },
  {
   "cell_type": "markdown",
   "id": "daf2f227-cb9b-4e80-9010-b3f7396f46a1",
   "metadata": {
    "jp-MarkdownHeadingCollapsed": true
   },
   "source": [
    "### Polinomial Regression Elastic Net"
   ]
  },
  {
   "cell_type": "markdown",
   "id": "ef43be6d-2f10-4d41-a016-ac12614d4d49",
   "metadata": {
    "jp-MarkdownHeadingCollapsed": true
   },
   "source": [
    "#### Para dados de treinamento"
   ]
  },
  {
   "cell_type": "code",
   "execution_count": 64,
   "id": "bf46e68f-4f55-4871-b830-7250db5d4753",
   "metadata": {},
   "outputs": [],
   "source": [
    "poly_features_pr_elastic_net_train = PolynomialFeatures()\n",
    "x_train_poly = poly_features_pr_elastic_net_train.fit_transform(x_train)\n",
    "\n",
    "model_pr_elastic_net = ElasticNet()\n",
    "pr_elastic_net_train = model_pr_elastic_net.fit(x_train_poly, y_train)"
   ]
  },
  {
   "cell_type": "markdown",
   "id": "94c872ee-9472-41b5-ae4c-3987bcfb9266",
   "metadata": {
    "jp-MarkdownHeadingCollapsed": true
   },
   "source": [
    "#### Para dados de validação"
   ]
  },
  {
   "cell_type": "code",
   "execution_count": 65,
   "id": "aa200b33-adef-4cc9-b7f6-3bfc67a967ba",
   "metadata": {},
   "outputs": [],
   "source": [
    "poly_features_pr_elastic_net_vld = PolynomialFeatures(degree=2)\n",
    "x_train_vld_poly = poly_features_pr_elastic_net_vld.fit_transform(x_train_vld)\n",
    "\n",
    "model_pr_elastic_net = ElasticNet(alpha=0.0001, l1_ratio=0.5, max_iter=100000)\n",
    "pr_elastic_net_vld = model_pr_elastic_net.fit(x_train_vld_poly, y_train_vld)"
   ]
  },
  {
   "cell_type": "markdown",
   "id": "1a655551-a7b2-4e01-8ab3-77a703c9dcdb",
   "metadata": {
    "jp-MarkdownHeadingCollapsed": true
   },
   "source": [
    "##### Obtendo os melhores valores para o parametro"
   ]
  },
  {
   "cell_type": "code",
   "execution_count": null,
   "id": "767922f2-3160-4a8b-a83b-3e4b1673c84c",
   "metadata": {},
   "outputs": [],
   "source": [
    "degree = 2  # Grau do polinômio\n",
    "alpha = 0.0001  # Parâmetro de regularização L1 (lasso)\n",
    "l1_ratio = 0.5  # Proporção de L1 em relação a L2 (0.5 para Elastic Net)\n",
    "max_iter = 100000\n",
    "\n",
    "poly = PolynomialFeatures(degree=degree)\n",
    "X_train_poly = poly.fit_transform(x_train)\n",
    "\n",
    "elastic_net = ElasticNet(alpha=alpha, l1_ratio=l1_ratio, max_iter=max_iter)\n",
    "elastic_net.fit(X_train_poly, y_train)\n",
    "\n",
    "x_vld_poly = poly.transform(x_vld)\n",
    "\n",
    "y_pred = elastic_net.predict(x_vld_poly)\n",
    "mse = mt.mean_squared_error(y_vld, y_pred)\n",
    "print(f\"Erro médio quadrático: {mse}\")"
   ]
  },
  {
   "cell_type": "markdown",
   "id": "bdc7c123-00e8-43a2-9ba1-7a9218b8a42a",
   "metadata": {
    "jp-MarkdownHeadingCollapsed": true
   },
   "source": [
    "#### Para dados de teste"
   ]
  },
  {
   "cell_type": "code",
   "execution_count": 66,
   "id": "c5be7cd3-e903-4cc0-9372-4604355802ff",
   "metadata": {},
   "outputs": [],
   "source": [
    "poly_features_pr_elastic_net_test = PolynomialFeatures(degree=2)\n",
    "x_poly = poly_features_pr_elastic_net_test.fit_transform(x)\n",
    "\n",
    "model_pr_elastic_net = ElasticNet(alpha=0.0001, l1_ratio=0.5, max_iter=100000)\n",
    "pr_elastic_net_test = model_pr_elastic_net.fit(x_poly, y)"
   ]
  },
  {
   "cell_type": "markdown",
   "id": "1fbc1252-370b-466e-b76d-9e112dd26e33",
   "metadata": {
    "jp-MarkdownHeadingCollapsed": true
   },
   "source": [
    "# Previsão das observações"
   ]
  },
  {
   "cell_type": "markdown",
   "id": "59945cf1-fe35-47c9-9b22-11331097d433",
   "metadata": {
    "jp-MarkdownHeadingCollapsed": true
   },
   "source": [
    "## Linear Regression"
   ]
  },
  {
   "cell_type": "markdown",
   "id": "f4e16ccf-e2d4-480a-8c45-5edd6cb43167",
   "metadata": {
    "jp-MarkdownHeadingCollapsed": true
   },
   "source": [
    "### Para dados de treinamento"
   ]
  },
  {
   "cell_type": "code",
   "execution_count": 67,
   "id": "120bb587-3117-4c29-a181-82c578934f8b",
   "metadata": {},
   "outputs": [],
   "source": [
    "y_pred_lr_train = lr_train.predict(x_vld)"
   ]
  },
  {
   "cell_type": "markdown",
   "id": "6b927ca8-1547-416b-9852-fbac5a600a9f",
   "metadata": {
    "jp-MarkdownHeadingCollapsed": true
   },
   "source": [
    "### Para dados de validação"
   ]
  },
  {
   "cell_type": "code",
   "execution_count": 68,
   "id": "3db236a3-2301-400f-a7f4-7efebaffe092",
   "metadata": {},
   "outputs": [],
   "source": [
    "y_pred_lr_vld = lr_vld.predict(x_test)"
   ]
  },
  {
   "cell_type": "markdown",
   "id": "e1ab889b-e4a6-4528-b43a-0a67d056e584",
   "metadata": {
    "jp-MarkdownHeadingCollapsed": true
   },
   "source": [
    "### Para dados de teste"
   ]
  },
  {
   "cell_type": "code",
   "execution_count": 69,
   "id": "326304d5-8096-4980-9589-e5cf820accb3",
   "metadata": {},
   "outputs": [],
   "source": [
    "y_pred_lr_test = lr_test.predict(x_test)"
   ]
  },
  {
   "cell_type": "markdown",
   "id": "27a4d2ee-3ed2-489c-8f8a-9da9b3e4a621",
   "metadata": {
    "jp-MarkdownHeadingCollapsed": true
   },
   "source": [
    "## Decision Tree Regressor"
   ]
  },
  {
   "cell_type": "markdown",
   "id": "fd22a69f-90f6-451c-ad0c-b2c47257b26a",
   "metadata": {
    "jp-MarkdownHeadingCollapsed": true
   },
   "source": [
    "### Para dados de treinamento"
   ]
  },
  {
   "cell_type": "code",
   "execution_count": 70,
   "id": "086c6b8d-fa08-49f0-93e6-24e4a55119ad",
   "metadata": {},
   "outputs": [],
   "source": [
    "y_pred_tree_r_train = tree_r_train.predict(x_vld)"
   ]
  },
  {
   "cell_type": "markdown",
   "id": "6fb372ba-412b-4a7e-aa66-422d5845f37d",
   "metadata": {
    "jp-MarkdownHeadingCollapsed": true
   },
   "source": [
    "### Para dados de validação"
   ]
  },
  {
   "cell_type": "code",
   "execution_count": 71,
   "id": "71b4d1b5-d574-4faa-b599-09619c6826df",
   "metadata": {},
   "outputs": [],
   "source": [
    "y_pred_tree_r_vld = tree_r_vld.predict(x_test)"
   ]
  },
  {
   "cell_type": "markdown",
   "id": "dbb2d9eb-5e66-434c-a324-c4053063a543",
   "metadata": {
    "jp-MarkdownHeadingCollapsed": true
   },
   "source": [
    "### Para dados de teste"
   ]
  },
  {
   "cell_type": "code",
   "execution_count": 72,
   "id": "3cbdea27-0dcb-4609-a20b-e75070219eef",
   "metadata": {},
   "outputs": [],
   "source": [
    "y_pred_tree_r_test = tree_r_test.predict(x_test)"
   ]
  },
  {
   "cell_type": "markdown",
   "id": "fc4c3443-9830-4a65-8984-54e444d52c20",
   "metadata": {
    "jp-MarkdownHeadingCollapsed": true
   },
   "source": [
    "## Random Forest Regressor"
   ]
  },
  {
   "cell_type": "markdown",
   "id": "c4af3e10-15f2-41f1-8e9b-54cb993e0ec0",
   "metadata": {
    "jp-MarkdownHeadingCollapsed": true
   },
   "source": [
    "### Para dados de treinamento"
   ]
  },
  {
   "cell_type": "code",
   "execution_count": 73,
   "id": "e467ca3d-6524-4e98-8f87-f7cd45ae9d26",
   "metadata": {},
   "outputs": [],
   "source": [
    "y_pred_rf_regressor_train = rf_regressor_train.predict(x_vld)"
   ]
  },
  {
   "cell_type": "markdown",
   "id": "d1f27bf7-7124-43ad-b18b-58952ef48447",
   "metadata": {
    "jp-MarkdownHeadingCollapsed": true
   },
   "source": [
    "### Para dados de validação"
   ]
  },
  {
   "cell_type": "code",
   "execution_count": 74,
   "id": "60412b0b-02ba-4ac6-afe5-259828f4b286",
   "metadata": {},
   "outputs": [],
   "source": [
    "y_pred_rf_regressor_vld = rf_regressor_vld.predict(x_test)"
   ]
  },
  {
   "cell_type": "markdown",
   "id": "e0ab8356-82f0-4884-a201-315b47ba50aa",
   "metadata": {
    "jp-MarkdownHeadingCollapsed": true
   },
   "source": [
    "### Para dados de teste"
   ]
  },
  {
   "cell_type": "code",
   "execution_count": 75,
   "id": "62f92186-cd86-4096-b2b6-11a685ed8339",
   "metadata": {},
   "outputs": [],
   "source": [
    "y_pred_rf_regressor_test = rf_regressor_test.predict(x_test)"
   ]
  },
  {
   "cell_type": "markdown",
   "id": "063b7468-b49b-4b81-a5bc-500ed6973f37",
   "metadata": {
    "jp-MarkdownHeadingCollapsed": true
   },
   "source": [
    "## Polinomial Regression"
   ]
  },
  {
   "cell_type": "markdown",
   "id": "3a4a5ba4-9588-4328-ad54-f2a89c18379b",
   "metadata": {
    "jp-MarkdownHeadingCollapsed": true
   },
   "source": [
    "### Para dados de treinamento"
   ]
  },
  {
   "cell_type": "code",
   "execution_count": 76,
   "id": "c99cccf2-bf54-4a8e-aaa1-2bb5502c2aad",
   "metadata": {},
   "outputs": [],
   "source": [
    "x_vld_poly = poly_features_pr_train.transform(x_vld)\n",
    "y_pred_pr_train = pr_train.predict(x_vld_poly)"
   ]
  },
  {
   "cell_type": "markdown",
   "id": "ae11d917-2dfc-4216-a2e8-a43e41c4ab09",
   "metadata": {
    "jp-MarkdownHeadingCollapsed": true
   },
   "source": [
    "### Para dados de validação"
   ]
  },
  {
   "cell_type": "code",
   "execution_count": 77,
   "id": "14fb50dd-8cfb-437a-a8cb-b15f8cc2a710",
   "metadata": {},
   "outputs": [],
   "source": [
    "x_test_poly = poly_features_pr_vld.transform(x_test)\n",
    "y_pred_pr_vld = pr_vld.predict(x_test_poly)"
   ]
  },
  {
   "cell_type": "markdown",
   "id": "2917f08e-d6ad-49af-945b-bd86ad499e6f",
   "metadata": {
    "jp-MarkdownHeadingCollapsed": true
   },
   "source": [
    "### Para dados de teste"
   ]
  },
  {
   "cell_type": "code",
   "execution_count": 78,
   "id": "54834484-30c2-4820-81bb-d3a229b43196",
   "metadata": {},
   "outputs": [],
   "source": [
    "x_test_poly = poly_features_pr_test.transform(x_test)\n",
    "y_pred_pr_test = pr_test.predict(x_test_poly)"
   ]
  },
  {
   "cell_type": "markdown",
   "id": "663cd714-f926-46e1-9398-eb503f7e8a21",
   "metadata": {
    "jp-MarkdownHeadingCollapsed": true
   },
   "source": [
    "## Linear Regression Lasso"
   ]
  },
  {
   "cell_type": "markdown",
   "id": "bfe51aba-acf0-4eb5-8ff8-20dbee4e63ea",
   "metadata": {
    "jp-MarkdownHeadingCollapsed": true
   },
   "source": [
    "### Para dados de treinamento"
   ]
  },
  {
   "cell_type": "code",
   "execution_count": 79,
   "id": "a5dc7577-56a6-4d7d-a341-b07082fc988f",
   "metadata": {},
   "outputs": [],
   "source": [
    "y_pred_lr_lasso_train = lr_lasso_train.predict(x_vld)"
   ]
  },
  {
   "cell_type": "markdown",
   "id": "85df64fb-2475-4ab0-9959-22053c3969df",
   "metadata": {
    "jp-MarkdownHeadingCollapsed": true
   },
   "source": [
    "### Para dados de validação"
   ]
  },
  {
   "cell_type": "code",
   "execution_count": 80,
   "id": "7e71acb6-3a6d-499d-8738-0f59915b32f9",
   "metadata": {},
   "outputs": [],
   "source": [
    "y_pred_lr_lasso_vld = lr_lasso_vld.predict(x_test)"
   ]
  },
  {
   "cell_type": "markdown",
   "id": "fd80b96e-fdd0-4cfa-924b-3594e99f2095",
   "metadata": {
    "jp-MarkdownHeadingCollapsed": true
   },
   "source": [
    "### Para dados de teste"
   ]
  },
  {
   "cell_type": "code",
   "execution_count": 81,
   "id": "9ccfacf6-c169-4318-ab45-05af89993421",
   "metadata": {},
   "outputs": [],
   "source": [
    "y_pred_lr_lasso_test = lr_lasso_test.predict(x_test)"
   ]
  },
  {
   "cell_type": "markdown",
   "id": "c3298f30-fd83-4679-a370-f42cefbaf58f",
   "metadata": {
    "jp-MarkdownHeadingCollapsed": true
   },
   "source": [
    "## Linear Regression Ridge"
   ]
  },
  {
   "cell_type": "markdown",
   "id": "fc1095ff-49ea-4413-8900-d6e106ecbfd1",
   "metadata": {
    "jp-MarkdownHeadingCollapsed": true
   },
   "source": [
    "### Para dados de treinamento"
   ]
  },
  {
   "cell_type": "code",
   "execution_count": 82,
   "id": "df85ed9b-b0e8-4f81-8bc4-49ba5de36aa9",
   "metadata": {},
   "outputs": [],
   "source": [
    "y_pred_lr_ridge_train = lr_ridge_train.predict(x_vld)"
   ]
  },
  {
   "cell_type": "markdown",
   "id": "6e610780-0be6-4861-a1a9-69d6d13c4eaa",
   "metadata": {
    "jp-MarkdownHeadingCollapsed": true
   },
   "source": [
    "### Para dados de validação"
   ]
  },
  {
   "cell_type": "code",
   "execution_count": 83,
   "id": "d127806e-c256-4cec-96bd-8ee72063e7c1",
   "metadata": {},
   "outputs": [],
   "source": [
    "y_pred_lr_ridge_vld = lr_ridge_vld.predict(x_test)"
   ]
  },
  {
   "cell_type": "markdown",
   "id": "60b291da-15b5-4111-9335-7fe2ecf79343",
   "metadata": {
    "jp-MarkdownHeadingCollapsed": true
   },
   "source": [
    "### Para dados de teste"
   ]
  },
  {
   "cell_type": "code",
   "execution_count": 84,
   "id": "d182766b-7904-49e3-b163-972d2847a760",
   "metadata": {},
   "outputs": [],
   "source": [
    "y_pred_lr_ridge_test = lr_ridge_test.predict(x_test)"
   ]
  },
  {
   "cell_type": "markdown",
   "id": "38e743a1-6508-4cd8-8a3d-075053852468",
   "metadata": {
    "jp-MarkdownHeadingCollapsed": true
   },
   "source": [
    "## Linear Regression Elastic Net"
   ]
  },
  {
   "cell_type": "markdown",
   "id": "f8e9536d-b423-4d6f-8c64-16ca84f829ce",
   "metadata": {
    "jp-MarkdownHeadingCollapsed": true
   },
   "source": [
    "### Para dados de treinamento"
   ]
  },
  {
   "cell_type": "code",
   "execution_count": 85,
   "id": "3dda59ea-3df2-4c97-8bf8-afd372f8a8bc",
   "metadata": {},
   "outputs": [],
   "source": [
    "y_pred_lr_elastic_net_train = lr_elastic_net_train.predict(x_vld)"
   ]
  },
  {
   "cell_type": "markdown",
   "id": "8b367d62-cbc2-4b0d-99a8-5fa0ece427ba",
   "metadata": {
    "jp-MarkdownHeadingCollapsed": true
   },
   "source": [
    "### Para dados de validação"
   ]
  },
  {
   "cell_type": "code",
   "execution_count": 86,
   "id": "98799ac5-980b-427a-b216-f227125d5495",
   "metadata": {},
   "outputs": [],
   "source": [
    "y_pred_lr_elastic_net_vld = lr_elastic_net_vld.predict(x_test)"
   ]
  },
  {
   "cell_type": "markdown",
   "id": "083188a1-b2e1-4f9c-abe8-085dce7c1b6b",
   "metadata": {
    "jp-MarkdownHeadingCollapsed": true
   },
   "source": [
    "### Para dados de teste"
   ]
  },
  {
   "cell_type": "code",
   "execution_count": 87,
   "id": "72f368d9-8c48-4a28-b6cf-c18b2ad937e0",
   "metadata": {},
   "outputs": [],
   "source": [
    "y_pred_lr_elastic_net_test = lr_elastic_net_test.predict(x_test)"
   ]
  },
  {
   "cell_type": "markdown",
   "id": "6d2c6fd9-ac80-4f1c-b72e-141675861d3d",
   "metadata": {
    "jp-MarkdownHeadingCollapsed": true
   },
   "source": [
    "## Polinomial Regression Lasso"
   ]
  },
  {
   "cell_type": "markdown",
   "id": "8313781d-3ab1-4627-84de-5d6ee6380942",
   "metadata": {
    "jp-MarkdownHeadingCollapsed": true
   },
   "source": [
    "### Para dados de treinamento"
   ]
  },
  {
   "cell_type": "code",
   "execution_count": 88,
   "id": "725a0c4b-fd37-4c4f-84e4-e77d6b95a5a9",
   "metadata": {},
   "outputs": [],
   "source": [
    "x_vld_poly = poly_features_pr_lasso_train.transform(x_vld)\n",
    "y_pred_pr_lasso_train = pr_lasso_train.predict(x_vld_poly)"
   ]
  },
  {
   "cell_type": "markdown",
   "id": "8ce1332a-cc6e-4576-8e70-48f9f419e3ce",
   "metadata": {
    "jp-MarkdownHeadingCollapsed": true
   },
   "source": [
    "### Para dados de validação"
   ]
  },
  {
   "cell_type": "code",
   "execution_count": 89,
   "id": "e1963e4a-e866-4aac-a651-e24ff63b1467",
   "metadata": {},
   "outputs": [],
   "source": [
    "x_test_poly = poly_features_pr_lasso_vld.transform(x_test)\n",
    "y_pred_pr_lasso_vld = pr_lasso_vld.predict(x_test_poly)"
   ]
  },
  {
   "cell_type": "markdown",
   "id": "851a6b5a-d78d-49d5-9bc4-27831fdaea92",
   "metadata": {
    "jp-MarkdownHeadingCollapsed": true
   },
   "source": [
    "### Para dados de teste"
   ]
  },
  {
   "cell_type": "code",
   "execution_count": 90,
   "id": "54d3e199-d43e-43b8-9732-a499b30adf57",
   "metadata": {},
   "outputs": [],
   "source": [
    "x_test_poly = poly_features_pr_lasso_test.transform(x_test)\n",
    "y_pred_pr_lasso_test = pr_lasso_test.predict(x_test_poly)"
   ]
  },
  {
   "cell_type": "markdown",
   "id": "aef94974-7e5c-4f01-a106-0be4b0b858cb",
   "metadata": {
    "jp-MarkdownHeadingCollapsed": true
   },
   "source": [
    "## Polinomial Regression Ridge"
   ]
  },
  {
   "cell_type": "markdown",
   "id": "30683fae-9d52-4ee3-8ebe-dfcb7c8adbc0",
   "metadata": {
    "jp-MarkdownHeadingCollapsed": true
   },
   "source": [
    "### Para dados de treinamento"
   ]
  },
  {
   "cell_type": "code",
   "execution_count": 91,
   "id": "e4485082-be06-4582-87bd-5a8095c3e747",
   "metadata": {},
   "outputs": [],
   "source": [
    "x_vld_poly = poly_features_pr_ridge_train.transform(x_vld)\n",
    "y_pred_pr_ridge_train = pr_ridge_train.predict(x_vld_poly)"
   ]
  },
  {
   "cell_type": "markdown",
   "id": "afceaeed-8880-478d-ab64-da9b4740bbb6",
   "metadata": {
    "jp-MarkdownHeadingCollapsed": true
   },
   "source": [
    "### Para dados de validação"
   ]
  },
  {
   "cell_type": "code",
   "execution_count": 92,
   "id": "6c6008fa-6dfc-465e-aeec-3daecbeff0d1",
   "metadata": {},
   "outputs": [],
   "source": [
    "x_test_poly = poly_features_pr_ridge_vld.transform(x_test)\n",
    "y_pred_pr_ridge_vld = pr_ridge_vld.predict(x_test_poly)"
   ]
  },
  {
   "cell_type": "markdown",
   "id": "7ae12ff2-41d2-40d5-a3e8-482e436a562e",
   "metadata": {
    "jp-MarkdownHeadingCollapsed": true
   },
   "source": [
    "### Para dados de teste"
   ]
  },
  {
   "cell_type": "code",
   "execution_count": 93,
   "id": "696c8fb7-4b14-408f-9ad8-7ee1f2be281a",
   "metadata": {},
   "outputs": [],
   "source": [
    "x_test_poly = poly_features_pr_ridge_test.transform(x_test)\n",
    "y_pred_pr_ridge_test = pr_ridge_test.predict(x_test_poly)"
   ]
  },
  {
   "cell_type": "markdown",
   "id": "c1bf4b12-2bba-47f8-8af4-99d68f3c2f68",
   "metadata": {
    "jp-MarkdownHeadingCollapsed": true
   },
   "source": [
    "## Polinomial Regression Elastic Net"
   ]
  },
  {
   "cell_type": "markdown",
   "id": "b645eb86-812d-4bc5-a605-c8e26ed0999d",
   "metadata": {
    "jp-MarkdownHeadingCollapsed": true
   },
   "source": [
    "### Para dados de treinamento"
   ]
  },
  {
   "cell_type": "code",
   "execution_count": 94,
   "id": "65e41659-2603-4eb2-ac7f-40f6d34d3a7f",
   "metadata": {},
   "outputs": [],
   "source": [
    "x_vld_poly = poly_features_pr_elastic_net_train.transform(x_vld)\n",
    "y_pred_pr_elastic_net_train = pr_elastic_net_train.predict(x_vld_poly)"
   ]
  },
  {
   "cell_type": "markdown",
   "id": "a4294a1c-9a5e-4207-8598-5c9fe10a9049",
   "metadata": {
    "jp-MarkdownHeadingCollapsed": true
   },
   "source": [
    "### Para dados de validação"
   ]
  },
  {
   "cell_type": "code",
   "execution_count": 95,
   "id": "1484ed81-f4cc-4869-ba87-c075e29ce879",
   "metadata": {},
   "outputs": [],
   "source": [
    "x_test_poly = poly_features_pr_elastic_net_vld.transform(x_test)\n",
    "y_pred_pr_elastic_net_vld = pr_elastic_net_vld.predict(x_test_poly)"
   ]
  },
  {
   "cell_type": "markdown",
   "id": "ca343fd8-495e-4da0-8323-48c06ca044ea",
   "metadata": {
    "jp-MarkdownHeadingCollapsed": true
   },
   "source": [
    "### Para dados de teste"
   ]
  },
  {
   "cell_type": "code",
   "execution_count": 96,
   "id": "3e6fa8af-1438-459e-a41b-367ef5023d70",
   "metadata": {},
   "outputs": [],
   "source": [
    "x_test_poly = poly_features_pr_elastic_net_test.transform(x_test)\n",
    "y_pred_pr_elastic_net_test = pr_elastic_net_test.predict(x_test_poly)"
   ]
  },
  {
   "cell_type": "markdown",
   "id": "c76e9d1b-bb67-4111-a2c2-4548e43dc8f9",
   "metadata": {
    "jp-MarkdownHeadingCollapsed": true
   },
   "source": [
    "# Performance"
   ]
  },
  {
   "cell_type": "code",
   "execution_count": 97,
   "id": "3a15d755-9f1f-408d-9336-64b06551df12",
   "metadata": {},
   "outputs": [],
   "source": [
    "names_algorithm = ['Linear Regression', 'Decision Tree Regressor', 'Random Forest Regressor', 'Polinomial Regression', 'Linear Regression Lasso', 'Linear Regression Ridge', 'Linear Regression Elastic Net',\n",
    "'Polinomial Regression Lasso', 'Polinomial Regression Ridge', 'Polinomial Regression Elastic Net']"
   ]
  },
  {
   "cell_type": "code",
   "execution_count": 98,
   "id": "c7fd9790-a251-4a21-8410-5b60b7e4f3bc",
   "metadata": {},
   "outputs": [],
   "source": [
    "names_metrics = ['R2', 'MSE', 'RMSE', 'MAE', 'MAPE']"
   ]
  },
  {
   "cell_type": "code",
   "execution_count": 99,
   "id": "d72d6c1b-d1a2-495c-93f1-9710a22c03a3",
   "metadata": {},
   "outputs": [],
   "source": [
    "list_R2_train, list_MSE_train, list_RMSE_train, list_MAE_train, list_MAPE_train = [], [], [], [], []"
   ]
  },
  {
   "cell_type": "code",
   "execution_count": 100,
   "id": "b00217ba-fd28-417b-96b8-569867de1b72",
   "metadata": {},
   "outputs": [],
   "source": [
    "list_R2_vld, list_MSE_vld, list_RMSE_vld, list_MAE_vld, list_MAPE_vld = [], [], [], [], []"
   ]
  },
  {
   "cell_type": "code",
   "execution_count": 101,
   "id": "8ecf3b96-d5c0-4c0e-83df-fcd9a1a3596d",
   "metadata": {},
   "outputs": [],
   "source": [
    "list_R2_test, list_MSE_test, list_RMSE_test, list_MAE_test, list_MAPE_test = [], [], [], [], []"
   ]
  },
  {
   "cell_type": "markdown",
   "id": "38fe4b91-c027-42f1-8e7d-f9cce2649720",
   "metadata": {
    "jp-MarkdownHeadingCollapsed": true
   },
   "source": [
    "## Linear Regression"
   ]
  },
  {
   "cell_type": "markdown",
   "id": "d23e108d-b699-4471-a352-746ab9b90fe2",
   "metadata": {
    "jp-MarkdownHeadingCollapsed": true
   },
   "source": [
    "### Para dados de treinamento"
   ]
  },
  {
   "cell_type": "code",
   "execution_count": 102,
   "id": "89845bde-a85c-4392-ac04-6f06c83846d7",
   "metadata": {},
   "outputs": [],
   "source": [
    "get_metrics(y_vld, y_pred_lr_train, list_R2_train, list_MSE_train, list_RMSE_train, list_MAE_train, list_MAPE_train)"
   ]
  },
  {
   "cell_type": "markdown",
   "id": "add101e6-9f1f-4644-ae59-f3ebd7bd1f1a",
   "metadata": {
    "jp-MarkdownHeadingCollapsed": true
   },
   "source": [
    "### Para dados de validação"
   ]
  },
  {
   "cell_type": "code",
   "execution_count": 103,
   "id": "ef4a8382-b725-4594-906d-6c8cd6fef9fa",
   "metadata": {},
   "outputs": [],
   "source": [
    "get_metrics(y_test, y_pred_lr_vld, list_R2_vld, list_MSE_vld, list_RMSE_vld, list_MAE_vld, list_MAPE_vld)"
   ]
  },
  {
   "cell_type": "markdown",
   "id": "17a9d3cd-35db-4bdb-8d50-5ec4305a563d",
   "metadata": {
    "jp-MarkdownHeadingCollapsed": true
   },
   "source": [
    "### Para dados de teste"
   ]
  },
  {
   "cell_type": "code",
   "execution_count": 104,
   "id": "83a080cd-e0b4-4cc7-b0c0-e3bf34c9f008",
   "metadata": {},
   "outputs": [],
   "source": [
    "get_metrics(y_test, y_pred_lr_test, list_R2_test, list_MSE_test, list_RMSE_test, list_MAE_test, list_MAPE_test)"
   ]
  },
  {
   "cell_type": "markdown",
   "id": "9adadb38-2956-4b60-b112-1c031c18e19e",
   "metadata": {
    "jp-MarkdownHeadingCollapsed": true
   },
   "source": [
    "## Decision Tree Regressor"
   ]
  },
  {
   "cell_type": "markdown",
   "id": "97255531-8a2f-47f9-baba-df938abdf442",
   "metadata": {
    "jp-MarkdownHeadingCollapsed": true
   },
   "source": [
    "### Para dados de treinamento"
   ]
  },
  {
   "cell_type": "code",
   "execution_count": 105,
   "id": "77eefdd7-99d7-4913-bd27-6a47f7fc1525",
   "metadata": {},
   "outputs": [],
   "source": [
    "get_metrics(y_vld, y_pred_tree_r_train, list_R2_train, list_MSE_train, list_RMSE_train, list_MAE_train, list_MAPE_train)"
   ]
  },
  {
   "cell_type": "markdown",
   "id": "90ad9023-cca1-4a04-8da4-10976917aa10",
   "metadata": {
    "jp-MarkdownHeadingCollapsed": true
   },
   "source": [
    "### Para dados de validação"
   ]
  },
  {
   "cell_type": "code",
   "execution_count": 106,
   "id": "dbe7ed54-b94a-45c3-8256-eb9300809391",
   "metadata": {},
   "outputs": [],
   "source": [
    "get_metrics(y_test, y_pred_tree_r_vld, list_R2_vld, list_MSE_vld, list_RMSE_vld, list_MAE_vld, list_MAPE_vld)"
   ]
  },
  {
   "cell_type": "markdown",
   "id": "7b03ba65-8981-45ff-9ee9-6d2025bfef40",
   "metadata": {
    "jp-MarkdownHeadingCollapsed": true
   },
   "source": [
    "### Para dados de teste"
   ]
  },
  {
   "cell_type": "code",
   "execution_count": 107,
   "id": "d58dd232-d452-4756-be76-e67f7852549d",
   "metadata": {},
   "outputs": [],
   "source": [
    "get_metrics(y_test, y_pred_tree_r_test, list_R2_test, list_MSE_test, list_RMSE_test, list_MAE_test, list_MAPE_test)"
   ]
  },
  {
   "cell_type": "markdown",
   "id": "310fb3ca-3d1b-4645-a83e-503e7c888589",
   "metadata": {
    "jp-MarkdownHeadingCollapsed": true
   },
   "source": [
    "## Random Forest Regressor"
   ]
  },
  {
   "cell_type": "markdown",
   "id": "d8751033-3a06-4b01-8fe2-28797ad913a0",
   "metadata": {
    "jp-MarkdownHeadingCollapsed": true
   },
   "source": [
    "### Para dados de treinamento"
   ]
  },
  {
   "cell_type": "code",
   "execution_count": 108,
   "id": "64ac7e72-49a0-4c85-8d6b-a6c58ef27523",
   "metadata": {},
   "outputs": [],
   "source": [
    "get_metrics(y_vld, y_pred_rf_regressor_train, list_R2_train, list_MSE_train, list_RMSE_train, list_MAE_train, list_MAPE_train)"
   ]
  },
  {
   "cell_type": "markdown",
   "id": "be099d64-c488-4b4f-aea1-03ce8e7d7396",
   "metadata": {
    "jp-MarkdownHeadingCollapsed": true
   },
   "source": [
    "### Para dados de validação"
   ]
  },
  {
   "cell_type": "code",
   "execution_count": 109,
   "id": "ff7332b5-c32f-488a-8226-71b429ed7fca",
   "metadata": {},
   "outputs": [],
   "source": [
    "get_metrics(y_test, y_pred_rf_regressor_vld, list_R2_vld, list_MSE_vld, list_RMSE_vld, list_MAE_vld, list_MAPE_vld)"
   ]
  },
  {
   "cell_type": "markdown",
   "id": "cf6063e8-bbd6-4dd9-8a3b-46a42349c8ab",
   "metadata": {
    "jp-MarkdownHeadingCollapsed": true
   },
   "source": [
    "### Para dados de teste"
   ]
  },
  {
   "cell_type": "code",
   "execution_count": 110,
   "id": "122c6ab6-2214-4e74-ab37-65f227f77064",
   "metadata": {},
   "outputs": [],
   "source": [
    "get_metrics(y_test, y_pred_rf_regressor_test, list_R2_test, list_MSE_test, list_RMSE_test, list_MAE_test, list_MAPE_test)"
   ]
  },
  {
   "cell_type": "markdown",
   "id": "65cb7949-c097-4163-817e-af45d69ace17",
   "metadata": {
    "jp-MarkdownHeadingCollapsed": true
   },
   "source": [
    "## Polinomial Regression"
   ]
  },
  {
   "cell_type": "markdown",
   "id": "21476e74-eb2b-45af-bd13-96c3b6a07b21",
   "metadata": {
    "jp-MarkdownHeadingCollapsed": true
   },
   "source": [
    "### Para dados de treinamento"
   ]
  },
  {
   "cell_type": "code",
   "execution_count": 111,
   "id": "3ed77e36-f794-4511-8988-a128a5eb78db",
   "metadata": {},
   "outputs": [],
   "source": [
    "get_metrics(y_vld, y_pred_pr_train, list_R2_train, list_MSE_train, list_RMSE_train, list_MAE_train, list_MAPE_train)"
   ]
  },
  {
   "cell_type": "markdown",
   "id": "c6e6f2f9-d429-4775-a119-58f1a025fd5a",
   "metadata": {
    "jp-MarkdownHeadingCollapsed": true
   },
   "source": [
    "### Para dados de validação"
   ]
  },
  {
   "cell_type": "code",
   "execution_count": 112,
   "id": "81248781-ca93-44a8-ba1e-b923b2f48e1c",
   "metadata": {},
   "outputs": [],
   "source": [
    "get_metrics(y_test, y_pred_pr_vld, list_R2_vld, list_MSE_vld, list_RMSE_vld, list_MAE_vld, list_MAPE_vld)"
   ]
  },
  {
   "cell_type": "markdown",
   "id": "9da3f52b-4da3-4b4e-bfb1-c034342eeff0",
   "metadata": {
    "jp-MarkdownHeadingCollapsed": true
   },
   "source": [
    "### Para dados de teste"
   ]
  },
  {
   "cell_type": "code",
   "execution_count": 113,
   "id": "9f5e9399-43d2-4dec-99ab-53e48339252b",
   "metadata": {},
   "outputs": [],
   "source": [
    "get_metrics(y_test, y_pred_pr_test, list_R2_test, list_MSE_test, list_RMSE_test, list_MAE_test, list_MAPE_test)"
   ]
  },
  {
   "cell_type": "markdown",
   "id": "16426b0c-c77d-4fbb-a422-bc5565f8ee01",
   "metadata": {
    "jp-MarkdownHeadingCollapsed": true
   },
   "source": [
    "## Linear Regression Lasso"
   ]
  },
  {
   "cell_type": "markdown",
   "id": "ce87f543-9bbe-4bbf-900c-fdd2b90bf84a",
   "metadata": {
    "jp-MarkdownHeadingCollapsed": true
   },
   "source": [
    "### Para dados de treinamento"
   ]
  },
  {
   "cell_type": "code",
   "execution_count": 114,
   "id": "1f9b3495-4428-4f4d-9ac8-88da40eb566f",
   "metadata": {},
   "outputs": [],
   "source": [
    "get_metrics(y_vld, y_pred_lr_lasso_train, list_R2_train, list_MSE_train, list_RMSE_train, list_MAE_train, list_MAPE_train)"
   ]
  },
  {
   "cell_type": "markdown",
   "id": "a0333576-e10f-4a17-ab91-139710157467",
   "metadata": {
    "jp-MarkdownHeadingCollapsed": true
   },
   "source": [
    "### Para dados de validação"
   ]
  },
  {
   "cell_type": "code",
   "execution_count": 115,
   "id": "bd1ed59f-afbe-4ff3-a0f2-933d3122318a",
   "metadata": {},
   "outputs": [],
   "source": [
    "get_metrics(y_test, y_pred_lr_lasso_vld, list_R2_vld, list_MSE_vld, list_RMSE_vld, list_MAE_vld, list_MAPE_vld)"
   ]
  },
  {
   "cell_type": "markdown",
   "id": "f87eb219-9eed-49c6-9bcd-778b215da462",
   "metadata": {
    "jp-MarkdownHeadingCollapsed": true
   },
   "source": [
    "### Para dados de teste"
   ]
  },
  {
   "cell_type": "code",
   "execution_count": 116,
   "id": "c58eecfb-bc77-446a-bef8-2dafce7077ea",
   "metadata": {},
   "outputs": [],
   "source": [
    "get_metrics(y_test, y_pred_lr_lasso_test, list_R2_test, list_MSE_test, list_RMSE_test, list_MAE_test, list_MAPE_test)"
   ]
  },
  {
   "cell_type": "markdown",
   "id": "53d77fde-a692-4cbb-b4f9-63192847a000",
   "metadata": {
    "jp-MarkdownHeadingCollapsed": true
   },
   "source": [
    "## Linear Regression Ridge"
   ]
  },
  {
   "cell_type": "markdown",
   "id": "8e4eb7af-f0b0-4b87-a1b9-34da2df8306e",
   "metadata": {
    "jp-MarkdownHeadingCollapsed": true
   },
   "source": [
    "### Para dados de treinamento"
   ]
  },
  {
   "cell_type": "code",
   "execution_count": 117,
   "id": "e431de57-cc62-49f0-b2dd-14feda3c0a7b",
   "metadata": {},
   "outputs": [],
   "source": [
    "get_metrics(y_vld, y_pred_lr_ridge_train, list_R2_train, list_MSE_train, list_RMSE_train, list_MAE_train, list_MAPE_train)"
   ]
  },
  {
   "cell_type": "markdown",
   "id": "18d9f697-7fbc-4082-8964-c44ccf5ce63c",
   "metadata": {
    "jp-MarkdownHeadingCollapsed": true
   },
   "source": [
    "### Para dados de validação"
   ]
  },
  {
   "cell_type": "code",
   "execution_count": 118,
   "id": "c68d839c-87df-45f0-b6bb-121b65af09ab",
   "metadata": {},
   "outputs": [],
   "source": [
    "get_metrics(y_test, y_pred_lr_ridge_vld, list_R2_vld, list_MSE_vld, list_RMSE_vld, list_MAE_vld, list_MAPE_vld)"
   ]
  },
  {
   "cell_type": "markdown",
   "id": "13097cdd-129b-4625-a7d7-bc4b4b449dcd",
   "metadata": {
    "jp-MarkdownHeadingCollapsed": true
   },
   "source": [
    "### Para dados de teste"
   ]
  },
  {
   "cell_type": "code",
   "execution_count": 119,
   "id": "5ffb443f-a0fe-41a9-997b-e5e84fb3794f",
   "metadata": {},
   "outputs": [],
   "source": [
    "get_metrics(y_test, y_pred_lr_ridge_test, list_R2_test, list_MSE_test, list_RMSE_test, list_MAE_test, list_MAPE_test)"
   ]
  },
  {
   "cell_type": "markdown",
   "id": "9f66f3bd-4840-4f66-adcf-f814a4bbf908",
   "metadata": {
    "jp-MarkdownHeadingCollapsed": true
   },
   "source": [
    "## Linear Regression Elastic Net"
   ]
  },
  {
   "cell_type": "markdown",
   "id": "7746456e-7409-4cfb-b807-04e3be30eb67",
   "metadata": {
    "jp-MarkdownHeadingCollapsed": true
   },
   "source": [
    "### Para dados de treinamento"
   ]
  },
  {
   "cell_type": "code",
   "execution_count": 120,
   "id": "d1314332-9b6e-4810-805e-9372ac75fc93",
   "metadata": {},
   "outputs": [],
   "source": [
    "get_metrics(y_vld, y_pred_lr_elastic_net_train, list_R2_train, list_MSE_train, list_RMSE_train, list_MAE_train, list_MAPE_train)"
   ]
  },
  {
   "cell_type": "markdown",
   "id": "c83abb39-9429-42af-817a-55edddc073c9",
   "metadata": {
    "jp-MarkdownHeadingCollapsed": true
   },
   "source": [
    "### Para dados de validação"
   ]
  },
  {
   "cell_type": "code",
   "execution_count": 121,
   "id": "7a24a441-3d6f-4916-9acf-d452ecd48644",
   "metadata": {},
   "outputs": [],
   "source": [
    "get_metrics(y_test, y_pred_lr_elastic_net_vld, list_R2_vld, list_MSE_vld, list_RMSE_vld, list_MAE_vld, list_MAPE_vld)"
   ]
  },
  {
   "cell_type": "markdown",
   "id": "74edb7a9-5e09-47dd-81bd-a0513ff444a9",
   "metadata": {
    "jp-MarkdownHeadingCollapsed": true
   },
   "source": [
    "### Para dados de teste"
   ]
  },
  {
   "cell_type": "code",
   "execution_count": 122,
   "id": "3967bcb7-f5c5-4836-b657-847550892a14",
   "metadata": {},
   "outputs": [],
   "source": [
    "get_metrics(y_test, y_pred_lr_elastic_net_test, list_R2_test, list_MSE_test, list_RMSE_test, list_MAE_test, list_MAPE_test)"
   ]
  },
  {
   "cell_type": "markdown",
   "id": "44fb9f6e-1e09-41fe-8aa7-4c6d1ce2c7e8",
   "metadata": {
    "jp-MarkdownHeadingCollapsed": true
   },
   "source": [
    "## Polinomial Regression Lasso"
   ]
  },
  {
   "cell_type": "markdown",
   "id": "2fe96c2d-1793-4fe2-9c8f-8c60280ed1b1",
   "metadata": {
    "jp-MarkdownHeadingCollapsed": true
   },
   "source": [
    "### Para dados de treinamento"
   ]
  },
  {
   "cell_type": "code",
   "execution_count": 123,
   "id": "14f8120f-0300-4e57-8088-cd81186d22ce",
   "metadata": {},
   "outputs": [],
   "source": [
    "get_metrics(y_vld, y_pred_pr_lasso_train, list_R2_train, list_MSE_train, list_RMSE_train, list_MAE_train, list_MAPE_train)"
   ]
  },
  {
   "cell_type": "markdown",
   "id": "bf3d8400-e2d8-4eaf-8818-5841b74a2128",
   "metadata": {
    "jp-MarkdownHeadingCollapsed": true
   },
   "source": [
    "### Para dados de validação"
   ]
  },
  {
   "cell_type": "code",
   "execution_count": 124,
   "id": "db49c419-3850-43f3-a8bd-d7c46eceeb55",
   "metadata": {},
   "outputs": [],
   "source": [
    "get_metrics(y_test, y_pred_pr_lasso_vld, list_R2_vld, list_MSE_vld, list_RMSE_vld, list_MAE_vld, list_MAPE_vld)"
   ]
  },
  {
   "cell_type": "markdown",
   "id": "64a09549-b9f1-41cf-b90f-b7ce8344f4f0",
   "metadata": {
    "jp-MarkdownHeadingCollapsed": true
   },
   "source": [
    "### Para dados de teste"
   ]
  },
  {
   "cell_type": "code",
   "execution_count": 125,
   "id": "761f30f6-3298-4bc1-a561-b8ab84a1b89b",
   "metadata": {},
   "outputs": [],
   "source": [
    "get_metrics(y_test, y_pred_pr_lasso_test, list_R2_test, list_MSE_test, list_RMSE_test, list_MAE_test, list_MAPE_test)"
   ]
  },
  {
   "cell_type": "markdown",
   "id": "c1a19c10-29d7-4aab-958f-f3ea67cbe65b",
   "metadata": {
    "jp-MarkdownHeadingCollapsed": true
   },
   "source": [
    "## Polinomial Regression Ridge"
   ]
  },
  {
   "cell_type": "markdown",
   "id": "6109c075-3d03-47dc-b460-4d4c7393ee1d",
   "metadata": {
    "jp-MarkdownHeadingCollapsed": true
   },
   "source": [
    "### Para dados de treinamento"
   ]
  },
  {
   "cell_type": "code",
   "execution_count": 126,
   "id": "c38c5fab-64bb-46ed-9f08-7bb12a8aa89d",
   "metadata": {},
   "outputs": [],
   "source": [
    "get_metrics(y_vld, y_pred_pr_ridge_train, list_R2_train, list_MSE_train, list_RMSE_train, list_MAE_train, list_MAPE_train)"
   ]
  },
  {
   "cell_type": "markdown",
   "id": "f3802bc7-9981-435b-9be2-e093f8b45ee6",
   "metadata": {
    "jp-MarkdownHeadingCollapsed": true
   },
   "source": [
    "### Para dados de validação"
   ]
  },
  {
   "cell_type": "code",
   "execution_count": 127,
   "id": "7932217b-e0af-465b-b3f5-7faf45e15866",
   "metadata": {},
   "outputs": [],
   "source": [
    "get_metrics(y_test, y_pred_pr_ridge_vld, list_R2_vld, list_MSE_vld, list_RMSE_vld, list_MAE_vld, list_MAPE_vld)"
   ]
  },
  {
   "cell_type": "markdown",
   "id": "ec775331-4319-458e-b2ee-48cb9cdd22f1",
   "metadata": {
    "jp-MarkdownHeadingCollapsed": true
   },
   "source": [
    "### Para dados de teste"
   ]
  },
  {
   "cell_type": "code",
   "execution_count": 128,
   "id": "92711f0f-723d-42fc-8bdd-8a2372c06401",
   "metadata": {},
   "outputs": [],
   "source": [
    "get_metrics(y_test, y_pred_pr_ridge_test, list_R2_test, list_MSE_test, list_RMSE_test, list_MAE_test, list_MAPE_test)"
   ]
  },
  {
   "cell_type": "markdown",
   "id": "96e92c49-3027-4bb1-be44-e68f0168b91a",
   "metadata": {
    "jp-MarkdownHeadingCollapsed": true
   },
   "source": [
    "## Polinomial Regression Elastic Net"
   ]
  },
  {
   "cell_type": "markdown",
   "id": "db5ea47e-d38e-4db6-a7ab-60762638f673",
   "metadata": {
    "jp-MarkdownHeadingCollapsed": true
   },
   "source": [
    "### Para dados de treinamento"
   ]
  },
  {
   "cell_type": "code",
   "execution_count": 129,
   "id": "f43d9a33-610c-457c-868e-41464857cd59",
   "metadata": {},
   "outputs": [],
   "source": [
    "get_metrics(y_vld, y_pred_pr_elastic_net_train, list_R2_train, list_MSE_train, list_RMSE_train, list_MAE_train, list_MAPE_train)"
   ]
  },
  {
   "cell_type": "markdown",
   "id": "874ccd0a-0b03-49f5-8999-2a1a2810ac09",
   "metadata": {
    "jp-MarkdownHeadingCollapsed": true
   },
   "source": [
    "### Para dados de validação"
   ]
  },
  {
   "cell_type": "code",
   "execution_count": 130,
   "id": "82efb555-f6a2-41a3-a995-b679fd85be63",
   "metadata": {},
   "outputs": [],
   "source": [
    "get_metrics(y_test, y_pred_pr_elastic_net_vld, list_R2_vld, list_MSE_vld, list_RMSE_vld, list_MAE_vld, list_MAPE_vld)"
   ]
  },
  {
   "cell_type": "markdown",
   "id": "2e17d19a-f4fe-44f2-9a2f-a442248fbfab",
   "metadata": {
    "jp-MarkdownHeadingCollapsed": true
   },
   "source": [
    "### Para dados de teste"
   ]
  },
  {
   "cell_type": "code",
   "execution_count": 131,
   "id": "f921b70e-f42f-4c61-8d15-2c0e7e0b3886",
   "metadata": {},
   "outputs": [],
   "source": [
    "get_metrics(y_test, y_pred_pr_elastic_net_test, list_R2_test, list_MSE_test, list_RMSE_test, list_MAE_test, list_MAPE_test)"
   ]
  },
  {
   "cell_type": "markdown",
   "id": "18404cbe-b25e-4cb6-bdf7-30be1a24c6b7",
   "metadata": {
    "jp-MarkdownHeadingCollapsed": true
   },
   "source": [
    "## Tabela de Performance sobre os dados de treinamento"
   ]
  },
  {
   "cell_type": "code",
   "execution_count": 132,
   "id": "3f897d12-cc10-4d86-8fc4-180ef02f6acb",
   "metadata": {},
   "outputs": [
    {
     "data": {
      "text/html": [
       "<div>\n",
       "<style scoped>\n",
       "    .dataframe tbody tr th:only-of-type {\n",
       "        vertical-align: middle;\n",
       "    }\n",
       "\n",
       "    .dataframe tbody tr th {\n",
       "        vertical-align: top;\n",
       "    }\n",
       "\n",
       "    .dataframe thead th {\n",
       "        text-align: right;\n",
       "    }\n",
       "</style>\n",
       "<table border=\"1\" class=\"dataframe\">\n",
       "  <thead>\n",
       "    <tr style=\"text-align: right;\">\n",
       "      <th></th>\n",
       "      <th>Algorithm Name</th>\n",
       "      <th>R2</th>\n",
       "      <th>MSE</th>\n",
       "      <th>RMSE</th>\n",
       "      <th>MAE</th>\n",
       "      <th>MAPE</th>\n",
       "    </tr>\n",
       "  </thead>\n",
       "  <tbody>\n",
       "    <tr>\n",
       "      <th>0</th>\n",
       "      <td>Linear Regression</td>\n",
       "      <td>0.040218</td>\n",
       "      <td>458.307113</td>\n",
       "      <td>21.408109</td>\n",
       "      <td>17.041686</td>\n",
       "      <td>866.476822</td>\n",
       "    </tr>\n",
       "    <tr>\n",
       "      <th>1</th>\n",
       "      <td>Decision Tree Regressor</td>\n",
       "      <td>-0.293172</td>\n",
       "      <td>617.504423</td>\n",
       "      <td>24.849636</td>\n",
       "      <td>17.110120</td>\n",
       "      <td>900.505733</td>\n",
       "    </tr>\n",
       "    <tr>\n",
       "      <th>2</th>\n",
       "      <td>Random Forest Regressor</td>\n",
       "      <td>0.334636</td>\n",
       "      <td>317.718948</td>\n",
       "      <td>17.824672</td>\n",
       "      <td>12.998754</td>\n",
       "      <td>885.288592</td>\n",
       "    </tr>\n",
       "    <tr>\n",
       "      <th>3</th>\n",
       "      <td>Polinomial Regression</td>\n",
       "      <td>0.066477</td>\n",
       "      <td>445.768223</td>\n",
       "      <td>21.113224</td>\n",
       "      <td>16.749939</td>\n",
       "      <td>854.793103</td>\n",
       "    </tr>\n",
       "    <tr>\n",
       "      <th>4</th>\n",
       "      <td>Linear Regression Lasso</td>\n",
       "      <td>0.007884</td>\n",
       "      <td>473.747081</td>\n",
       "      <td>21.765732</td>\n",
       "      <td>17.264922</td>\n",
       "      <td>868.184976</td>\n",
       "    </tr>\n",
       "    <tr>\n",
       "      <th>5</th>\n",
       "      <td>Linear Regression Ridge</td>\n",
       "      <td>0.039928</td>\n",
       "      <td>458.445477</td>\n",
       "      <td>21.411340</td>\n",
       "      <td>17.039472</td>\n",
       "      <td>868.241248</td>\n",
       "    </tr>\n",
       "    <tr>\n",
       "      <th>6</th>\n",
       "      <td>Linear Regression Elastic Net</td>\n",
       "      <td>0.008117</td>\n",
       "      <td>473.635616</td>\n",
       "      <td>21.763171</td>\n",
       "      <td>17.262903</td>\n",
       "      <td>868.111874</td>\n",
       "    </tr>\n",
       "    <tr>\n",
       "      <th>7</th>\n",
       "      <td>Polinomial Regression Lasso</td>\n",
       "      <td>0.009631</td>\n",
       "      <td>472.912694</td>\n",
       "      <td>21.746556</td>\n",
       "      <td>17.238379</td>\n",
       "      <td>867.966682</td>\n",
       "    </tr>\n",
       "    <tr>\n",
       "      <th>8</th>\n",
       "      <td>Polinomial Regression Ridge</td>\n",
       "      <td>0.067699</td>\n",
       "      <td>445.184410</td>\n",
       "      <td>21.099394</td>\n",
       "      <td>16.738741</td>\n",
       "      <td>856.899247</td>\n",
       "    </tr>\n",
       "    <tr>\n",
       "      <th>9</th>\n",
       "      <td>Polinomial Regression Elastic Net</td>\n",
       "      <td>0.012782</td>\n",
       "      <td>471.408166</td>\n",
       "      <td>21.711936</td>\n",
       "      <td>17.199966</td>\n",
       "      <td>867.938764</td>\n",
       "    </tr>\n",
       "  </tbody>\n",
       "</table>\n",
       "</div>"
      ],
      "text/plain": [
       "                      Algorithm Name        R2         MSE       RMSE  \\\n",
       "0                  Linear Regression  0.040218  458.307113  21.408109   \n",
       "1            Decision Tree Regressor -0.293172  617.504423  24.849636   \n",
       "2            Random Forest Regressor  0.334636  317.718948  17.824672   \n",
       "3              Polinomial Regression  0.066477  445.768223  21.113224   \n",
       "4            Linear Regression Lasso  0.007884  473.747081  21.765732   \n",
       "5            Linear Regression Ridge  0.039928  458.445477  21.411340   \n",
       "6      Linear Regression Elastic Net  0.008117  473.635616  21.763171   \n",
       "7        Polinomial Regression Lasso  0.009631  472.912694  21.746556   \n",
       "8        Polinomial Regression Ridge  0.067699  445.184410  21.099394   \n",
       "9  Polinomial Regression Elastic Net  0.012782  471.408166  21.711936   \n",
       "\n",
       "         MAE        MAPE  \n",
       "0  17.041686  866.476822  \n",
       "1  17.110120  900.505733  \n",
       "2  12.998754  885.288592  \n",
       "3  16.749939  854.793103  \n",
       "4  17.264922  868.184976  \n",
       "5  17.039472  868.241248  \n",
       "6  17.262903  868.111874  \n",
       "7  17.238379  867.966682  \n",
       "8  16.738741  856.899247  \n",
       "9  17.199966  867.938764  "
      ]
     },
     "execution_count": 132,
     "metadata": {},
     "output_type": "execute_result"
    }
   ],
   "source": [
    "values_metrics_train = [list_R2_train, list_MSE_train, list_RMSE_train, list_MAE_train, list_MAPE_train]\n",
    "df_tab_train = show_table(names_algorithm, names_metrics, values_metrics_train)\n",
    "df_tab_train"
   ]
  },
  {
   "cell_type": "markdown",
   "id": "cf3ead79-7537-4e24-8c15-598a39ab3dad",
   "metadata": {
    "jp-MarkdownHeadingCollapsed": true
   },
   "source": [
    "## Tabela de Performance sobre os dados de validação"
   ]
  },
  {
   "cell_type": "code",
   "execution_count": 133,
   "id": "14ac6a65-5995-4030-92e3-3ac9ddee3570",
   "metadata": {},
   "outputs": [
    {
     "data": {
      "text/html": [
       "<div>\n",
       "<style scoped>\n",
       "    .dataframe tbody tr th:only-of-type {\n",
       "        vertical-align: middle;\n",
       "    }\n",
       "\n",
       "    .dataframe tbody tr th {\n",
       "        vertical-align: top;\n",
       "    }\n",
       "\n",
       "    .dataframe thead th {\n",
       "        text-align: right;\n",
       "    }\n",
       "</style>\n",
       "<table border=\"1\" class=\"dataframe\">\n",
       "  <thead>\n",
       "    <tr style=\"text-align: right;\">\n",
       "      <th></th>\n",
       "      <th>Algorithm Name</th>\n",
       "      <th>R2</th>\n",
       "      <th>MSE</th>\n",
       "      <th>RMSE</th>\n",
       "      <th>MAE</th>\n",
       "      <th>MAPE</th>\n",
       "    </tr>\n",
       "  </thead>\n",
       "  <tbody>\n",
       "    <tr>\n",
       "      <th>0</th>\n",
       "      <td>Linear Regression</td>\n",
       "      <td>0.054306</td>\n",
       "      <td>460.459387</td>\n",
       "      <td>21.458317</td>\n",
       "      <td>17.115537</td>\n",
       "      <td>849.986898</td>\n",
       "    </tr>\n",
       "    <tr>\n",
       "      <th>1</th>\n",
       "      <td>Decision Tree Regressor</td>\n",
       "      <td>0.872488</td>\n",
       "      <td>62.085563</td>\n",
       "      <td>7.879439</td>\n",
       "      <td>3.529543</td>\n",
       "      <td>880.101747</td>\n",
       "    </tr>\n",
       "    <tr>\n",
       "      <th>2</th>\n",
       "      <td>Random Forest Regressor</td>\n",
       "      <td>0.913614</td>\n",
       "      <td>42.061652</td>\n",
       "      <td>6.485496</td>\n",
       "      <td>4.459579</td>\n",
       "      <td>884.179048</td>\n",
       "    </tr>\n",
       "    <tr>\n",
       "      <th>3</th>\n",
       "      <td>Polinomial Regression</td>\n",
       "      <td>0.090901</td>\n",
       "      <td>442.641386</td>\n",
       "      <td>21.039044</td>\n",
       "      <td>16.736414</td>\n",
       "      <td>827.697169</td>\n",
       "    </tr>\n",
       "    <tr>\n",
       "      <th>4</th>\n",
       "      <td>Linear Regression Lasso</td>\n",
       "      <td>0.051139</td>\n",
       "      <td>462.001242</td>\n",
       "      <td>21.494214</td>\n",
       "      <td>17.144137</td>\n",
       "      <td>873.097036</td>\n",
       "    </tr>\n",
       "    <tr>\n",
       "      <th>5</th>\n",
       "      <td>Linear Regression Ridge</td>\n",
       "      <td>0.051128</td>\n",
       "      <td>462.006491</td>\n",
       "      <td>21.494336</td>\n",
       "      <td>17.142430</td>\n",
       "      <td>853.781591</td>\n",
       "    </tr>\n",
       "    <tr>\n",
       "      <th>6</th>\n",
       "      <td>Linear Regression Elastic Net</td>\n",
       "      <td>0.052246</td>\n",
       "      <td>461.462471</td>\n",
       "      <td>21.481678</td>\n",
       "      <td>17.128797</td>\n",
       "      <td>873.675494</td>\n",
       "    </tr>\n",
       "    <tr>\n",
       "      <th>7</th>\n",
       "      <td>Polinomial Regression Lasso</td>\n",
       "      <td>0.085374</td>\n",
       "      <td>445.332233</td>\n",
       "      <td>21.102896</td>\n",
       "      <td>16.785714</td>\n",
       "      <td>873.899765</td>\n",
       "    </tr>\n",
       "    <tr>\n",
       "      <th>8</th>\n",
       "      <td>Polinomial Regression Ridge</td>\n",
       "      <td>0.090902</td>\n",
       "      <td>442.640901</td>\n",
       "      <td>21.039033</td>\n",
       "      <td>16.736387</td>\n",
       "      <td>827.703142</td>\n",
       "    </tr>\n",
       "    <tr>\n",
       "      <th>9</th>\n",
       "      <td>Polinomial Regression Elastic Net</td>\n",
       "      <td>0.090399</td>\n",
       "      <td>442.885409</td>\n",
       "      <td>21.044843</td>\n",
       "      <td>16.740360</td>\n",
       "      <td>873.849209</td>\n",
       "    </tr>\n",
       "  </tbody>\n",
       "</table>\n",
       "</div>"
      ],
      "text/plain": [
       "                      Algorithm Name        R2         MSE       RMSE  \\\n",
       "0                  Linear Regression  0.054306  460.459387  21.458317   \n",
       "1            Decision Tree Regressor  0.872488   62.085563   7.879439   \n",
       "2            Random Forest Regressor  0.913614   42.061652   6.485496   \n",
       "3              Polinomial Regression  0.090901  442.641386  21.039044   \n",
       "4            Linear Regression Lasso  0.051139  462.001242  21.494214   \n",
       "5            Linear Regression Ridge  0.051128  462.006491  21.494336   \n",
       "6      Linear Regression Elastic Net  0.052246  461.462471  21.481678   \n",
       "7        Polinomial Regression Lasso  0.085374  445.332233  21.102896   \n",
       "8        Polinomial Regression Ridge  0.090902  442.640901  21.039033   \n",
       "9  Polinomial Regression Elastic Net  0.090399  442.885409  21.044843   \n",
       "\n",
       "         MAE        MAPE  \n",
       "0  17.115537  849.986898  \n",
       "1   3.529543  880.101747  \n",
       "2   4.459579  884.179048  \n",
       "3  16.736414  827.697169  \n",
       "4  17.144137  873.097036  \n",
       "5  17.142430  853.781591  \n",
       "6  17.128797  873.675494  \n",
       "7  16.785714  873.899765  \n",
       "8  16.736387  827.703142  \n",
       "9  16.740360  873.849209  "
      ]
     },
     "execution_count": 133,
     "metadata": {},
     "output_type": "execute_result"
    }
   ],
   "source": [
    "values_metrics_vld = [list_R2_vld, list_MSE_vld, list_RMSE_vld, list_MAE_vld, list_MAPE_vld]\n",
    "df_tab_vld = show_table(names_algorithm, names_metrics, values_metrics_vld)\n",
    "df_tab_vld"
   ]
  },
  {
   "cell_type": "markdown",
   "id": "c79ad78b-0da9-4a4b-9a93-75c4e429d54d",
   "metadata": {
    "jp-MarkdownHeadingCollapsed": true
   },
   "source": [
    "## Tabela de Performance sobre os dados de Teste"
   ]
  },
  {
   "cell_type": "code",
   "execution_count": 134,
   "id": "72374139-10f5-4b97-b772-13870c644ed4",
   "metadata": {},
   "outputs": [
    {
     "data": {
      "text/html": [
       "<div>\n",
       "<style scoped>\n",
       "    .dataframe tbody tr th:only-of-type {\n",
       "        vertical-align: middle;\n",
       "    }\n",
       "\n",
       "    .dataframe tbody tr th {\n",
       "        vertical-align: top;\n",
       "    }\n",
       "\n",
       "    .dataframe thead th {\n",
       "        text-align: right;\n",
       "    }\n",
       "</style>\n",
       "<table border=\"1\" class=\"dataframe\">\n",
       "  <thead>\n",
       "    <tr style=\"text-align: right;\">\n",
       "      <th></th>\n",
       "      <th>Algorithm Name</th>\n",
       "      <th>R2</th>\n",
       "      <th>MSE</th>\n",
       "      <th>RMSE</th>\n",
       "      <th>MAE</th>\n",
       "      <th>MAPE</th>\n",
       "    </tr>\n",
       "  </thead>\n",
       "  <tbody>\n",
       "    <tr>\n",
       "      <th>0</th>\n",
       "      <td>Linear Regression</td>\n",
       "      <td>0.054306</td>\n",
       "      <td>460.459387</td>\n",
       "      <td>21.458317</td>\n",
       "      <td>17.115537</td>\n",
       "      <td>849.986898</td>\n",
       "    </tr>\n",
       "    <tr>\n",
       "      <th>1</th>\n",
       "      <td>Decision Tree Regressor</td>\n",
       "      <td>0.872488</td>\n",
       "      <td>62.085563</td>\n",
       "      <td>7.879439</td>\n",
       "      <td>3.529543</td>\n",
       "      <td>880.101747</td>\n",
       "    </tr>\n",
       "    <tr>\n",
       "      <th>2</th>\n",
       "      <td>Random Forest Regressor</td>\n",
       "      <td>0.913614</td>\n",
       "      <td>42.061652</td>\n",
       "      <td>6.485496</td>\n",
       "      <td>4.459579</td>\n",
       "      <td>884.179048</td>\n",
       "    </tr>\n",
       "    <tr>\n",
       "      <th>3</th>\n",
       "      <td>Polinomial Regression</td>\n",
       "      <td>0.104011</td>\n",
       "      <td>436.257712</td>\n",
       "      <td>20.886783</td>\n",
       "      <td>16.618534</td>\n",
       "      <td>816.738614</td>\n",
       "    </tr>\n",
       "    <tr>\n",
       "      <th>4</th>\n",
       "      <td>Linear Regression Lasso</td>\n",
       "      <td>0.054275</td>\n",
       "      <td>460.474510</td>\n",
       "      <td>21.458670</td>\n",
       "      <td>17.115590</td>\n",
       "      <td>872.248670</td>\n",
       "    </tr>\n",
       "    <tr>\n",
       "      <th>5</th>\n",
       "      <td>Linear Regression Ridge</td>\n",
       "      <td>0.054202</td>\n",
       "      <td>460.509779</td>\n",
       "      <td>21.459492</td>\n",
       "      <td>17.114989</td>\n",
       "      <td>850.551244</td>\n",
       "    </tr>\n",
       "    <tr>\n",
       "      <th>6</th>\n",
       "      <td>Linear Regression Elastic Net</td>\n",
       "      <td>0.054190</td>\n",
       "      <td>460.515904</td>\n",
       "      <td>21.459634</td>\n",
       "      <td>17.115095</td>\n",
       "      <td>872.222672</td>\n",
       "    </tr>\n",
       "    <tr>\n",
       "      <th>7</th>\n",
       "      <td>Polinomial Regression Lasso</td>\n",
       "      <td>0.093450</td>\n",
       "      <td>441.400317</td>\n",
       "      <td>21.009529</td>\n",
       "      <td>16.723153</td>\n",
       "      <td>872.908720</td>\n",
       "    </tr>\n",
       "    <tr>\n",
       "      <th>8</th>\n",
       "      <td>Polinomial Regression Ridge</td>\n",
       "      <td>0.104010</td>\n",
       "      <td>436.258326</td>\n",
       "      <td>20.886798</td>\n",
       "      <td>16.618534</td>\n",
       "      <td>816.743978</td>\n",
       "    </tr>\n",
       "    <tr>\n",
       "      <th>9</th>\n",
       "      <td>Polinomial Regression Elastic Net</td>\n",
       "      <td>0.102593</td>\n",
       "      <td>436.948243</td>\n",
       "      <td>20.903307</td>\n",
       "      <td>16.631439</td>\n",
       "      <td>872.926053</td>\n",
       "    </tr>\n",
       "  </tbody>\n",
       "</table>\n",
       "</div>"
      ],
      "text/plain": [
       "                      Algorithm Name        R2         MSE       RMSE  \\\n",
       "0                  Linear Regression  0.054306  460.459387  21.458317   \n",
       "1            Decision Tree Regressor  0.872488   62.085563   7.879439   \n",
       "2            Random Forest Regressor  0.913614   42.061652   6.485496   \n",
       "3              Polinomial Regression  0.104011  436.257712  20.886783   \n",
       "4            Linear Regression Lasso  0.054275  460.474510  21.458670   \n",
       "5            Linear Regression Ridge  0.054202  460.509779  21.459492   \n",
       "6      Linear Regression Elastic Net  0.054190  460.515904  21.459634   \n",
       "7        Polinomial Regression Lasso  0.093450  441.400317  21.009529   \n",
       "8        Polinomial Regression Ridge  0.104010  436.258326  20.886798   \n",
       "9  Polinomial Regression Elastic Net  0.102593  436.948243  20.903307   \n",
       "\n",
       "         MAE        MAPE  \n",
       "0  17.115537  849.986898  \n",
       "1   3.529543  880.101747  \n",
       "2   4.459579  884.179048  \n",
       "3  16.618534  816.738614  \n",
       "4  17.115590  872.248670  \n",
       "5  17.114989  850.551244  \n",
       "6  17.115095  872.222672  \n",
       "7  16.723153  872.908720  \n",
       "8  16.618534  816.743978  \n",
       "9  16.631439  872.926053  "
      ]
     },
     "execution_count": 134,
     "metadata": {},
     "output_type": "execute_result"
    }
   ],
   "source": [
    "values_metrics_test = [list_R2_test, list_MSE_test, list_RMSE_test, list_MAE_test, list_MAPE_test]\n",
    "df_tab_test = show_table(names_algorithm, names_metrics, values_metrics_test)\n",
    "df_tab_test"
   ]
  }
 ],
 "metadata": {
  "kernelspec": {
   "display_name": "Python 3 (ipykernel)",
   "language": "python",
   "name": "python3"
  },
  "language_info": {
   "codemirror_mode": {
    "name": "ipython",
    "version": 3
   },
   "file_extension": ".py",
   "mimetype": "text/x-python",
   "name": "python",
   "nbconvert_exporter": "python",
   "pygments_lexer": "ipython3",
   "version": "3.11.3"
  }
 },
 "nbformat": 4,
 "nbformat_minor": 5
}
