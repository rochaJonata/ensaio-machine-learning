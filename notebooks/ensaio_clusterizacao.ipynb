{
 "cells": [
  {
   "cell_type": "markdown",
   "id": "3bc6a7f9-967f-439b-a56b-91a99a305d4d",
   "metadata": {
    "jp-MarkdownHeadingCollapsed": true
   },
   "source": [
    "# Import of libraries"
   ]
  },
  {
   "cell_type": "code",
   "execution_count": 1,
   "id": "3de1f709-0d1c-467a-b292-b1eca9def53f",
   "metadata": {},
   "outputs": [],
   "source": [
    "import pandas as pd"
   ]
  },
  {
   "cell_type": "code",
   "execution_count": 2,
   "id": "82e474c3-f71a-492e-a38f-6c6cdb3f7cd9",
   "metadata": {},
   "outputs": [],
   "source": [
    "from sklearn import cluster as ct"
   ]
  },
  {
   "cell_type": "code",
   "execution_count": 3,
   "id": "cf781273-b6c8-49f0-bb64-10987d765d09",
   "metadata": {},
   "outputs": [],
   "source": [
    "from matplotlib import pyplot as plt"
   ]
  },
  {
   "cell_type": "code",
   "execution_count": 4,
   "id": "631c5654-258c-46d6-b99e-298ef9ee8e88",
   "metadata": {},
   "outputs": [],
   "source": [
    "from sklearn import metrics as mt"
   ]
  },
  {
   "cell_type": "markdown",
   "id": "1c810591-7b7c-4147-ae23-48f0475936b8",
   "metadata": {
    "jp-MarkdownHeadingCollapsed": true
   },
   "source": [
    "# Function definition"
   ]
  },
  {
   "cell_type": "code",
   "execution_count": 5,
   "id": "0370638b-f3e1-40a6-9c37-37d3e70d6793",
   "metadata": {},
   "outputs": [],
   "source": [
    "def show_table(list_names_algorithm, list_names_metrics, list_values_metrics):\n",
    "\n",
    "    \"\"\"\n",
    "    This function is responsible for creating a table and displaying it.\n",
    "\n",
    "    Args:\n",
    "        parameter1 (list): Receives a list with the names of the algorithms worked on.\n",
    "        parameter2 (list): Receives a list with the names of the defined metrics.\n",
    "        parameter3 (list): Receives a list of lists with the resulting metric values. \n",
    "                           The size of that list must be equal to the size of the list of the first parameter, \n",
    "                           Otherwise, an error will occur.\n",
    "\n",
    "    Returns:\n",
    "        returns a table in dataframe format.\n",
    "\n",
    "    Example:\n",
    "        algorithm = ['A','B', 'C']\n",
    "        metrics = ['aa', 'bb', 'cc']\n",
    "        values = [[1], [2], [3]]\n",
    "        show_table(algorithm, metrics, values)\n",
    "    \"\"\"\n",
    "    \n",
    "    # Create a dictionary = table\n",
    "    tab = {}\n",
    "\n",
    "    # Add elements to the dictionary by assigning a value to a specific key\n",
    "    tab['Algorithm Name'] = list_names_algorithm\n",
    "\n",
    "    # Error handling\n",
    "    try:\n",
    "        # Scrolling through the list\n",
    "        for names in list_names_metrics:\n",
    "            # Add elements to the dictionary by assigning a value to a specific key\n",
    "            tab[names] = list_values_metrics[list_names_metrics.index(names)]\n",
    "\n",
    "        # Create a DataFrame from data\n",
    "        df_tab = pd.DataFrame(tab)\n",
    "            \n",
    "    except ValueError:\n",
    "        \n",
    "        print('Unable to execute this command! Check the size and type of the third parameter.')\n",
    "        \n",
    "    else:\n",
    "        # Returns a dataframe\n",
    "        return df_tab"
   ]
  },
  {
   "cell_type": "markdown",
   "id": "7b15cc3d-ceaa-4eb2-9219-61ea2db11aeb",
   "metadata": {
    "jp-MarkdownHeadingCollapsed": true
   },
   "source": [
    "# Loading data"
   ]
  },
  {
   "cell_type": "code",
   "execution_count": 6,
   "id": "75436dbd-0ed7-4778-89ad-6bc8f1192378",
   "metadata": {},
   "outputs": [],
   "source": [
    "x = pd.read_csv('../Datasets/ensaio_clusterizacao/X_dataset.csv')"
   ]
  },
  {
   "cell_type": "code",
   "execution_count": null,
   "id": "db59c1a3-7904-47b0-9070-8aaaff82de55",
   "metadata": {},
   "outputs": [],
   "source": [
    "plt.scatter(x.iloc[:, 0], x.iloc[:, 1])"
   ]
  },
  {
   "cell_type": "markdown",
   "id": "3c07e00a-37fc-4c0c-a772-350c0676cd01",
   "metadata": {
    "jp-MarkdownHeadingCollapsed": true
   },
   "source": [
    "# Training unsupervised learning algorithms"
   ]
  },
  {
   "cell_type": "markdown",
   "id": "c4373be9-df07-4afc-aee7-45b0d205dd83",
   "metadata": {
    "jp-MarkdownHeadingCollapsed": true
   },
   "source": [
    "### K-Means"
   ]
  },
  {
   "cell_type": "code",
   "execution_count": 17,
   "id": "13558cf2-ae17-4642-a506-d49d5e5656d6",
   "metadata": {},
   "outputs": [],
   "source": [
    "model_kmeans = ct.KMeans(n_clusters=6, n_init='auto')"
   ]
  },
  {
   "cell_type": "code",
   "execution_count": 18,
   "id": "5882faff-0213-4efb-a0fc-08e1302d8fc5",
   "metadata": {},
   "outputs": [],
   "source": [
    "kmeans = model_kmeans.fit(x)"
   ]
  },
  {
   "cell_type": "markdown",
   "id": "9e5fe099-1167-4338-80ab-acde0bb08234",
   "metadata": {
    "jp-MarkdownHeadingCollapsed": true
   },
   "source": [
    "#### Obtendo o melhor parametro K"
   ]
  },
  {
   "cell_type": "code",
   "execution_count": null,
   "id": "8dc91739-ccfb-4d81-87bd-8b32c1f2962a",
   "metadata": {},
   "outputs": [],
   "source": [
    "#Elbow Method\n",
    "\n",
    "# Valores de clusters\n",
    "n_clusters = list(range(2, 100))\n",
    "\n",
    "# Lista para armezenar os valores da silhouette score\n",
    "list_ss = []\n",
    "\n",
    "for n in n_clusters:\n",
    "\n",
    "    # Treinamento do modelo\n",
    "    model_kmeans = ct.KMeans(n_clusters=n, n_init='auto').fit(x)\n",
    "\n",
    "    # Previsão\n",
    "    labels = model_kmeans.predict(x)\n",
    "\n",
    "    # Performance\n",
    "    ss = mt.silhouette_score(x, labels)\n",
    "\n",
    "    list_ss.append(ss)"
   ]
  },
  {
   "cell_type": "code",
   "execution_count": null,
   "id": "af8c0e30-cebb-443f-80c4-9b28defc4250",
   "metadata": {},
   "outputs": [],
   "source": [
    "# Plotando a performance em função do numero de clusters\n",
    "plt.plot(n_clusters, list_ss, marker='o')\n",
    "plt.xlabel('Numero de Clusters')\n",
    "plt.ylabel('Silhouette Score')"
   ]
  },
  {
   "cell_type": "code",
   "execution_count": null,
   "id": "98a57935-8661-483f-9bb8-b0f68e68db48",
   "metadata": {},
   "outputs": [],
   "source": [
    "# O melhor valor de clusters ou seja valor de n\n",
    "n = list_ss.index(max(list_ss)) + 2\n",
    "n"
   ]
  },
  {
   "cell_type": "code",
   "execution_count": null,
   "id": "9171482c-9725-4db0-afc5-8b35f2a532a4",
   "metadata": {},
   "outputs": [],
   "source": [
    "# Plotando os dados do dataset e os clusters formandos junto com os seu centroides\n",
    "plt.scatter(x.iloc[:, 0], x.iloc[:, 1], c=labels)\n",
    "\n",
    "for i in range(len(model_kmeans.cluster_centers_)):\n",
    "    plt.scatter( \n",
    "        model_kmeans.cluster_centers_[i, 0],\n",
    "        model_kmeans.cluster_centers_[i, 1],\n",
    "        marker='*',\n",
    "        c='orange',\n",
    "        s=160\n",
    "    )"
   ]
  },
  {
   "cell_type": "markdown",
   "id": "9cf512ed-2b1a-41c4-abc4-4160f0b9a36d",
   "metadata": {
    "jp-MarkdownHeadingCollapsed": true
   },
   "source": [
    "### Affinity Propagation"
   ]
  },
  {
   "cell_type": "code",
   "execution_count": 9,
   "id": "034fe709-f9a3-4482-8778-14569533d1d9",
   "metadata": {},
   "outputs": [],
   "source": [
    "model_af = ct.AffinityPropagation(preference=-55)"
   ]
  },
  {
   "cell_type": "code",
   "execution_count": 10,
   "id": "3dcef689-02dc-4598-948a-8e7036b0895d",
   "metadata": {},
   "outputs": [],
   "source": [
    "af = model_af.fit(x)"
   ]
  },
  {
   "cell_type": "markdown",
   "id": "d78aae0c-ee28-4377-8bf1-da37a01606e3",
   "metadata": {
    "jp-MarkdownHeadingCollapsed": true
   },
   "source": [
    "#### Obtendo o melhor parametro Preference"
   ]
  },
  {
   "cell_type": "code",
   "execution_count": null,
   "id": "36bbdcac-f9f7-49cc-9ae1-bf78c35c1d07",
   "metadata": {},
   "outputs": [],
   "source": [
    "#Elbow Method\n",
    "\n",
    "# Valores de clusters\n",
    "preference = list(range(-100, -1))\n",
    "\n",
    "# Lista para armezenar os valores da silhouette score\n",
    "list_ss = []\n",
    "\n",
    "for p in preference:\n",
    "\n",
    "    # Treinamento do modelo\n",
    "    model_af = ct.AffinityPropagation(preference=p).fit(x)\n",
    "\n",
    "    # Clusterização\n",
    "    labels = model_af.predict(x)\n",
    "\n",
    "    # Performance\n",
    "    ss = mt.silhouette_score(x, labels)\n",
    "\n",
    "    list_ss.append(ss)"
   ]
  },
  {
   "cell_type": "code",
   "execution_count": null,
   "id": "3e910df6-50a9-4316-9d23-0e1685505c4e",
   "metadata": {},
   "outputs": [],
   "source": [
    "# Plotando a performance em função do numero de clusters\n",
    "plt.plot(preference, list_ss, marker='o')\n",
    "plt.xlabel('Numero de Preference')\n",
    "plt.ylabel('Silhouette Score')"
   ]
  },
  {
   "cell_type": "code",
   "execution_count": null,
   "id": "408fa594-e4cf-428d-9b70-3fd7dd2e6a33",
   "metadata": {},
   "outputs": [],
   "source": [
    "# O melhor valor de preference ou seja valor de n\n",
    "p = list_ss.index(max(list_ss)) + 2\n",
    "p"
   ]
  },
  {
   "cell_type": "code",
   "execution_count": null,
   "id": "fbaea6cc-e6a2-4483-b9a9-1db3f0f4aee9",
   "metadata": {},
   "outputs": [],
   "source": [
    "# Plotando os dados do dataset e os clusters formandos junto com os seu centroides\n",
    "plt.scatter(x.iloc[:, 0], x.iloc[:, 1], c=labels)\n",
    "\n",
    "for i in range(len(model_af.cluster_centers_)):\n",
    "    plt.scatter( \n",
    "        model_af.cluster_centers_[i, 0],\n",
    "        model_af.cluster_centers_[i, 1],\n",
    "        marker='*',\n",
    "        c='orange',\n",
    "        s=160\n",
    "    )"
   ]
  },
  {
   "cell_type": "markdown",
   "id": "fe3b8475-7487-4e11-aeea-6c2275011b55",
   "metadata": {
    "jp-MarkdownHeadingCollapsed": true
   },
   "source": [
    "# Cluterization of observations"
   ]
  },
  {
   "cell_type": "markdown",
   "id": "d56b7db1-9297-4a35-ba01-74dce8eb7e47",
   "metadata": {
    "jp-MarkdownHeadingCollapsed": true
   },
   "source": [
    "### K-Means"
   ]
  },
  {
   "cell_type": "code",
   "execution_count": 19,
   "id": "552f859c-b93e-4c2c-9969-d8aef9a14eb9",
   "metadata": {},
   "outputs": [],
   "source": [
    "labels_kmeans = kmeans.predict(x)"
   ]
  },
  {
   "cell_type": "markdown",
   "id": "d76e9c61-83b5-46da-b4fd-a8b67295c334",
   "metadata": {
    "jp-MarkdownHeadingCollapsed": true
   },
   "source": [
    "### Affinity Propagation"
   ]
  },
  {
   "cell_type": "code",
   "execution_count": 12,
   "id": "bc264887-c110-4fd9-9be7-6f59e55d6727",
   "metadata": {},
   "outputs": [],
   "source": [
    "labels_af = model_af.predict(x)"
   ]
  },
  {
   "cell_type": "markdown",
   "id": "7ad930bd-fc3f-415f-ae80-bbf881aaeabf",
   "metadata": {
    "jp-MarkdownHeadingCollapsed": true
   },
   "source": [
    "# Performance"
   ]
  },
  {
   "cell_type": "code",
   "execution_count": 21,
   "id": "85f3ae4f-cbf9-4226-984e-253d1755c1d4",
   "metadata": {},
   "outputs": [],
   "source": [
    "list_ss = []"
   ]
  },
  {
   "cell_type": "markdown",
   "id": "814a7388-73fa-40ac-bd38-563433e2cd5c",
   "metadata": {
    "jp-MarkdownHeadingCollapsed": true
   },
   "source": [
    "### K-Means"
   ]
  },
  {
   "cell_type": "code",
   "execution_count": 22,
   "id": "a38697af-a5f2-4231-a23d-e8a9c0179022",
   "metadata": {},
   "outputs": [
    {
     "data": {
      "text/plain": [
       "0.180299894818958"
      ]
     },
     "execution_count": 22,
     "metadata": {},
     "output_type": "execute_result"
    }
   ],
   "source": [
    "ss_kmeans = mt.silhouette_score(x, labels_kmeans)\n",
    "list_ss.append(ss_kmeans)\n",
    "ss_kmeans"
   ]
  },
  {
   "cell_type": "markdown",
   "id": "52c0ea46-4727-402f-ad13-6ee74fd51403",
   "metadata": {
    "jp-MarkdownHeadingCollapsed": true
   },
   "source": [
    "### Affinity Propagation"
   ]
  },
  {
   "cell_type": "code",
   "execution_count": 23,
   "id": "373c19de-4d94-42d0-ad87-808fb6bd0a70",
   "metadata": {},
   "outputs": [
    {
     "data": {
      "text/plain": [
       "0.20118042030593164"
      ]
     },
     "execution_count": 23,
     "metadata": {},
     "output_type": "execute_result"
    }
   ],
   "source": [
    "ss_af = mt.silhouette_score(x, labels_af)\n",
    "list_ss.append(ss_af)\n",
    "ss_af"
   ]
  },
  {
   "cell_type": "markdown",
   "id": "1f763973-a64e-4b36-85ff-9c2b06531ee1",
   "metadata": {
    "jp-MarkdownHeadingCollapsed": true
   },
   "source": [
    "## Tabela de Performance sobre os dados"
   ]
  },
  {
   "cell_type": "code",
   "execution_count": 24,
   "id": "ef97d927-a56b-4e8a-a374-18b795a77c67",
   "metadata": {},
   "outputs": [
    {
     "data": {
      "text/html": [
       "<div>\n",
       "<style scoped>\n",
       "    .dataframe tbody tr th:only-of-type {\n",
       "        vertical-align: middle;\n",
       "    }\n",
       "\n",
       "    .dataframe tbody tr th {\n",
       "        vertical-align: top;\n",
       "    }\n",
       "\n",
       "    .dataframe thead th {\n",
       "        text-align: right;\n",
       "    }\n",
       "</style>\n",
       "<table border=\"1\" class=\"dataframe\">\n",
       "  <thead>\n",
       "    <tr style=\"text-align: right;\">\n",
       "      <th></th>\n",
       "      <th>Algorithm Name</th>\n",
       "      <th>Silhouette Score</th>\n",
       "    </tr>\n",
       "  </thead>\n",
       "  <tbody>\n",
       "    <tr>\n",
       "      <th>0</th>\n",
       "      <td>K-Means</td>\n",
       "      <td>0.18030</td>\n",
       "    </tr>\n",
       "    <tr>\n",
       "      <th>1</th>\n",
       "      <td>Affinity Propagation</td>\n",
       "      <td>0.20118</td>\n",
       "    </tr>\n",
       "  </tbody>\n",
       "</table>\n",
       "</div>"
      ],
      "text/plain": [
       "         Algorithm Name  Silhouette Score\n",
       "0               K-Means           0.18030\n",
       "1  Affinity Propagation           0.20118"
      ]
     },
     "execution_count": 24,
     "metadata": {},
     "output_type": "execute_result"
    }
   ],
   "source": [
    "show_table(['K-Means', 'Affinity Propagation'], ['Silhouette Score'], [list_ss])"
   ]
  }
 ],
 "metadata": {
  "kernelspec": {
   "display_name": "Python 3 (ipykernel)",
   "language": "python",
   "name": "python3"
  },
  "language_info": {
   "codemirror_mode": {
    "name": "ipython",
    "version": 3
   },
   "file_extension": ".py",
   "mimetype": "text/x-python",
   "name": "python",
   "nbconvert_exporter": "python",
   "pygments_lexer": "ipython3",
   "version": "3.11.3"
  }
 },
 "nbformat": 4,
 "nbformat_minor": 5
}
