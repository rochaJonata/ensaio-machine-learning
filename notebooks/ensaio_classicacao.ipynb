{
 "cells": [
  {
   "cell_type": "markdown",
   "id": "dd8778d1-36a3-41a9-a2aa-fa8e1c698a34",
   "metadata": {
    "jp-MarkdownHeadingCollapsed": true
   },
   "source": [
    "# Import of libraries"
   ]
  },
  {
   "cell_type": "code",
   "execution_count": 1,
   "id": "9723713e-93fb-41de-b882-d614607dfcd0",
   "metadata": {},
   "outputs": [],
   "source": [
    "from sklearn.linear_model import LogisticRegression"
   ]
  },
  {
   "cell_type": "code",
   "execution_count": 2,
   "id": "632b6a14-9aa2-4f72-be10-46f8cb24acbd",
   "metadata": {},
   "outputs": [],
   "source": [
    "from sklearn.ensemble import RandomForestClassifier"
   ]
  },
  {
   "cell_type": "code",
   "execution_count": 3,
   "id": "747e2448-c380-418c-9e35-43b14c1f9d1a",
   "metadata": {},
   "outputs": [],
   "source": [
    "from sklearn.neighbors import KNeighborsClassifier"
   ]
  },
  {
   "cell_type": "code",
   "execution_count": 4,
   "id": "3ba413fc-ca73-4d2d-b453-6f16d0ad8a4e",
   "metadata": {},
   "outputs": [],
   "source": [
    "from IPython.display import Image"
   ]
  },
  {
   "cell_type": "code",
   "execution_count": 5,
   "id": "2ff3b040-bd82-4497-8bc2-e198f479530c",
   "metadata": {},
   "outputs": [],
   "source": [
    "from sklearn import metrics as mt"
   ]
  },
  {
   "cell_type": "code",
   "execution_count": 6,
   "id": "8b9f3a0f-ae8b-492c-95cf-3d4868fc1e47",
   "metadata": {},
   "outputs": [],
   "source": [
    "import matplotlib.pyplot as plt"
   ]
  },
  {
   "cell_type": "code",
   "execution_count": 7,
   "id": "076260cf-9b7b-44d2-9208-d390c43c2405",
   "metadata": {},
   "outputs": [],
   "source": [
    "from sklearn import tree as tr"
   ]
  },
  {
   "cell_type": "code",
   "execution_count": 8,
   "id": "0764d26b-1426-4f09-964a-38b26c549d08",
   "metadata": {},
   "outputs": [],
   "source": [
    "from six import StringIO"
   ]
  },
  {
   "cell_type": "code",
   "execution_count": 9,
   "id": "1df95789-ecc9-465c-8c7e-0a0c0154cd1b",
   "metadata": {},
   "outputs": [],
   "source": [
    "import seaborn as sns"
   ]
  },
  {
   "cell_type": "code",
   "execution_count": 10,
   "id": "23d3f956-5130-4eff-aac5-50a3d0bc8f58",
   "metadata": {},
   "outputs": [],
   "source": [
    "import pandas as pd"
   ]
  },
  {
   "cell_type": "code",
   "execution_count": 11,
   "id": "7eb3df1b-69d5-4d32-b299-a521fc86a2a7",
   "metadata": {},
   "outputs": [],
   "source": [
    "import numpy as np"
   ]
  },
  {
   "cell_type": "code",
   "execution_count": 12,
   "id": "2e8baf45-0b18-422a-b368-fa7d10cbb2a1",
   "metadata": {},
   "outputs": [],
   "source": [
    "import pydotplus"
   ]
  },
  {
   "cell_type": "code",
   "execution_count": 13,
   "id": "afbf57bf-e5b4-48ba-a57e-8ed385112532",
   "metadata": {},
   "outputs": [],
   "source": [
    "import graphviz"
   ]
  },
  {
   "cell_type": "code",
   "execution_count": 14,
   "id": "8aca2fb8-f55e-4f9a-aede-bea5f365d0e5",
   "metadata": {},
   "outputs": [],
   "source": [
    "import cv2"
   ]
  },
  {
   "cell_type": "markdown",
   "id": "d7826e74-7509-4084-b971-1cf8552b2c39",
   "metadata": {
    "jp-MarkdownHeadingCollapsed": true
   },
   "source": [
    "# Function definition"
   ]
  },
  {
   "cell_type": "code",
   "execution_count": 15,
   "id": "b842caf1-a4f1-406e-9dab-15dd76b3fca6",
   "metadata": {},
   "outputs": [],
   "source": [
    "def join_data(x_df1, x_df2, y_df1, y_df2):\n",
    "    \n",
    "    \"\"\"\n",
    "    This function is responsible for joining the dataframes.\n",
    "\n",
    "    Args:\n",
    "        parameter1 (DataFrame): Receives a dataframe that will join with the x_df2.\n",
    "        parameter2 (DataFrame): Receives a dataframe that will join with the x_df1.\n",
    "        parameter3 (DataFrame): Receives a dataframe that will join with the y_df2.\n",
    "        parameter4 (DataFrame): Receives a dataframe that will join with the y_df1.\n",
    "\n",
    "    Returns:\n",
    "        returns two dataframes.\n",
    "\n",
    "    Example:\n",
    "        df1\n",
    "        df2\n",
    "        df3\n",
    "        df4\n",
    "        x, y = join_data(df1, df2, df3, df4)\n",
    "    \"\"\"\n",
    "    # Combining the data from x_df1 and x_df2, the DataFrames vertically, resetting the indices\n",
    "    new_x = pd.concat([x_df1, x_df2], axis=0)\n",
    "    new_x.reset_index(drop=True, inplace=True)\n",
    "\n",
    "    # Combining the data from y_df1 and y_df2, the DataFrames vertically, resetting the indices\n",
    "    new_y = pd.concat([y_df1, y_df2], axis=0)\n",
    "    new_y.reset_index(drop=True, inplace=True)\n",
    "\n",
    "    # Returns two dataframes\n",
    "    return new_x, new_y"
   ]
  },
  {
   "cell_type": "code",
   "execution_count": 16,
   "id": "fc914d10-e991-4d11-bd42-2572db1d42e9",
   "metadata": {},
   "outputs": [],
   "source": [
    "def get_metrics(y_real, y_pred, list_accuracy, list_precision, list_recall, list_f1Score):\n",
    "\n",
    "    \"\"\"\n",
    "    This function is responsible for calculating the metrics: Accuracy, Precision, Recall and F1-Score.\n",
    "\n",
    "    Args:\n",
    "        parameter1 (DataFrame): represents the actual values.\n",
    "        parameter2 (numpy.ndarray): represents the predicted values. \n",
    "        parameter3 (list): location where the Accuracy metrics will be stored\n",
    "        parameter4 (list): location where the Precision metrics will be stored\n",
    "        parameter5 (list): location where the Recall metrics will be stored\n",
    "        parameter6 (list): location where the f1Score metrics will be stored\n",
    "\n",
    "    Returns:\n",
    "        There is no return.\n",
    "\n",
    "    Example:\n",
    "        get_metrics(y_real, y_pred, list_accuracy, list_precision, list_recall, list_f1Score)\n",
    "    \"\"\"\n",
    "    \n",
    "    # Accuracy\n",
    "    accuracy = mt.accuracy_score(y_real, y_pred)\n",
    "    list_accuracy.append(accuracy)\n",
    "\n",
    "    # Precision\n",
    "    precision = mt.precision_score(y_real, y_pred, average='binary')\n",
    "    list_precision.append(precision)\n",
    "\n",
    "    # Recall\n",
    "    recall = mt.recall_score(y_real, y_pred, average='binary')\n",
    "    list_recall.append(recall)\n",
    "\n",
    "    # F1-Score\n",
    "    f1Score = mt.f1_score(y_real, y_pred)\n",
    "    list_f1Score.append(f1Score)"
   ]
  },
  {
   "cell_type": "code",
   "execution_count": 17,
   "id": "059a087c-d5d8-4a2b-9cae-d61877102714",
   "metadata": {},
   "outputs": [],
   "source": [
    "def show_table(list_names_algorithm, list_names_metrics, list_values_metrics):\n",
    "\n",
    "    \"\"\"\n",
    "    This function is responsible for creating a table and displaying it.\n",
    "\n",
    "    Args:\n",
    "        parameter1 (list): Receives a list with the names of the algorithms worked on.\n",
    "        parameter2 (list): Receives a list with the names of the defined metrics.\n",
    "        parameter3 (list): Receives a list of lists with the resulting metric values. \n",
    "                           The size of that list must be equal to the size of the list of the first parameter, \n",
    "                           Otherwise, an error will occur.\n",
    "\n",
    "    Returns:\n",
    "        returns a table in dataframe format.\n",
    "\n",
    "    Example:\n",
    "        algorithm = ['A','B', 'C']\n",
    "        metrics = ['aa', 'bb', 'cc']\n",
    "        values = [[1], [2], [3]]\n",
    "        show_table(algorithm, metrics, values)\n",
    "    \"\"\"\n",
    "    \n",
    "    # Create a dictionary = table\n",
    "    tab = {}\n",
    "\n",
    "    # Add elements to the dictionary by assigning a value to a specific key\n",
    "    tab['Algorithm Name'] = list_names_algorithm\n",
    "\n",
    "    # Error handling\n",
    "    try:\n",
    "        # Scrolling through the list\n",
    "        for names in list_names_metrics:\n",
    "            # Add elements to the dictionary by assigning a value to a specific key\n",
    "            tab[names] = list_values_metrics[list_names_metrics.index(names)]\n",
    "\n",
    "        # Create a DataFrame from data\n",
    "        df_tab = pd.DataFrame(tab)\n",
    "            \n",
    "    except ValueError:\n",
    "        \n",
    "        print('Unable to execute this command! Check the size and type of the third parameter.')\n",
    "        \n",
    "    else:\n",
    "        # Returns a dataframe\n",
    "        return df_tab"
   ]
  },
  {
   "cell_type": "markdown",
   "id": "63278304-450e-4d24-b290-0a820749b941",
   "metadata": {
    "jp-MarkdownHeadingCollapsed": true
   },
   "source": [
    "# Loading data"
   ]
  },
  {
   "cell_type": "code",
   "execution_count": 18,
   "id": "c56ac94f-c680-4184-b3c6-df02ce3d4119",
   "metadata": {},
   "outputs": [],
   "source": [
    "x_train = pd.read_csv('../Datasets/ensaio_classificacao/X_training.csv')"
   ]
  },
  {
   "cell_type": "code",
   "execution_count": 19,
   "id": "d6fc232f-7bf1-456a-a036-f15f3c1f6e79",
   "metadata": {},
   "outputs": [],
   "source": [
    "y_train = pd.read_csv('../Datasets/ensaio_classificacao/Y_training.csv')"
   ]
  },
  {
   "cell_type": "code",
   "execution_count": 20,
   "id": "4bea2ce4-9192-45da-8a92-1fbe9354b45e",
   "metadata": {},
   "outputs": [],
   "source": [
    "x_vld = pd.read_csv('../Datasets/ensaio_classificacao/X_validation.csv')"
   ]
  },
  {
   "cell_type": "code",
   "execution_count": 21,
   "id": "268c6744-1e8e-4b33-98f6-a263939cc91b",
   "metadata": {},
   "outputs": [],
   "source": [
    "y_vld = pd.read_csv('../Datasets/ensaio_classificacao/Y_validation.csv')"
   ]
  },
  {
   "cell_type": "code",
   "execution_count": 22,
   "id": "8d7a66e6-c91b-4347-9c92-5e889aef3536",
   "metadata": {},
   "outputs": [],
   "source": [
    "x_test = pd.read_csv('../Datasets/ensaio_classificacao/X_test.csv')"
   ]
  },
  {
   "cell_type": "code",
   "execution_count": 23,
   "id": "61b53c3a-5d43-485f-bfeb-fad2e49b269d",
   "metadata": {},
   "outputs": [],
   "source": [
    "y_test = pd.read_csv('../Datasets/ensaio_classificacao/Y_test.csv')"
   ]
  },
  {
   "cell_type": "code",
   "execution_count": 24,
   "id": "8f3efc7f-65c5-4ca9-aef9-82dd2141157c",
   "metadata": {},
   "outputs": [],
   "source": [
    "# Juntando os dados de treinamento com os dados de validação\n",
    "x_train_vld, y_train_vld = join_data(x_train, x_vld, y_train, y_vld)"
   ]
  },
  {
   "cell_type": "code",
   "execution_count": 25,
   "id": "b6cebea1-2ae4-47d3-9f0f-1bef0cbe5acf",
   "metadata": {},
   "outputs": [],
   "source": [
    "# Juntando os dados de teste com os dados juntados anteriormente\n",
    "x, y = join_data(x_test, x_train_vld, y_test, y_train_vld)"
   ]
  },
  {
   "cell_type": "code",
   "execution_count": 26,
   "id": "eca15df7-ecb6-48e0-bbdd-3158fd077b2a",
   "metadata": {},
   "outputs": [],
   "source": [
    "# OBS1: os dados carregados já foram feitos as seleções de features e preparação de dados\n",
    "# OBS2: .values - retorna um objeto view que contém os valores do dicionário, como uma lista \n",
    "#       .ravel() - retorna uma matriz 1D nivelada contígua\n",
    "#       .values.ravel() = transformando em um array unidimensional"
   ]
  },
  {
   "cell_type": "markdown",
   "id": "13eccab4-6932-4814-be51-9f5b9034b66f",
   "metadata": {
    "jp-MarkdownHeadingCollapsed": true
   },
   "source": [
    "# Training Supervised Learning Algorithms for Classification"
   ]
  },
  {
   "cell_type": "markdown",
   "id": "cd86fc33-3560-43d5-bcb8-adfbc9db3f0f",
   "metadata": {
    "jp-MarkdownHeadingCollapsed": true
   },
   "source": [
    "## KNN"
   ]
  },
  {
   "cell_type": "markdown",
   "id": "d13cb649-9100-4185-a652-994a699542e6",
   "metadata": {
    "jp-MarkdownHeadingCollapsed": true
   },
   "source": [
    "### Para dados de treinamento"
   ]
  },
  {
   "cell_type": "code",
   "execution_count": 27,
   "id": "0a419e65-67fb-4fc0-8781-ae0ba053a889",
   "metadata": {},
   "outputs": [],
   "source": [
    "knn_classifier = KNeighborsClassifier()"
   ]
  },
  {
   "cell_type": "code",
   "execution_count": 28,
   "id": "28a53ff8-cd81-473a-bd0b-196400e1d178",
   "metadata": {},
   "outputs": [
    {
     "data": {
      "text/html": [
       "<style>#sk-container-id-1 {color: black;background-color: white;}#sk-container-id-1 pre{padding: 0;}#sk-container-id-1 div.sk-toggleable {background-color: white;}#sk-container-id-1 label.sk-toggleable__label {cursor: pointer;display: block;width: 100%;margin-bottom: 0;padding: 0.3em;box-sizing: border-box;text-align: center;}#sk-container-id-1 label.sk-toggleable__label-arrow:before {content: \"▸\";float: left;margin-right: 0.25em;color: #696969;}#sk-container-id-1 label.sk-toggleable__label-arrow:hover:before {color: black;}#sk-container-id-1 div.sk-estimator:hover label.sk-toggleable__label-arrow:before {color: black;}#sk-container-id-1 div.sk-toggleable__content {max-height: 0;max-width: 0;overflow: hidden;text-align: left;background-color: #f0f8ff;}#sk-container-id-1 div.sk-toggleable__content pre {margin: 0.2em;color: black;border-radius: 0.25em;background-color: #f0f8ff;}#sk-container-id-1 input.sk-toggleable__control:checked~div.sk-toggleable__content {max-height: 200px;max-width: 100%;overflow: auto;}#sk-container-id-1 input.sk-toggleable__control:checked~label.sk-toggleable__label-arrow:before {content: \"▾\";}#sk-container-id-1 div.sk-estimator input.sk-toggleable__control:checked~label.sk-toggleable__label {background-color: #d4ebff;}#sk-container-id-1 div.sk-label input.sk-toggleable__control:checked~label.sk-toggleable__label {background-color: #d4ebff;}#sk-container-id-1 input.sk-hidden--visually {border: 0;clip: rect(1px 1px 1px 1px);clip: rect(1px, 1px, 1px, 1px);height: 1px;margin: -1px;overflow: hidden;padding: 0;position: absolute;width: 1px;}#sk-container-id-1 div.sk-estimator {font-family: monospace;background-color: #f0f8ff;border: 1px dotted black;border-radius: 0.25em;box-sizing: border-box;margin-bottom: 0.5em;}#sk-container-id-1 div.sk-estimator:hover {background-color: #d4ebff;}#sk-container-id-1 div.sk-parallel-item::after {content: \"\";width: 100%;border-bottom: 1px solid gray;flex-grow: 1;}#sk-container-id-1 div.sk-label:hover label.sk-toggleable__label {background-color: #d4ebff;}#sk-container-id-1 div.sk-serial::before {content: \"\";position: absolute;border-left: 1px solid gray;box-sizing: border-box;top: 0;bottom: 0;left: 50%;z-index: 0;}#sk-container-id-1 div.sk-serial {display: flex;flex-direction: column;align-items: center;background-color: white;padding-right: 0.2em;padding-left: 0.2em;position: relative;}#sk-container-id-1 div.sk-item {position: relative;z-index: 1;}#sk-container-id-1 div.sk-parallel {display: flex;align-items: stretch;justify-content: center;background-color: white;position: relative;}#sk-container-id-1 div.sk-item::before, #sk-container-id-1 div.sk-parallel-item::before {content: \"\";position: absolute;border-left: 1px solid gray;box-sizing: border-box;top: 0;bottom: 0;left: 50%;z-index: -1;}#sk-container-id-1 div.sk-parallel-item {display: flex;flex-direction: column;z-index: 1;position: relative;background-color: white;}#sk-container-id-1 div.sk-parallel-item:first-child::after {align-self: flex-end;width: 50%;}#sk-container-id-1 div.sk-parallel-item:last-child::after {align-self: flex-start;width: 50%;}#sk-container-id-1 div.sk-parallel-item:only-child::after {width: 0;}#sk-container-id-1 div.sk-dashed-wrapped {border: 1px dashed gray;margin: 0 0.4em 0.5em 0.4em;box-sizing: border-box;padding-bottom: 0.4em;background-color: white;}#sk-container-id-1 div.sk-label label {font-family: monospace;font-weight: bold;display: inline-block;line-height: 1.2em;}#sk-container-id-1 div.sk-label-container {text-align: center;}#sk-container-id-1 div.sk-container {/* jupyter's `normalize.less` sets `[hidden] { display: none; }` but bootstrap.min.css set `[hidden] { display: none !important; }` so we also need the `!important` here to be able to override the default hidden behavior on the sphinx rendered scikit-learn.org. See: https://github.com/scikit-learn/scikit-learn/issues/21755 */display: inline-block !important;position: relative;}#sk-container-id-1 div.sk-text-repr-fallback {display: none;}</style><div id=\"sk-container-id-1\" class=\"sk-top-container\"><div class=\"sk-text-repr-fallback\"><pre>KNeighborsClassifier()</pre><b>In a Jupyter environment, please rerun this cell to show the HTML representation or trust the notebook. <br />On GitHub, the HTML representation is unable to render, please try loading this page with nbviewer.org.</b></div><div class=\"sk-container\" hidden><div class=\"sk-item\"><div class=\"sk-estimator sk-toggleable\"><input class=\"sk-toggleable__control sk-hidden--visually\" id=\"sk-estimator-id-1\" type=\"checkbox\" checked><label for=\"sk-estimator-id-1\" class=\"sk-toggleable__label sk-toggleable__label-arrow\">KNeighborsClassifier</label><div class=\"sk-toggleable__content\"><pre>KNeighborsClassifier()</pre></div></div></div></div></div>"
      ],
      "text/plain": [
       "KNeighborsClassifier()"
      ]
     },
     "execution_count": 28,
     "metadata": {},
     "output_type": "execute_result"
    }
   ],
   "source": [
    "knn_classifier.fit(x_train, y_train.values.ravel())"
   ]
  },
  {
   "cell_type": "markdown",
   "id": "efe4e7e3-9110-4d9d-b051-cac5d66e00c2",
   "metadata": {
    "jp-MarkdownHeadingCollapsed": true
   },
   "source": [
    "### Para dados de validação"
   ]
  },
  {
   "cell_type": "code",
   "execution_count": 29,
   "id": "56b25e3f-7eea-4c7b-a64c-9534b992c250",
   "metadata": {},
   "outputs": [],
   "source": [
    "knn_classifier = KNeighborsClassifier(n_neighbors=5)"
   ]
  },
  {
   "cell_type": "code",
   "execution_count": 30,
   "id": "1378b4a4-0d49-413d-872f-8008e183752d",
   "metadata": {},
   "outputs": [
    {
     "data": {
      "text/html": [
       "<style>#sk-container-id-2 {color: black;background-color: white;}#sk-container-id-2 pre{padding: 0;}#sk-container-id-2 div.sk-toggleable {background-color: white;}#sk-container-id-2 label.sk-toggleable__label {cursor: pointer;display: block;width: 100%;margin-bottom: 0;padding: 0.3em;box-sizing: border-box;text-align: center;}#sk-container-id-2 label.sk-toggleable__label-arrow:before {content: \"▸\";float: left;margin-right: 0.25em;color: #696969;}#sk-container-id-2 label.sk-toggleable__label-arrow:hover:before {color: black;}#sk-container-id-2 div.sk-estimator:hover label.sk-toggleable__label-arrow:before {color: black;}#sk-container-id-2 div.sk-toggleable__content {max-height: 0;max-width: 0;overflow: hidden;text-align: left;background-color: #f0f8ff;}#sk-container-id-2 div.sk-toggleable__content pre {margin: 0.2em;color: black;border-radius: 0.25em;background-color: #f0f8ff;}#sk-container-id-2 input.sk-toggleable__control:checked~div.sk-toggleable__content {max-height: 200px;max-width: 100%;overflow: auto;}#sk-container-id-2 input.sk-toggleable__control:checked~label.sk-toggleable__label-arrow:before {content: \"▾\";}#sk-container-id-2 div.sk-estimator input.sk-toggleable__control:checked~label.sk-toggleable__label {background-color: #d4ebff;}#sk-container-id-2 div.sk-label input.sk-toggleable__control:checked~label.sk-toggleable__label {background-color: #d4ebff;}#sk-container-id-2 input.sk-hidden--visually {border: 0;clip: rect(1px 1px 1px 1px);clip: rect(1px, 1px, 1px, 1px);height: 1px;margin: -1px;overflow: hidden;padding: 0;position: absolute;width: 1px;}#sk-container-id-2 div.sk-estimator {font-family: monospace;background-color: #f0f8ff;border: 1px dotted black;border-radius: 0.25em;box-sizing: border-box;margin-bottom: 0.5em;}#sk-container-id-2 div.sk-estimator:hover {background-color: #d4ebff;}#sk-container-id-2 div.sk-parallel-item::after {content: \"\";width: 100%;border-bottom: 1px solid gray;flex-grow: 1;}#sk-container-id-2 div.sk-label:hover label.sk-toggleable__label {background-color: #d4ebff;}#sk-container-id-2 div.sk-serial::before {content: \"\";position: absolute;border-left: 1px solid gray;box-sizing: border-box;top: 0;bottom: 0;left: 50%;z-index: 0;}#sk-container-id-2 div.sk-serial {display: flex;flex-direction: column;align-items: center;background-color: white;padding-right: 0.2em;padding-left: 0.2em;position: relative;}#sk-container-id-2 div.sk-item {position: relative;z-index: 1;}#sk-container-id-2 div.sk-parallel {display: flex;align-items: stretch;justify-content: center;background-color: white;position: relative;}#sk-container-id-2 div.sk-item::before, #sk-container-id-2 div.sk-parallel-item::before {content: \"\";position: absolute;border-left: 1px solid gray;box-sizing: border-box;top: 0;bottom: 0;left: 50%;z-index: -1;}#sk-container-id-2 div.sk-parallel-item {display: flex;flex-direction: column;z-index: 1;position: relative;background-color: white;}#sk-container-id-2 div.sk-parallel-item:first-child::after {align-self: flex-end;width: 50%;}#sk-container-id-2 div.sk-parallel-item:last-child::after {align-self: flex-start;width: 50%;}#sk-container-id-2 div.sk-parallel-item:only-child::after {width: 0;}#sk-container-id-2 div.sk-dashed-wrapped {border: 1px dashed gray;margin: 0 0.4em 0.5em 0.4em;box-sizing: border-box;padding-bottom: 0.4em;background-color: white;}#sk-container-id-2 div.sk-label label {font-family: monospace;font-weight: bold;display: inline-block;line-height: 1.2em;}#sk-container-id-2 div.sk-label-container {text-align: center;}#sk-container-id-2 div.sk-container {/* jupyter's `normalize.less` sets `[hidden] { display: none; }` but bootstrap.min.css set `[hidden] { display: none !important; }` so we also need the `!important` here to be able to override the default hidden behavior on the sphinx rendered scikit-learn.org. See: https://github.com/scikit-learn/scikit-learn/issues/21755 */display: inline-block !important;position: relative;}#sk-container-id-2 div.sk-text-repr-fallback {display: none;}</style><div id=\"sk-container-id-2\" class=\"sk-top-container\"><div class=\"sk-text-repr-fallback\"><pre>KNeighborsClassifier()</pre><b>In a Jupyter environment, please rerun this cell to show the HTML representation or trust the notebook. <br />On GitHub, the HTML representation is unable to render, please try loading this page with nbviewer.org.</b></div><div class=\"sk-container\" hidden><div class=\"sk-item\"><div class=\"sk-estimator sk-toggleable\"><input class=\"sk-toggleable__control sk-hidden--visually\" id=\"sk-estimator-id-2\" type=\"checkbox\" checked><label for=\"sk-estimator-id-2\" class=\"sk-toggleable__label sk-toggleable__label-arrow\">KNeighborsClassifier</label><div class=\"sk-toggleable__content\"><pre>KNeighborsClassifier()</pre></div></div></div></div></div>"
      ],
      "text/plain": [
       "KNeighborsClassifier()"
      ]
     },
     "execution_count": 30,
     "metadata": {},
     "output_type": "execute_result"
    }
   ],
   "source": [
    "# Usando os melhores parametros estou reitreinando o algoritmo com os dados de treinamento e validação juntos\n",
    "knn_classifier.fit(x_train_vld, y_train_vld.values.ravel())"
   ]
  },
  {
   "cell_type": "markdown",
   "id": "0be6de21-9b66-4db2-b8fb-7163b88c8e17",
   "metadata": {
    "jp-MarkdownHeadingCollapsed": true
   },
   "source": [
    "#### Obtendo o melhor parametro"
   ]
  },
  {
   "cell_type": "code",
   "execution_count": null,
   "id": "8374af85-8689-4dae-a002-b2263e3cfdd1",
   "metadata": {},
   "outputs": [],
   "source": [
    "# Valores de k\n",
    "k_values = list(range(1, 11))\n",
    "\n",
    "# Lista para armezenar os valores da acurácia\n",
    "list_acuracia = []\n",
    "\n",
    "# Lista para armezenar os valores da precision\n",
    "list_precision_knn = []\n",
    "\n",
    "# Lista para armezenar os valores da recall\n",
    "list_recall_knn = []\n",
    "\n",
    "# Lista para armezenar os valores da f1Score\n",
    "list_f1Score_knn = []\n",
    "\n",
    "for k in k_values:\n",
    "    # Treinando o algoritmo\n",
    "    knn_classifier = KNeighborsClassifier(n_neighbors=k).fit(x_train, y_train)\n",
    "    # Classificação\n",
    "    y_pred = knn_classifier.predict(x_vld)\n",
    "    # Performance  \n",
    "    accuracy_knn = mt.accuracy_score(y_vld, y_pred)\n",
    "    list_acuracia.append(accuracy_knn)\n",
    "\n",
    "    precision_knn = mt.precision_score(y_vld, y_pred, average='binary')\n",
    "    list_precision_knn.append(precision_knn)\n",
    "\n",
    "    recall_knn = mt.recall_score(y_vld, y_pred, average='binary')\n",
    "    list_recall_knn.append(recall_knn)\n",
    "\n",
    "    f1Score_knn = mt.f1_score(y_vld, y_pred)\n",
    "    list_f1Score_knn.append(f1Score_knn)\n",
    "    "
   ]
  },
  {
   "cell_type": "code",
   "execution_count": null,
   "id": "5c23cb63-655c-4064-b61e-343c99120296",
   "metadata": {},
   "outputs": [],
   "source": [
    "# Plot da acurácia em relação a k\n",
    "plt.plot(k_values, list_acuracia, marker='o', linestyle='-', label='Acurácia')\n",
    "plt.plot(k_values, list_precision_knn, marker='o', linestyle='-', label='Precision')\n",
    "plt.plot(k_values, list_recall_knn, marker='o', linestyle='-', label='Recall')\n",
    "plt.plot(k_values, list_f1Score_knn, marker='o', linestyle='-', label='f1Score')\n",
    "\n",
    "plt.xlabel('Valor de k')\n",
    "plt.ylabel('Performance')\n",
    "plt.legend()\n",
    "plt.grid(True)\n",
    "plt.show()"
   ]
  },
  {
   "cell_type": "markdown",
   "id": "d670de4e-862a-4bf0-8306-ea8abdb8f5b2",
   "metadata": {
    "jp-MarkdownHeadingCollapsed": true
   },
   "source": [
    "### Para os dados de teste"
   ]
  },
  {
   "cell_type": "code",
   "execution_count": 31,
   "id": "6ab9f128-36ba-4392-8bd9-71735d8cc283",
   "metadata": {},
   "outputs": [],
   "source": [
    "knn_classifier = KNeighborsClassifier(n_neighbors=5)"
   ]
  },
  {
   "cell_type": "code",
   "execution_count": 32,
   "id": "ba02daef-7fb2-4468-beef-28729520d0e1",
   "metadata": {},
   "outputs": [
    {
     "data": {
      "text/html": [
       "<style>#sk-container-id-3 {color: black;background-color: white;}#sk-container-id-3 pre{padding: 0;}#sk-container-id-3 div.sk-toggleable {background-color: white;}#sk-container-id-3 label.sk-toggleable__label {cursor: pointer;display: block;width: 100%;margin-bottom: 0;padding: 0.3em;box-sizing: border-box;text-align: center;}#sk-container-id-3 label.sk-toggleable__label-arrow:before {content: \"▸\";float: left;margin-right: 0.25em;color: #696969;}#sk-container-id-3 label.sk-toggleable__label-arrow:hover:before {color: black;}#sk-container-id-3 div.sk-estimator:hover label.sk-toggleable__label-arrow:before {color: black;}#sk-container-id-3 div.sk-toggleable__content {max-height: 0;max-width: 0;overflow: hidden;text-align: left;background-color: #f0f8ff;}#sk-container-id-3 div.sk-toggleable__content pre {margin: 0.2em;color: black;border-radius: 0.25em;background-color: #f0f8ff;}#sk-container-id-3 input.sk-toggleable__control:checked~div.sk-toggleable__content {max-height: 200px;max-width: 100%;overflow: auto;}#sk-container-id-3 input.sk-toggleable__control:checked~label.sk-toggleable__label-arrow:before {content: \"▾\";}#sk-container-id-3 div.sk-estimator input.sk-toggleable__control:checked~label.sk-toggleable__label {background-color: #d4ebff;}#sk-container-id-3 div.sk-label input.sk-toggleable__control:checked~label.sk-toggleable__label {background-color: #d4ebff;}#sk-container-id-3 input.sk-hidden--visually {border: 0;clip: rect(1px 1px 1px 1px);clip: rect(1px, 1px, 1px, 1px);height: 1px;margin: -1px;overflow: hidden;padding: 0;position: absolute;width: 1px;}#sk-container-id-3 div.sk-estimator {font-family: monospace;background-color: #f0f8ff;border: 1px dotted black;border-radius: 0.25em;box-sizing: border-box;margin-bottom: 0.5em;}#sk-container-id-3 div.sk-estimator:hover {background-color: #d4ebff;}#sk-container-id-3 div.sk-parallel-item::after {content: \"\";width: 100%;border-bottom: 1px solid gray;flex-grow: 1;}#sk-container-id-3 div.sk-label:hover label.sk-toggleable__label {background-color: #d4ebff;}#sk-container-id-3 div.sk-serial::before {content: \"\";position: absolute;border-left: 1px solid gray;box-sizing: border-box;top: 0;bottom: 0;left: 50%;z-index: 0;}#sk-container-id-3 div.sk-serial {display: flex;flex-direction: column;align-items: center;background-color: white;padding-right: 0.2em;padding-left: 0.2em;position: relative;}#sk-container-id-3 div.sk-item {position: relative;z-index: 1;}#sk-container-id-3 div.sk-parallel {display: flex;align-items: stretch;justify-content: center;background-color: white;position: relative;}#sk-container-id-3 div.sk-item::before, #sk-container-id-3 div.sk-parallel-item::before {content: \"\";position: absolute;border-left: 1px solid gray;box-sizing: border-box;top: 0;bottom: 0;left: 50%;z-index: -1;}#sk-container-id-3 div.sk-parallel-item {display: flex;flex-direction: column;z-index: 1;position: relative;background-color: white;}#sk-container-id-3 div.sk-parallel-item:first-child::after {align-self: flex-end;width: 50%;}#sk-container-id-3 div.sk-parallel-item:last-child::after {align-self: flex-start;width: 50%;}#sk-container-id-3 div.sk-parallel-item:only-child::after {width: 0;}#sk-container-id-3 div.sk-dashed-wrapped {border: 1px dashed gray;margin: 0 0.4em 0.5em 0.4em;box-sizing: border-box;padding-bottom: 0.4em;background-color: white;}#sk-container-id-3 div.sk-label label {font-family: monospace;font-weight: bold;display: inline-block;line-height: 1.2em;}#sk-container-id-3 div.sk-label-container {text-align: center;}#sk-container-id-3 div.sk-container {/* jupyter's `normalize.less` sets `[hidden] { display: none; }` but bootstrap.min.css set `[hidden] { display: none !important; }` so we also need the `!important` here to be able to override the default hidden behavior on the sphinx rendered scikit-learn.org. See: https://github.com/scikit-learn/scikit-learn/issues/21755 */display: inline-block !important;position: relative;}#sk-container-id-3 div.sk-text-repr-fallback {display: none;}</style><div id=\"sk-container-id-3\" class=\"sk-top-container\"><div class=\"sk-text-repr-fallback\"><pre>KNeighborsClassifier()</pre><b>In a Jupyter environment, please rerun this cell to show the HTML representation or trust the notebook. <br />On GitHub, the HTML representation is unable to render, please try loading this page with nbviewer.org.</b></div><div class=\"sk-container\" hidden><div class=\"sk-item\"><div class=\"sk-estimator sk-toggleable\"><input class=\"sk-toggleable__control sk-hidden--visually\" id=\"sk-estimator-id-3\" type=\"checkbox\" checked><label for=\"sk-estimator-id-3\" class=\"sk-toggleable__label sk-toggleable__label-arrow\">KNeighborsClassifier</label><div class=\"sk-toggleable__content\"><pre>KNeighborsClassifier()</pre></div></div></div></div></div>"
      ],
      "text/plain": [
       "KNeighborsClassifier()"
      ]
     },
     "execution_count": 32,
     "metadata": {},
     "output_type": "execute_result"
    }
   ],
   "source": [
    "knn_classifier.fit(x, y.values.ravel())"
   ]
  },
  {
   "cell_type": "markdown",
   "id": "7c5fa197-2237-4643-a1af-03d9f94274fb",
   "metadata": {
    "jp-MarkdownHeadingCollapsed": true
   },
   "source": [
    "## Decision Tree"
   ]
  },
  {
   "cell_type": "markdown",
   "id": "62805563-c472-471b-b3da-2f2ff9014097",
   "metadata": {
    "jp-MarkdownHeadingCollapsed": true
   },
   "source": [
    "### Para dados de treinamento"
   ]
  },
  {
   "cell_type": "code",
   "execution_count": 33,
   "id": "51010e97-a8a2-4f46-b859-9aa7177aea7f",
   "metadata": {},
   "outputs": [],
   "source": [
    "tree_clf = tr.DecisionTreeClassifier()"
   ]
  },
  {
   "cell_type": "code",
   "execution_count": 34,
   "id": "6993c145-6276-4e71-9bf3-e8f31235bab2",
   "metadata": {},
   "outputs": [],
   "source": [
    "tree = tree_clf.fit(x_train, y_train)"
   ]
  },
  {
   "cell_type": "markdown",
   "id": "f873347c-5d04-4605-9f08-34f106655457",
   "metadata": {
    "jp-MarkdownHeadingCollapsed": true
   },
   "source": [
    "### Para dados de validação"
   ]
  },
  {
   "cell_type": "code",
   "execution_count": 35,
   "id": "33d5b5b4-0923-49bc-830b-be7344d1f309",
   "metadata": {},
   "outputs": [],
   "source": [
    "tree_clf = tr.DecisionTreeClassifier(max_depth=17)"
   ]
  },
  {
   "cell_type": "code",
   "execution_count": 36,
   "id": "9fa111e2-2618-458d-8ce4-4ae9f6d84af6",
   "metadata": {},
   "outputs": [],
   "source": [
    "tree = tree_clf.fit(x_train_vld, y_train_vld)"
   ]
  },
  {
   "cell_type": "markdown",
   "id": "1302a5df-cef9-4ef4-b0e1-a83d15726a77",
   "metadata": {
    "jp-MarkdownHeadingCollapsed": true
   },
   "source": [
    "#### Obtendo o melhor parametro"
   ]
  },
  {
   "cell_type": "code",
   "execution_count": null,
   "id": "7c3cd45b-4fce-4fd6-8b58-3135fdaa774d",
   "metadata": {
    "scrolled": true
   },
   "outputs": [],
   "source": [
    "# Carrega o arquivo .dot\n",
    "with open(\"tree.dot\", \"r\") as f:\n",
    "    dot_graph = f.read()\n",
    "\n",
    "# Converte o .dot em um objeto Graphviz\n",
    "graph = pydotplus.graph_from_dot_data(dot_graph)\n",
    "\n",
    "# Salva o gráfico como .png\n",
    "graph.write_png(\"meu_grafico.png\")\n",
    "\n",
    "# Exibe o gráfico no notebook\n",
    "Image(\"meu_grafico.png\")"
   ]
  },
  {
   "cell_type": "code",
   "execution_count": null,
   "id": "ca7bc37f-3a3a-4833-a9c9-e4f64ba61447",
   "metadata": {},
   "outputs": [],
   "source": [
    "# Valores de d\n",
    "d_values = list(range(17, 21))\n",
    "\n",
    "# Lista para armazenar os valores da acurácia\n",
    "list_acuracia_tree = []\n",
    "\n",
    "# Lista para armazenar os valores da precision\n",
    "list_precision_tree = []\n",
    "\n",
    "# Lista para armazenar os valores da recall\n",
    "list_recall_tree = []\n",
    "\n",
    "# Lista para armazenar os valores da f1Score\n",
    "list_f1Score_tree = []\n",
    "\n",
    "# Lista para armazenar os valores da área sob a curva ROC\n",
    "list_auc_tree = []\n",
    "\n",
    "for d in d_values:\n",
    "    # Treinando o algoritmo\n",
    "    tree_clf = tr.DecisionTreeClassifier(max_depth=d).fit(x_train, y_train)\n",
    "    \n",
    "    # Classificação\n",
    "    \n",
    "    y_pred = tree_clf.predict(x_vld)\n",
    "\n",
    "    y_pred_proba = tree_clf.predict_proba(x_vld)[:, 1]\n",
    "    \n",
    "    # Performance  \n",
    "    accuracy_tree = mt.accuracy_score(y_vld, y_pred)\n",
    "    list_acuracia_tree.append(accuracy_tree)\n",
    "\n",
    "    precision_tree = mt.precision_score(y_vld, y_pred, average='binary')\n",
    "    list_precision_tree.append(precision_tree)\n",
    "\n",
    "    recall_tree = mt.recall_score(y_vld, y_pred, average='binary')\n",
    "    list_recall_tree.append(recall_tree)\n",
    "\n",
    "    f1Score_tree = mt.f1_score(y_vld, y_pred)\n",
    "    list_f1Score_tree.append(f1Score_tree)\n",
    "\n",
    "    # Para calcular a curva Precision, Recall e Threshold\n",
    "    precision, recall, threshold = mt.precision_recall_curve(y_vld, y_pred_proba)\n",
    "\n",
    "    # Para calcular a curva ROC\n",
    "    fpr, tpr, thresholds = mt.roc_curve(y_vld, y_pred_proba)\n",
    "\n",
    "    # Para calcular a área sob a curva ROC\n",
    "    auc = mt.auc(fpr, tpr)\n",
    "    list_auc_tree.append(auc)"
   ]
  },
  {
   "cell_type": "code",
   "execution_count": null,
   "id": "303e3a5c-0893-4116-8f37-459246485c1c",
   "metadata": {},
   "outputs": [],
   "source": [
    "# Plot da acurácia em relação a k\n",
    "plt.plot(d_values, list_acuracia_tree, marker='o', linestyle='-', label='Acurácia')\n",
    "plt.plot(d_values, list_precision_tree, marker='o', linestyle='-', label='Precision')\n",
    "plt.plot(d_values, list_recall_tree, marker='o', linestyle='-', label='Recall')\n",
    "plt.plot(d_values, list_f1Score_tree, marker='o', linestyle='-', label='f1Score')\n",
    "\n",
    "plt.xlabel('Valor de max_depth')\n",
    "plt.ylabel('Performance')\n",
    "plt.legend()\n",
    "plt.grid(True)\n",
    "plt.show()"
   ]
  },
  {
   "cell_type": "code",
   "execution_count": null,
   "id": "84531257-f9fe-40ac-88e2-6345b74c95f2",
   "metadata": {},
   "outputs": [],
   "source": [
    "# Para visualizar a Curva Precision vs Recall\n",
    "plt.plot(recall, precision, marker='.', label='Model')\n",
    "plt.xlabel(\"Recall\")\n",
    "plt.ylabel(\"Precision\")"
   ]
  },
  {
   "cell_type": "code",
   "execution_count": null,
   "id": "6d679738-50c7-44ff-9206-454b326d140b",
   "metadata": {},
   "outputs": [],
   "source": [
    "# Para visualizar a Curva Threshold, Precision x Recall\n",
    "plt.plot( threshold, precision[:-1], 'b--', label='Precision' );\n",
    "plt.plot( threshold, recall[:-1], 'g-', label='Recall' );\n",
    "plt.xlabel( 'Thresholds' );\n",
    "plt.ylabel( 'Precison, Recall' );\n",
    "plt.legend()\n",
    "plt.grid()"
   ]
  },
  {
   "cell_type": "code",
   "execution_count": null,
   "id": "b77fa95d-194e-4536-883f-0aa77a79dcee",
   "metadata": {},
   "outputs": [],
   "source": [
    "# Para visualizar a curva ROC\n",
    "plt.plot(fpr, tpr, marker='.', label='Model(AUC=%0.2f)' % auc)\n",
    "plt.xlabel('False Positive Rate')\n",
    "plt.ylabel('True Positive Rate')\n",
    "plt.legend()\n",
    "plt.show()"
   ]
  },
  {
   "cell_type": "code",
   "execution_count": null,
   "id": "7fa06681-0504-4293-9720-1ad2367d8a02",
   "metadata": {
    "scrolled": true
   },
   "outputs": [],
   "source": [
    "# Para visualizar a curva Threshold, TPR x FPR\n",
    "plt.plot(thresholds, tpr, 'b--', label='TPR')\n",
    "plt.plot(thresholds, 1-fpr, 'g-', label='FPR')\n",
    "plt.xlabel('True Positive Rate')\n",
    "plt.ylabel('False Positive Rate')\n",
    "plt.legend()\n",
    "plt.grid()"
   ]
  },
  {
   "cell_type": "markdown",
   "id": "429b60e5-6d48-4cc2-a81d-36ed0ba587d7",
   "metadata": {
    "jp-MarkdownHeadingCollapsed": true
   },
   "source": [
    "### Para dados de teste"
   ]
  },
  {
   "cell_type": "code",
   "execution_count": 37,
   "id": "ee6a8585-c814-4434-8527-2894f2bff019",
   "metadata": {},
   "outputs": [],
   "source": [
    "# tree_clf = tr.DecisionTreeClassifier(max_depth=17)"
   ]
  },
  {
   "cell_type": "code",
   "execution_count": 38,
   "id": "0bc18cdc-6ca1-4af1-86ad-0dcc94a99f23",
   "metadata": {},
   "outputs": [],
   "source": [
    "tree = tree_clf.fit(x, y)"
   ]
  },
  {
   "cell_type": "markdown",
   "id": "edc3fc63-6ca8-4c40-9a12-5b4a06354452",
   "metadata": {
    "jp-MarkdownHeadingCollapsed": true
   },
   "source": [
    "### Visualização da árvore"
   ]
  },
  {
   "cell_type": "code",
   "execution_count": null,
   "id": "fa61eefa-293f-44bb-95d3-f69efaefa2e9",
   "metadata": {},
   "outputs": [],
   "source": [
    "# Export draw\n",
    "dot_data = tr.export_graphviz(\n",
    "    clf,\n",
    "    out_file='tree.dot',\n",
    "    feature_names=list(x_train.columns),\n",
    "    class_names=list(str(y_train['0'].unique())),\n",
    "    rounded=True,\n",
    "    filled=True,\n",
    "    special_characters=True\n",
    ")"
   ]
  },
  {
   "cell_type": "code",
   "execution_count": null,
   "id": "930fd3ac-896b-42a0-9a55-9cac17e6c6ff",
   "metadata": {},
   "outputs": [],
   "source": [
    "# Carregue o arquivo DOT\n",
    "graph = graphviz.Source.from_file('tree.dot')"
   ]
  },
  {
   "cell_type": "code",
   "execution_count": null,
   "id": "90a2fe30-621c-4d9d-af77-416708f2e3ac",
   "metadata": {},
   "outputs": [],
   "source": [
    "# Exiba a imagem no Jupyter Notebook\n",
    "display(graph)"
   ]
  },
  {
   "cell_type": "markdown",
   "id": "c44d571b-a912-4ce7-9c82-33405ea2eae1",
   "metadata": {
    "jp-MarkdownHeadingCollapsed": true
   },
   "source": [
    "## Random Forest"
   ]
  },
  {
   "cell_type": "markdown",
   "id": "bb0fee39-d078-482d-9277-f6f926e35fe4",
   "metadata": {
    "jp-MarkdownHeadingCollapsed": true
   },
   "source": [
    "### Para dados de treinamento"
   ]
  },
  {
   "cell_type": "code",
   "execution_count": 39,
   "id": "9ebdf39a-7635-4be7-aa3e-a3cb644c477b",
   "metadata": {},
   "outputs": [],
   "source": [
    "clf_rf = RandomForestClassifier()"
   ]
  },
  {
   "cell_type": "code",
   "execution_count": 40,
   "id": "f2047f52-4a76-4120-9326-c962b7d5445c",
   "metadata": {},
   "outputs": [],
   "source": [
    "rf = clf_rf.fit(x_train, y_train.values.ravel())"
   ]
  },
  {
   "cell_type": "markdown",
   "id": "91b20153-4a39-458f-b8f3-3365f11b0039",
   "metadata": {
    "jp-MarkdownHeadingCollapsed": true
   },
   "source": [
    "### Para dados de validação"
   ]
  },
  {
   "cell_type": "code",
   "execution_count": 41,
   "id": "11a11d35-4b27-41ec-8342-f56fb0d0d00a",
   "metadata": {},
   "outputs": [],
   "source": [
    "clf_rf = RandomForestClassifier(n_estimators=7, max_depth=9)"
   ]
  },
  {
   "cell_type": "code",
   "execution_count": 42,
   "id": "4faeaaac-8932-4958-848b-96acf95dab3e",
   "metadata": {},
   "outputs": [],
   "source": [
    "rf = clf_rf.fit(x_train_vld, y_train_vld.values.ravel())"
   ]
  },
  {
   "cell_type": "markdown",
   "id": "326ee453-89dd-4b0a-b49a-3698f1188b26",
   "metadata": {
    "jp-MarkdownHeadingCollapsed": true
   },
   "source": [
    "#### Obtendo o melhor parametro"
   ]
  },
  {
   "cell_type": "code",
   "execution_count": null,
   "id": "10a39675-44cf-44a5-8dfb-05db4acee302",
   "metadata": {},
   "outputs": [],
   "source": [
    "# Valores de d - max_depth\n",
    "d_values = list(range(1, 101))\n",
    "\n",
    "# Lista para armazenar os valores da acurácia\n",
    "list_acuracia_rf = []\n",
    "\n",
    "# Lista para armazenar os valores da precision\n",
    "list_precision_rf = []\n",
    "\n",
    "# Lista para armazenar os valores da recall\n",
    "list_recall_rf = []\n",
    "\n",
    "# Lista para armazenar os valores da f1Score\n",
    "list_f1Score_rf = []\n",
    "\n",
    "# Lista para armazenar os valores da área sob a curva ROC\n",
    "list_auc_rf = []\n",
    "\n",
    "for d in d_values:\n",
    "    # Treinando o algoritmo\n",
    "    rf_clf = RandomForestClassifier(max_depth=d).fit(x_train, y_train)\n",
    "    \n",
    "    # Classificação\n",
    "    y_pred_rf = rf_clf.predict(x_vld)\n",
    "    y_pred_proba_rf = rf_clf.predict_proba(x_vld)[:, 1]\n",
    "    \n",
    "    # Performance  \n",
    "    accuracy_rf = mt.accuracy_score(y_vld, y_pred_rf)\n",
    "    list_acuracia_rf.append(accuracy_rf)\n",
    "\n",
    "    precision_rf = mt.precision_score(y_vld, y_pred_rf, average='binary')\n",
    "    list_precision_rf.append(precision_rf)\n",
    "\n",
    "    recall_rf = mt.recall_score(y_vld, y_pred_rf, average='binary')\n",
    "    list_recall_rf.append(recall_rf)\n",
    "\n",
    "    f1Score_rf = mt.f1_score(y_vld, y_pred_rf)\n",
    "    list_f1Score_rf.append(f1Score_rf)\n",
    "\n",
    "    # Para calcular a curva Precision, Recall e Threshold\n",
    "    precision, recall, threshold = mt.precision_recall_curve(y_vld, y_pred_proba_rf)\n",
    "\n",
    "    # Para calcular a curva ROC\n",
    "    fpr, tpr, thresholds = mt.roc_curve(y_vld, y_pred_proba_rf)\n",
    "\n",
    "    # Para calcular a área sob a curva ROC\n",
    "    auc = mt.auc(fpr, tpr)\n",
    "    list_auc_rf.append(auc)"
   ]
  },
  {
   "cell_type": "code",
   "execution_count": null,
   "id": "a54d16b2-f22b-4520-8f59-b6c0ffc404cb",
   "metadata": {},
   "outputs": [],
   "source": [
    "# Plot da acurácia em relação a d\n",
    "plt.plot(n_values, list_acuracia_rf, marker='o', linestyle='-', label='Acurácia')\n",
    "plt.plot(n_values, list_precision_rf, marker='o', linestyle='-', label='Precision')\n",
    "plt.plot(n_values, list_recall_rf, marker='o', linestyle='-', label='Recall')\n",
    "plt.plot(n_values, list_f1Score_rf, marker='o', linestyle='-', label='f1Score')\n",
    "\n",
    "plt.axhline(y=0.95, color='black', linestyle='-', label='0.95')\n",
    "plt.axvline(x=9, color='black', linestyle='-', label='9')\n",
    "plt.xlabel('Valor de max_depth')\n",
    "plt.ylabel('Performance')\n",
    "plt.legend()\n",
    "plt.grid(True)\n",
    "plt.show()"
   ]
  },
  {
   "cell_type": "code",
   "execution_count": null,
   "id": "3777f4b5-bf6b-49aa-8c0a-935d52791aee",
   "metadata": {},
   "outputs": [],
   "source": [
    "# Valores de n - n_estimators\n",
    "n_values = list(range(1, 101))\n",
    "\n",
    "# Lista para armazenar os valores da acurácia\n",
    "list_acuracia_rf = []\n",
    "\n",
    "# Lista para armazenar os valores da precision\n",
    "list_precision_rf = []\n",
    "\n",
    "# Lista para armazenar os valores da recall\n",
    "list_recall_rf = []\n",
    "\n",
    "# Lista para armazenar os valores da f1Score\n",
    "list_f1Score_rf = []\n",
    "\n",
    "# Lista para armazenar os valores da área sob a curva ROC\n",
    "list_auc_rf = []\n",
    "\n",
    "for n in n_values:\n",
    "    # Treinando o algoritmo\n",
    "    rf_clf = RandomForestClassifier(n_estimators=n).fit(x_train, y_train)\n",
    "    \n",
    "    # Classificação\n",
    "    y_pred_rf = rf_clf.predict(x_vld)\n",
    "    y_pred_proba_rf = rf_clf.predict_proba(x_vld)[:, 1]\n",
    "    \n",
    "    # Performance  \n",
    "    accuracy_rf = mt.accuracy_score(y_vld, y_pred_rf)\n",
    "    list_acuracia_rf.append(accuracy_rf)\n",
    "\n",
    "    precision_rf = mt.precision_score(y_vld, y_pred_rf, average='binary')\n",
    "    list_precision_rf.append(precision_rf)\n",
    "\n",
    "    recall_rf = mt.recall_score(y_vld, y_pred_rf, average='binary')\n",
    "    list_recall_rf.append(recall_rf)\n",
    "\n",
    "    f1Score_rf = mt.f1_score(y_vld, y_pred_rf)\n",
    "    list_f1Score_rf.append(f1Score_rf)\n",
    "\n",
    "    # Para calcular a curva Precision, Recall e Threshold\n",
    "    precision, recall, threshold = mt.precision_recall_curve(y_vld, y_pred_proba_rf)\n",
    "\n",
    "    # Para calcular a curva ROC\n",
    "    fpr, tpr, thresholds = mt.roc_curve(y_vld, y_pred_proba_rf)\n",
    "\n",
    "    # Para calcular a área sob a curva ROC\n",
    "    auc = mt.auc(fpr, tpr)\n",
    "    list_auc_rf.append(auc)"
   ]
  },
  {
   "cell_type": "code",
   "execution_count": null,
   "id": "bf287be8-544d-45ae-986e-f1ad651ec7dd",
   "metadata": {},
   "outputs": [],
   "source": [
    "# Plot da acurácia em relação a n\n",
    "plt.plot(n_values, list_acuracia_rf, marker='o', linestyle='-', label='Acurácia')\n",
    "plt.plot(n_values, list_precision_rf, marker='o', linestyle='-', label='Precision')\n",
    "plt.plot(n_values, list_recall_rf, marker='o', linestyle='-', label='Recall')\n",
    "plt.plot(n_values, list_f1Score_rf, marker='o', linestyle='-', label='f1Score')\n",
    "\n",
    "plt.axhline(y=0.9557830699606795, color='black', linestyle='-', label='0.9577905158936947')\n",
    "plt.axvline(x=7, color='black', linestyle='-', label='7')\n",
    "plt.xlabel('Valor de n_estimators')\n",
    "plt.ylabel('Performance')\n",
    "plt.legend()\n",
    "plt.grid(True)\n",
    "plt.show()"
   ]
  },
  {
   "cell_type": "code",
   "execution_count": null,
   "id": "d61384f4-92dd-40fe-b713-6ada0968626e",
   "metadata": {},
   "outputs": [],
   "source": [
    "# Para visualizar a Curva Precision vs Recall\n",
    "plt.plot(recall, precision, marker='.', label='Model')\n",
    "plt.xlabel(\"Recall\")\n",
    "plt.ylabel(\"Precision\")"
   ]
  },
  {
   "cell_type": "code",
   "execution_count": null,
   "id": "e55396d8-997d-4deb-ba2d-0c01d097f240",
   "metadata": {},
   "outputs": [],
   "source": [
    "# Para visualizar a Curva Threshold, Precision x Recall\n",
    "plt.plot( threshold, precision[:-1], 'b--', label='Precision' );\n",
    "plt.plot( threshold, recall[:-1], 'g-', label='Recall' );\n",
    "plt.xlabel( 'Thresholds' );\n",
    "plt.ylabel( 'Precison, Recall' );\n",
    "plt.legend()\n",
    "plt.grid()"
   ]
  },
  {
   "cell_type": "code",
   "execution_count": null,
   "id": "03ea106f-ae2f-4a9a-b801-33bbc649cce8",
   "metadata": {},
   "outputs": [],
   "source": [
    "# Para visualizar a curva ROC\n",
    "plt.plot(fpr, tpr, marker='.', label='Model(AUC=%0.2f)' % auc)\n",
    "plt.xlabel('False Positive Rate')\n",
    "plt.ylabel('True Positive Rate')\n",
    "plt.legend()\n",
    "plt.show()"
   ]
  },
  {
   "cell_type": "code",
   "execution_count": null,
   "id": "183e82e3-6091-420f-a4e5-861cc35c9ed1",
   "metadata": {
    "scrolled": true
   },
   "outputs": [],
   "source": [
    "# Para visualizar a curva Threshold, TPR x FPR\n",
    "plt.plot(thresholds, tpr, 'b--', label='TPR')\n",
    "plt.plot(thresholds, 1-fpr, 'g-', label='FPR')\n",
    "plt.xlabel('True Positive Rate')\n",
    "plt.ylabel('False Positive Rate')\n",
    "plt.legend()\n",
    "plt.grid()"
   ]
  },
  {
   "cell_type": "code",
   "execution_count": null,
   "id": "9d587d90-0de1-4955-a4bb-9746b3f435c9",
   "metadata": {},
   "outputs": [],
   "source": [
    "# Para encontrar o melhor threshold baseado na curva ROC\n",
    "distances = np.sqrt((1 - tpr) ** 2 + fpr ** 2)\n",
    "best_threshold = thresholds[np.argmin(distances)]\n",
    "print(f'Best Threshold: {best_threshold}')"
   ]
  },
  {
   "cell_type": "code",
   "execution_count": null,
   "id": "a4ec543e-0924-4e3d-a635-f6c566f5ed4b",
   "metadata": {},
   "outputs": [],
   "source": [
    "# Para calcular accuracy usando o melhor threshold\n",
    "aux_y_pred = (y_pred_proba_rf >= best_threshold).astype(int)\n",
    "accuracy = mt.accuracy_score(y_vld, aux_y_pred)\n",
    "print(f'Accuracy: {accuracy}')"
   ]
  },
  {
   "cell_type": "code",
   "execution_count": null,
   "id": "1feb5975-ef92-45da-9287-96faf8893429",
   "metadata": {},
   "outputs": [],
   "source": [
    "precision = mt.precision_score(y_vld, aux_y_pred, average='binary')\n",
    "precision"
   ]
  },
  {
   "cell_type": "markdown",
   "id": "fc6153a3-6843-4c8c-a435-7847b54f2c2d",
   "metadata": {
    "jp-MarkdownHeadingCollapsed": true
   },
   "source": [
    "### Para dados de teste"
   ]
  },
  {
   "cell_type": "code",
   "execution_count": 43,
   "id": "82fe0421-8a26-4a62-9d7d-f9eda5fcacb4",
   "metadata": {},
   "outputs": [],
   "source": [
    "# clf_rf = RandomForestClassifier(n_estimators=7, max_depth=9)"
   ]
  },
  {
   "cell_type": "code",
   "execution_count": 44,
   "id": "5bc76006-1602-4db9-8abc-d260b10f3a22",
   "metadata": {},
   "outputs": [],
   "source": [
    "rf = clf_rf.fit(x, y.values.ravel())"
   ]
  },
  {
   "cell_type": "markdown",
   "id": "b47ef72e-60d5-4eae-b8ca-9d477c9f0728",
   "metadata": {
    "jp-MarkdownHeadingCollapsed": true
   },
   "source": [
    "## Logistic Regression"
   ]
  },
  {
   "cell_type": "markdown",
   "id": "138cc37b-5c82-4ba7-a956-7864d93dd88f",
   "metadata": {
    "jp-MarkdownHeadingCollapsed": true
   },
   "source": [
    "### Para dados de treinamento"
   ]
  },
  {
   "cell_type": "code",
   "execution_count": 45,
   "id": "1abad8bd-9586-4416-8f02-c9e5a8680230",
   "metadata": {},
   "outputs": [],
   "source": [
    "lr_clf = LogisticRegression()"
   ]
  },
  {
   "cell_type": "code",
   "execution_count": 46,
   "id": "9d33090b-afd7-4177-a3e6-a116826c08fb",
   "metadata": {},
   "outputs": [],
   "source": [
    "lr = lr_clf.fit(x_train, y_train.values.ravel())"
   ]
  },
  {
   "cell_type": "markdown",
   "id": "f9a9022b-09cc-4c16-b713-b2489293edfe",
   "metadata": {
    "jp-MarkdownHeadingCollapsed": true
   },
   "source": [
    "### Para dados de validação"
   ]
  },
  {
   "cell_type": "code",
   "execution_count": 47,
   "id": "409e436a-8413-46b1-ad35-d9c2e7a9ad6d",
   "metadata": {},
   "outputs": [],
   "source": [
    "lr_clf = LogisticRegression(solver='newton-cholesky')"
   ]
  },
  {
   "cell_type": "code",
   "execution_count": 48,
   "id": "21451967-91af-4b9c-85dc-fb07fa0ec2de",
   "metadata": {},
   "outputs": [],
   "source": [
    "lr = lr_clf.fit(x_train_vld, y_train_vld.values.ravel())"
   ]
  },
  {
   "cell_type": "markdown",
   "id": "154de080-a6ac-44b9-8987-c8dd0be55c9b",
   "metadata": {
    "jp-MarkdownHeadingCollapsed": true
   },
   "source": [
    "### Obtendo o melhor parametro"
   ]
  },
  {
   "cell_type": "markdown",
   "id": "1b8eaa62-0c5a-4fe3-9ef4-bae20e475af8",
   "metadata": {},
   "source": [
    "#### Cenário 1 - C= 1 a 200, Sover=default=’lbfgs’, max_iter=default=100"
   ]
  },
  {
   "cell_type": "code",
   "execution_count": null,
   "id": "abf8e2fa-c557-4529-92b2-e7ad358eef30",
   "metadata": {},
   "outputs": [],
   "source": [
    "# Valores de C - Inverso da força de regularização\n",
    "c_values = list(range(100, 201))\n",
    "\n",
    "# Lista para armazenar os valores da acurácia\n",
    "list_acuracia_lr = []\n",
    "\n",
    "# Lista para armazenar os valores da precision\n",
    "list_precision_lr = []\n",
    "\n",
    "# Lista para armazenar os valores da recall\n",
    "list_recall_lr = []\n",
    "\n",
    "# Lista para armazenar os valores da f1Score\n",
    "list_f1Score_lr = []\n",
    "\n",
    "# Lista para armazenar os valores da área sob a curva ROC\n",
    "list_auc_lr = []\n",
    "\n",
    "for c in c_values:\n",
    "    # Treinando o algoritmo\n",
    "    rl_clf = LogisticRegression(C=c).fit(x_train, y_train)\n",
    "    \n",
    "    # Classificação\n",
    "    \n",
    "    y_pred = rl_clf.predict(x_vld)\n",
    "\n",
    "    y_pred_proba = rl_clf.predict_proba(x_vld)[:, 1]\n",
    "    \n",
    "    # Performance  \n",
    "    accuracy_rl = mt.accuracy_score(y_vld, y_pred)\n",
    "    list_acuracia_lr.append(accuracy_rl)\n",
    "\n",
    "    precision_rl = mt.precision_score(y_vld, y_pred, average='binary')\n",
    "    list_precision_lr.append(precision_rl)\n",
    "\n",
    "    recall_rl = mt.recall_score(y_vld, y_pred, average='binary')\n",
    "    list_recall_lr.append(recall_rl)\n",
    "\n",
    "    f1Score_rl = mt.f1_score(y_vld, y_pred)\n",
    "    list_f1Score_lr.append(f1Score_rl)\n",
    "\n",
    "    # Para calcular a curva Precision, Recall e Threshold\n",
    "    precision, recall, threshold = mt.precision_recall_curve(y_vld, y_pred_proba)\n",
    "\n",
    "    # Para calcular a curva ROC\n",
    "    fpr, tpr, thresholds = mt.roc_curve(y_vld, y_pred_proba)\n",
    "\n",
    "    # Para calcular a área sob a curva ROC\n",
    "    auc = mt.auc(fpr, tpr)\n",
    "    list_auc_tree.append(auc)"
   ]
  },
  {
   "cell_type": "code",
   "execution_count": null,
   "id": "a10d136c-bab3-4398-b363-21ea73b7a9df",
   "metadata": {},
   "outputs": [],
   "source": [
    "# Plot da acurácia em relação a k\n",
    "plt.plot(c_values, list_acuracia_lr, marker='o', linestyle='-', label='Acurácia')\n",
    "plt.plot(c_values, list_precision_lr, marker='o', linestyle='-', label='Precision')\n",
    "plt.plot(c_values, list_recall_lr, marker='o', linestyle='-', label='Recall')\n",
    "plt.plot(c_values, list_f1Score_lr, marker='o', linestyle='-', label='f1Score')\n",
    "\n",
    "plt.xlabel('Valor de C')\n",
    "plt.ylabel('Performance')\n",
    "plt.legend()\n",
    "plt.grid(True)\n",
    "plt.show()"
   ]
  },
  {
   "cell_type": "markdown",
   "id": "2326bd5f-6351-47d9-9485-6848ec5f8613",
   "metadata": {},
   "source": [
    "#### Cenário 2 - C=default=100, Sover=default=’lbfgs’, max_iter= 0 a 200"
   ]
  },
  {
   "cell_type": "code",
   "execution_count": null,
   "id": "61d799f4-8e9b-4429-8425-775bce0e503f",
   "metadata": {},
   "outputs": [],
   "source": [
    "# Valores de max_iter - Número máximo de iterações tomadas para os solvers convergir.\n",
    "iter_values = list(range(1, 201))\n",
    "\n",
    "# Lista para armazenar os valores da acurácia\n",
    "list_acuracia_lr = []\n",
    "\n",
    "# Lista para armazenar os valores da precision\n",
    "list_precision_lr = []\n",
    "\n",
    "# Lista para armazenar os valores da recall\n",
    "list_recall_lr = []\n",
    "\n",
    "# Lista para armazenar os valores da f1Score\n",
    "list_f1Score_lr = []\n",
    "\n",
    "# Lista para armazenar os valores da área sob a curva ROC\n",
    "list_auc_lr = []\n",
    "\n",
    "for i in iter_values:\n",
    "    # Treinando o algoritmo\n",
    "    rl_clf = LogisticRegression(max_iter=i).fit(x_train, y_train)\n",
    "    \n",
    "    # Classificação\n",
    "    \n",
    "    y_pred = rl_clf.predict(x_vld)\n",
    "\n",
    "    y_pred_proba = rl_clf.predict_proba(x_vld)[:, 1]\n",
    "    \n",
    "    # Performance  \n",
    "    accuracy_rl = mt.accuracy_score(y_vld, y_pred)\n",
    "    list_acuracia_lr.append(accuracy_rl)\n",
    "\n",
    "    precision_rl = mt.precision_score(y_vld, y_pred, average='binary')\n",
    "    list_precision_lr.append(precision_rl)\n",
    "\n",
    "    recall_rl = mt.recall_score(y_vld, y_pred, average='binary')\n",
    "    list_recall_lr.append(recall_rl)\n",
    "\n",
    "    f1Score_rl = mt.f1_score(y_vld, y_pred)\n",
    "    list_f1Score_lr.append(f1Score_rl)\n",
    "\n",
    "    # Para calcular a curva Precision, Recall e Threshold\n",
    "    precision, recall, threshold = mt.precision_recall_curve(y_vld, y_pred_proba)\n",
    "\n",
    "    # Para calcular a curva ROC\n",
    "    fpr, tpr, thresholds = mt.roc_curve(y_vld, y_pred_proba)\n",
    "\n",
    "    # Para calcular a área sob a curva ROC\n",
    "    auc = mt.auc(fpr, tpr)\n",
    "    list_auc_tree.append(auc)"
   ]
  },
  {
   "cell_type": "code",
   "execution_count": null,
   "id": "0e96c55a-ab39-4e74-87d4-f1f38b3c1321",
   "metadata": {},
   "outputs": [],
   "source": [
    "# Plot da acurácia em relação a k\n",
    "plt.plot(iter_values, list_acuracia_lr, marker='o', linestyle='-', label='Acurácia')\n",
    "plt.plot(iter_values, list_precision_lr, marker='o', linestyle='-', label='Precision')\n",
    "plt.plot(iter_values, list_recall_lr, marker='o', linestyle='-', label='Recall')\n",
    "plt.plot(iter_values, list_f1Score_lr, marker='o', linestyle='-', label='f1Score')\n",
    "\n",
    "plt.xlabel('Valor de max_iter')\n",
    "plt.ylabel('Performance')\n",
    "plt.legend()\n",
    "plt.grid(True)\n",
    "plt.show()"
   ]
  },
  {
   "cell_type": "markdown",
   "id": "021be33b-fbd9-4532-8224-2a169b8de580",
   "metadata": {},
   "source": [
    "#### Cenário 3 - C= 0 a 200, Sover=default=‘liblinear’, max_iter=default=100"
   ]
  },
  {
   "cell_type": "code",
   "execution_count": null,
   "id": "c432dc1f-ce75-49d2-9f9a-13ef11e35a06",
   "metadata": {},
   "outputs": [],
   "source": [
    "# Valores de C - Inverso da força de regularização\n",
    "c_values = list(range(1, 201))\n",
    "\n",
    "# Lista para armazenar os valores da acurácia\n",
    "list_acuracia_lr = []\n",
    "\n",
    "# Lista para armazenar os valores da precision\n",
    "list_precision_lr = []\n",
    "\n",
    "# Lista para armazenar os valores da recall\n",
    "list_recall_lr = []\n",
    "\n",
    "# Lista para armazenar os valores da f1Score\n",
    "list_f1Score_lr = []\n",
    "\n",
    "# Lista para armazenar os valores da área sob a curva ROC\n",
    "list_auc_lr = []\n",
    "\n",
    "for c in c_values:\n",
    "    # Treinando o algoritmo\n",
    "    rl_clf = LogisticRegression(C=c, solver='newton-cholesky').fit(x_train, y_train)\n",
    "    \n",
    "    # Classificação\n",
    "    \n",
    "    y_pred = rl_clf.predict(x_vld)\n",
    "\n",
    "    y_pred_proba = rl_clf.predict_proba(x_vld)[:, 1]\n",
    "    \n",
    "    # Performance  \n",
    "    accuracy_rl = mt.accuracy_score(y_vld, y_pred)\n",
    "    list_acuracia_lr.append(accuracy_rl)\n",
    "\n",
    "    precision_rl = mt.precision_score(y_vld, y_pred, average='binary')\n",
    "    list_precision_lr.append(precision_rl)\n",
    "\n",
    "    recall_rl = mt.recall_score(y_vld, y_pred, average='binary')\n",
    "    list_recall_lr.append(recall_rl)\n",
    "\n",
    "    f1Score_rl = mt.f1_score(y_vld, y_pred)\n",
    "    list_f1Score_lr.append(f1Score_rl)\n",
    "\n",
    "    # Para calcular a curva Precision, Recall e Threshold\n",
    "    precision, recall, threshold = mt.precision_recall_curve(y_vld, y_pred_proba)\n",
    "\n",
    "    # Para calcular a curva ROC\n",
    "    fpr, tpr, thresholds = mt.roc_curve(y_vld, y_pred_proba)\n",
    "\n",
    "    # Para calcular a área sob a curva ROC\n",
    "    auc = mt.auc(fpr, tpr)\n",
    "    list_auc_tree.append(auc)"
   ]
  },
  {
   "cell_type": "code",
   "execution_count": null,
   "id": "5d6933ba-88f0-4ddd-99fe-ada6bb30645c",
   "metadata": {},
   "outputs": [],
   "source": [
    "# Plot da acurácia em relação a k\n",
    "plt.plot(c_values, list_acuracia_lr, marker='o', linestyle='-', label='Acurácia')\n",
    "plt.plot(c_values, list_precision_lr, marker='o', linestyle='-', label='Precision')\n",
    "plt.plot(c_values, list_recall_lr, marker='o', linestyle='-', label='Recall')\n",
    "plt.plot(c_values, list_f1Score_lr, marker='o', linestyle='-', label='f1Score')\n",
    "\n",
    "plt.axhline(y=0.8813, color='black', linestyle='-', label='0.88')\n",
    "plt.axvline(x=163, color='black', linestyle='-', label='9')\n",
    "\n",
    "plt.xlabel('Valor de C')\n",
    "plt.ylabel('Performance')\n",
    "plt.legend()\n",
    "plt.grid(True)\n",
    "plt.show()"
   ]
  },
  {
   "cell_type": "markdown",
   "id": "43ccc4d9-674a-4505-aadf-957f65100beb",
   "metadata": {},
   "source": [
    "#### Cenário 4 - C=default=100, Sover=default=‘liblinear’, max_iter= 0 a 200"
   ]
  },
  {
   "cell_type": "code",
   "execution_count": null,
   "id": "8e056f73-bc77-4980-9c57-07163a187653",
   "metadata": {},
   "outputs": [],
   "source": [
    "# Valores de max_iter - Número máximo de iterações tomadas para os solvers convergir.\n",
    "iter_values = list(range(1, 200))\n",
    "\n",
    "# Lista para armazenar os valores da acurácia\n",
    "list_acuracia_lr = []\n",
    "\n",
    "# Lista para armazenar os valores da precision\n",
    "list_precision_lr = []\n",
    "\n",
    "# Lista para armazenar os valores da recall\n",
    "list_recall_lr = []\n",
    "\n",
    "# Lista para armazenar os valores da f1Score\n",
    "list_f1Score_lr = []\n",
    "\n",
    "# Lista para armazenar os valores da área sob a curva ROC\n",
    "list_auc_lr = []\n",
    "\n",
    "for i in iter_values:\n",
    "    # Treinando o algoritmo\n",
    "    rl_clf = LogisticRegression(solver='newton-cholesky', max_iter=i).fit(x_train, y_train)\n",
    "    \n",
    "    # Classificação\n",
    "    \n",
    "    y_pred = rl_clf.predict(x_vld)\n",
    "\n",
    "    y_pred_proba = rl_clf.predict_proba(x_vld)[:, 1]\n",
    "    \n",
    "    # Performance  \n",
    "    accuracy_rl = mt.accuracy_score(y_vld, y_pred)\n",
    "    list_acuracia_lr.append(accuracy_rl)\n",
    "\n",
    "    precision_rl = mt.precision_score(y_vld, y_pred, average='binary')\n",
    "    list_precision_lr.append(precision_rl)\n",
    "\n",
    "    recall_rl = mt.recall_score(y_vld, y_pred, average='binary')\n",
    "    list_recall_lr.append(recall_rl)\n",
    "\n",
    "    f1Score_rl = mt.f1_score(y_vld, y_pred)\n",
    "    list_f1Score_lr.append(f1Score_rl)\n",
    "\n",
    "    # Para calcular a curva Precision, Recall e Threshold\n",
    "    precision, recall, threshold = mt.precision_recall_curve(y_vld, y_pred_proba)\n",
    "\n",
    "    # Para calcular a curva ROC\n",
    "    fpr, tpr, thresholds = mt.roc_curve(y_vld, y_pred_proba)\n",
    "\n",
    "    # Para calcular a área sob a curva ROC\n",
    "    auc = mt.auc(fpr, tpr)\n",
    "    list_auc_tree.append(auc)"
   ]
  },
  {
   "cell_type": "code",
   "execution_count": null,
   "id": "b3898d09-6538-406c-801a-f61fc43f5088",
   "metadata": {},
   "outputs": [],
   "source": [
    "# Plot da acurácia em relação a k\n",
    "plt.plot(iter_values, list_acuracia_lr, marker='o', linestyle='-', label='Acurácia')\n",
    "plt.plot(iter_values, list_precision_lr, marker='o', linestyle='-', label='Precision')\n",
    "plt.plot(iter_values, list_recall_lr, marker='o', linestyle='-', label='Recall')\n",
    "plt.plot(iter_values, list_f1Score_lr, marker='o', linestyle='-', label='f1Score')\n",
    "\n",
    "plt.xlabel('Valor de max_iter')\n",
    "plt.ylabel('Performance')\n",
    "plt.legend()\n",
    "plt.grid(True)\n",
    "plt.show()"
   ]
  },
  {
   "cell_type": "markdown",
   "id": "22e8c852-68ec-4ea3-b57f-543547874c57",
   "metadata": {},
   "source": [
    "#### Cenário 5 - C=default=100, Sover=default=‘liblinear’, max_iter=20"
   ]
  },
  {
   "cell_type": "code",
   "execution_count": null,
   "id": "da3fe581-7ffa-49ea-8d6c-5ba1b772ed8a",
   "metadata": {},
   "outputs": [],
   "source": [
    "# Valores de max_iter - Número máximo de iterações tomadas para os solvers convergir.\n",
    "iter_values = list(range(1, 25))\n",
    "\n",
    "# Lista para armazenar os valores da acurácia\n",
    "list_acuracia_lr = []\n",
    "\n",
    "# Lista para armazenar os valores da precision\n",
    "list_precision_lr = []\n",
    "\n",
    "# Lista para armazenar os valores da recall\n",
    "list_recall_lr = []\n",
    "\n",
    "# Lista para armazenar os valores da f1Score\n",
    "list_f1Score_lr = []\n",
    "\n",
    "# Lista para armazenar os valores da área sob a curva ROC\n",
    "list_auc_lr = []\n",
    "\n",
    "# Treinando o algoritmo\n",
    "rl_clf = LogisticRegression(solver='newton-cholesky').fit(x_train, y_train)\n",
    "    \n",
    "# Classificação\n",
    "\n",
    "y_pred = rl_clf.predict(x_vld)\n",
    "\n",
    "y_pred_proba = rl_clf.predict_proba(x_vld)[:, 1]\n",
    "\n",
    "# Performance  \n",
    "accuracy_rl = mt.accuracy_score(y_vld, y_pred)\n",
    "list_acuracia_lr.append(accuracy_rl)\n",
    "\n",
    "precision_rl = mt.precision_score(y_vld, y_pred, average='binary')\n",
    "list_precision_lr.append(precision_rl)\n",
    "\n",
    "recall_rl = mt.recall_score(y_vld, y_pred, average='binary')\n",
    "list_recall_lr.append(recall_rl)\n",
    "\n",
    "f1Score_rl = mt.f1_score(y_vld, y_pred)\n",
    "list_f1Score_lr.append(f1Score_rl)\n",
    "\n",
    "# Para calcular a curva Precision, Recall e Threshold\n",
    "precision, recall, threshold = mt.precision_recall_curve(y_vld, y_pred_proba)\n",
    "\n",
    "# Para calcular a curva ROC\n",
    "fpr, tpr, thresholds = mt.roc_curve(y_vld, y_pred_proba)\n",
    "\n",
    "# Para calcular a área sob a curva ROC\n",
    "auc = mt.auc(fpr, tpr)\n",
    "list_auc_tree.append(auc)"
   ]
  },
  {
   "cell_type": "code",
   "execution_count": null,
   "id": "8acf285b-cf5f-4f69-b5cb-15b8208da6a7",
   "metadata": {},
   "outputs": [],
   "source": [
    "# Plot da acurácia em relação a k\n",
    "plt.plot(20, list_acuracia_lr, marker='o', linestyle='-', label='Acurácia')\n",
    "plt.plot(20, list_precision_lr, marker='o', linestyle='-', label='Precision')\n",
    "plt.plot(20, list_recall_lr, marker='o', linestyle='-', label='Recall')\n",
    "plt.plot(20, list_f1Score_lr, marker='o', linestyle='-', label='f1Score')\n",
    "\n",
    "plt.xlabel('Valor de max_iter')\n",
    "plt.ylabel('Performance')\n",
    "plt.legend()\n",
    "plt.grid(True)\n",
    "plt.show()"
   ]
  },
  {
   "cell_type": "markdown",
   "id": "0d4a1b28-4c84-4912-b076-77fc7cca387b",
   "metadata": {
    "jp-MarkdownHeadingCollapsed": true
   },
   "source": [
    "### Para dados de teste"
   ]
  },
  {
   "cell_type": "code",
   "execution_count": 49,
   "id": "f146d786-6428-4183-9e96-38d7ca3cd070",
   "metadata": {},
   "outputs": [],
   "source": [
    "# lr_clf = LogisticRegression(solver='newton-cholesky')"
   ]
  },
  {
   "cell_type": "code",
   "execution_count": 50,
   "id": "35aa3da1-20c7-4720-bfa2-d78a2bbdaf22",
   "metadata": {},
   "outputs": [],
   "source": [
    "lr = lr_clf.fit(x, y.values.ravel())"
   ]
  },
  {
   "cell_type": "markdown",
   "id": "55223869-6971-4c95-9993-e87535a36be2",
   "metadata": {
    "jp-MarkdownHeadingCollapsed": true
   },
   "source": [
    "# Predicting observations"
   ]
  },
  {
   "cell_type": "markdown",
   "id": "3d7700d2-55c3-426c-a6b1-d528f81591eb",
   "metadata": {
    "jp-MarkdownHeadingCollapsed": true
   },
   "source": [
    "## KNN"
   ]
  },
  {
   "cell_type": "markdown",
   "id": "49aaa3d7-8ac6-41ce-aa8f-8ba97f1d6526",
   "metadata": {
    "jp-MarkdownHeadingCollapsed": true
   },
   "source": [
    "### Para dados de treinamento"
   ]
  },
  {
   "cell_type": "code",
   "execution_count": 52,
   "id": "3a6a37fc-d1fc-46e6-86dd-cd22cd0cf132",
   "metadata": {},
   "outputs": [],
   "source": [
    "# Para validar e encontrar os melhores parametros para pode encontrar a performance sobre os dados de treinamento\n",
    "y_pred_knn_train = knn_classifier.predict(x_vld)"
   ]
  },
  {
   "cell_type": "markdown",
   "id": "afba2546-c286-4b1b-b5eb-d43bae8c58f5",
   "metadata": {
    "jp-MarkdownHeadingCollapsed": true
   },
   "source": [
    "### Para dados de validação"
   ]
  },
  {
   "cell_type": "code",
   "execution_count": 53,
   "id": "b13213e1-a619-430d-81c6-73629da3a839",
   "metadata": {},
   "outputs": [],
   "source": [
    "# Para encontrar a performance sobre os dados de validação\n",
    "y_pred_knn_vld = knn_classifier.predict(x_test)"
   ]
  },
  {
   "cell_type": "markdown",
   "id": "41d907a2-c984-4bc7-9b9a-d064a5dae8aa",
   "metadata": {
    "jp-MarkdownHeadingCollapsed": true
   },
   "source": [
    "### Para dados de teste"
   ]
  },
  {
   "cell_type": "code",
   "execution_count": 54,
   "id": "2a8255c2-85ae-44f8-93f5-1424c24629c1",
   "metadata": {},
   "outputs": [],
   "source": [
    "y_pred_knn_test = knn_classifier.predict(x_test)"
   ]
  },
  {
   "cell_type": "markdown",
   "id": "a4df5e57-5900-446f-a5db-37838d9dbd15",
   "metadata": {},
   "source": [
    "#### KNN"
   ]
  },
  {
   "cell_type": "code",
   "execution_count": null,
   "id": "fd34ce39-b0ad-484d-a5b4-da2c499cb04c",
   "metadata": {},
   "outputs": [],
   "source": [
    "x_train"
   ]
  },
  {
   "cell_type": "code",
   "execution_count": null,
   "id": "f2f6224d-8328-410c-b296-17008eaa6c31",
   "metadata": {},
   "outputs": [],
   "source": [
    "df = x_train.loc[:, ['id', 'customer_type']]\n",
    "df['predicted'] = y_pred"
   ]
  },
  {
   "cell_type": "code",
   "execution_count": null,
   "id": "9449a4f6-1337-4d2f-9114-5d4a77a4084b",
   "metadata": {},
   "outputs": [],
   "source": [
    "df"
   ]
  },
  {
   "cell_type": "code",
   "execution_count": null,
   "id": "21eeccea-2ff0-4b70-9973-9b3796214c15",
   "metadata": {},
   "outputs": [],
   "source": [
    "sns.scatterplot(x=x_train['class'],y=x_train['age'], hue=y_pred) # Tentativa apenas"
   ]
  },
  {
   "cell_type": "markdown",
   "id": "401887c6-b658-4e38-972f-0ec7645efe9f",
   "metadata": {
    "jp-MarkdownHeadingCollapsed": true
   },
   "source": [
    "## Decision Tree"
   ]
  },
  {
   "cell_type": "markdown",
   "id": "f01407b9-3479-4e91-a70b-a7715acbf229",
   "metadata": {
    "jp-MarkdownHeadingCollapsed": true
   },
   "source": [
    "### Para dados de treinamento"
   ]
  },
  {
   "cell_type": "code",
   "execution_count": 55,
   "id": "4fc0d9f5-46bd-4a6d-92ef-53b2e160f5d5",
   "metadata": {},
   "outputs": [],
   "source": [
    "y_pred_tree_train = tree.predict(x_vld)"
   ]
  },
  {
   "cell_type": "code",
   "execution_count": 56,
   "id": "6f18414d-9323-410f-ad33-a4b08efe9d2c",
   "metadata": {},
   "outputs": [],
   "source": [
    "y_pred_proba_tree_train = tree.predict_proba(x_vld)[:, 1]"
   ]
  },
  {
   "cell_type": "markdown",
   "id": "acc650be-9fdb-4cf4-b416-43a4a16871eb",
   "metadata": {
    "jp-MarkdownHeadingCollapsed": true
   },
   "source": [
    "### Para dados de validação"
   ]
  },
  {
   "cell_type": "code",
   "execution_count": 57,
   "id": "565c6603-6d42-45d2-b414-b72e0714cb76",
   "metadata": {},
   "outputs": [],
   "source": [
    "y_pred_tree_vld = tree.predict(x_test)"
   ]
  },
  {
   "cell_type": "code",
   "execution_count": 58,
   "id": "9666abb2-5732-405e-9161-68597ef518d1",
   "metadata": {},
   "outputs": [],
   "source": [
    "y_pred_proba_tree_vld = tree.predict_proba(x_test)[:, 1]"
   ]
  },
  {
   "cell_type": "markdown",
   "id": "536eeba3-5ffb-408f-a71e-f5d3a80ccb09",
   "metadata": {
    "jp-MarkdownHeadingCollapsed": true
   },
   "source": [
    "### Para dados de teste"
   ]
  },
  {
   "cell_type": "code",
   "execution_count": 59,
   "id": "cf3f6a89-823f-4c41-83fa-e9c6bfcd8fa7",
   "metadata": {},
   "outputs": [],
   "source": [
    "y_pred_tree_test = tree.predict(x_test)"
   ]
  },
  {
   "cell_type": "code",
   "execution_count": 60,
   "id": "196dabb4-ed63-4503-94c3-d86d193f4378",
   "metadata": {},
   "outputs": [],
   "source": [
    "y_pred_proba_tree_test = tree.predict_proba(x_test)[:, 1]"
   ]
  },
  {
   "cell_type": "markdown",
   "id": "b016f60a-3110-49f0-9cf7-6f675570be92",
   "metadata": {
    "jp-MarkdownHeadingCollapsed": true
   },
   "source": [
    "## Random Forest"
   ]
  },
  {
   "cell_type": "markdown",
   "id": "53670880-582c-49af-b42e-bf48718c0c6a",
   "metadata": {
    "jp-MarkdownHeadingCollapsed": true
   },
   "source": [
    "### Para dados de treinamento"
   ]
  },
  {
   "cell_type": "code",
   "execution_count": 61,
   "id": "e1247eda-3c3c-4d13-8bf3-08eae1613a55",
   "metadata": {},
   "outputs": [],
   "source": [
    "y_pred_rf_train = rf.predict(x_vld)"
   ]
  },
  {
   "cell_type": "code",
   "execution_count": 62,
   "id": "cfa26346-06f2-435e-91c0-10acfd9811c9",
   "metadata": {},
   "outputs": [],
   "source": [
    "y_pred_proba_rf_train = rf.predict_proba(x_vld)[:, 1]"
   ]
  },
  {
   "cell_type": "markdown",
   "id": "49755590-a038-483a-b891-b172960b488a",
   "metadata": {
    "jp-MarkdownHeadingCollapsed": true
   },
   "source": [
    "### Para dados de validação"
   ]
  },
  {
   "cell_type": "code",
   "execution_count": 63,
   "id": "aa97c84d-e473-4bd3-aadb-025a8d917277",
   "metadata": {},
   "outputs": [],
   "source": [
    "y_pred_rf_vld = rf.predict(x_test)"
   ]
  },
  {
   "cell_type": "code",
   "execution_count": 64,
   "id": "2f371f42-dd2b-46eb-a023-13fb4730a903",
   "metadata": {},
   "outputs": [],
   "source": [
    "y_pred_proba_rf_vld = rf.predict_proba(x_test)[:, 1]"
   ]
  },
  {
   "cell_type": "markdown",
   "id": "f082adcc-2ad2-486d-bc4b-935d6a4ae413",
   "metadata": {
    "jp-MarkdownHeadingCollapsed": true
   },
   "source": [
    "### Para dados de teste"
   ]
  },
  {
   "cell_type": "code",
   "execution_count": 65,
   "id": "43ebd9e8-aaf0-4bc6-9998-e23d8ed2c45b",
   "metadata": {},
   "outputs": [],
   "source": [
    "y_pred_rf_test = rf.predict(x_test)"
   ]
  },
  {
   "cell_type": "code",
   "execution_count": 66,
   "id": "4e42a132-d2ce-407e-bea6-b85987792d94",
   "metadata": {},
   "outputs": [],
   "source": [
    "y_pred_proba_rf_test = rf.predict_proba(x_test)[:, 1]"
   ]
  },
  {
   "cell_type": "markdown",
   "id": "2a34ef48-729c-4198-bf6c-a4503c5fd7ca",
   "metadata": {
    "jp-MarkdownHeadingCollapsed": true
   },
   "source": [
    "## Logistic Regression"
   ]
  },
  {
   "cell_type": "markdown",
   "id": "33093cc0-1d42-45b0-aa96-249338c859ab",
   "metadata": {
    "jp-MarkdownHeadingCollapsed": true
   },
   "source": [
    "### Para dados de treinamento"
   ]
  },
  {
   "cell_type": "code",
   "execution_count": 67,
   "id": "ac1a6fcf-b5a9-4246-a8bd-6f0d1a32e19d",
   "metadata": {},
   "outputs": [],
   "source": [
    "y_pred_lr_train = lr.predict(x_vld)"
   ]
  },
  {
   "cell_type": "code",
   "execution_count": 68,
   "id": "54cc4c58-e6ca-4105-99a9-73a7ea5b5259",
   "metadata": {},
   "outputs": [],
   "source": [
    "y_pred_prob_lr_train = lr.predict_proba(x_vld)[:, 1]"
   ]
  },
  {
   "cell_type": "markdown",
   "id": "53e0fec8-db78-4b70-9ff5-206535b4e7ff",
   "metadata": {
    "jp-MarkdownHeadingCollapsed": true
   },
   "source": [
    "### Para dados de validação"
   ]
  },
  {
   "cell_type": "code",
   "execution_count": 69,
   "id": "6ef2ff5c-f715-49b1-9a4c-f0d732040f50",
   "metadata": {},
   "outputs": [],
   "source": [
    "y_pred_lr_vld = lr.predict(x_test)"
   ]
  },
  {
   "cell_type": "code",
   "execution_count": 70,
   "id": "cda56395-c6dd-4080-bd4b-88deedb4fd40",
   "metadata": {},
   "outputs": [],
   "source": [
    "y_pred_prob_lr_vld = lr.predict_proba(x_test)[:, 1]"
   ]
  },
  {
   "cell_type": "markdown",
   "id": "203ed4c7-8091-4ea0-8c84-1a30216d1fb9",
   "metadata": {
    "jp-MarkdownHeadingCollapsed": true
   },
   "source": [
    "### Para dados de teste"
   ]
  },
  {
   "cell_type": "code",
   "execution_count": 71,
   "id": "7532d67c-6140-41e6-aa60-c8595b794d53",
   "metadata": {},
   "outputs": [],
   "source": [
    "y_pred_lr_test = lr.predict(x_test)"
   ]
  },
  {
   "cell_type": "code",
   "execution_count": 72,
   "id": "560c5fba-96f6-4170-b4b8-ca0264b4edf5",
   "metadata": {},
   "outputs": [],
   "source": [
    "y_pred_prob_lr_test = lr.predict_proba(x_test)[:, 1]"
   ]
  },
  {
   "cell_type": "markdown",
   "id": "798af2c9-2655-4a03-97fc-c7e14cb26fb2",
   "metadata": {
    "jp-MarkdownHeadingCollapsed": true
   },
   "source": [
    "# Performance"
   ]
  },
  {
   "cell_type": "code",
   "execution_count": 73,
   "id": "d6903bff-abda-4f5b-b5e6-9e57c4015308",
   "metadata": {},
   "outputs": [],
   "source": [
    "names_algorithm = ['KNN', 'Decision Tree', 'Random Forest', 'Logistic Regression']"
   ]
  },
  {
   "cell_type": "code",
   "execution_count": 74,
   "id": "b2f476f9-2d82-4e48-8445-8ab1eaf3367a",
   "metadata": {},
   "outputs": [],
   "source": [
    "names_metrics = ['Accuracy', 'Precision', 'Recall', 'F1-Score']"
   ]
  },
  {
   "cell_type": "code",
   "execution_count": 75,
   "id": "e606c95e-6a8c-4572-98b3-240ede43cbb8",
   "metadata": {},
   "outputs": [],
   "source": [
    "list_accuracy_train, list_precision_train, list_recall_train, list_f1Score_train = [], [], [], []"
   ]
  },
  {
   "cell_type": "code",
   "execution_count": 76,
   "id": "6c769248-03ce-4506-a2da-bcdbff9275be",
   "metadata": {},
   "outputs": [],
   "source": [
    "list_accuracy_vld, list_precision_vld, list_recall_vld, list_f1Score_vld = [], [], [], []"
   ]
  },
  {
   "cell_type": "code",
   "execution_count": 77,
   "id": "d8cbafe2-fcf6-4010-a8be-da06fe94ca18",
   "metadata": {},
   "outputs": [],
   "source": [
    "list_accuracy_test, list_precision_test, list_recall_test, list_f1Score_test = [], [], [], []"
   ]
  },
  {
   "cell_type": "markdown",
   "id": "f592dca8-b9d8-4c6e-a9b3-792ea6cd9b96",
   "metadata": {
    "jp-MarkdownHeadingCollapsed": true
   },
   "source": [
    "## KNN"
   ]
  },
  {
   "cell_type": "markdown",
   "id": "93d4f44b-ef5c-4350-997b-f539b998f0f1",
   "metadata": {
    "jp-MarkdownHeadingCollapsed": true
   },
   "source": [
    "### Para dados de treinamento"
   ]
  },
  {
   "cell_type": "code",
   "execution_count": 78,
   "id": "98f0a49f-7568-4c8e-8de8-17c60f7602b2",
   "metadata": {},
   "outputs": [
    {
     "data": {
      "text/plain": [
       "array([[14614,  2996],\n",
       "       [ 3342, 10127]], dtype=int64)"
      ]
     },
     "execution_count": 78,
     "metadata": {},
     "output_type": "execute_result"
    }
   ],
   "source": [
    "# Confusion matrix\n",
    "mt.confusion_matrix(y_vld, y_pred_knn_train)"
   ]
  },
  {
   "cell_type": "code",
   "execution_count": 79,
   "id": "2bc29fd7-dd31-4d7e-ac8e-459fa13fc04c",
   "metadata": {},
   "outputs": [],
   "source": [
    "get_metrics(y_vld, y_pred_knn_train, list_accuracy_train, list_precision_train, list_recall_train, list_f1Score_train)"
   ]
  },
  {
   "cell_type": "code",
   "execution_count": null,
   "id": "f507baaf-6327-4f0e-a666-d556d217ccf5",
   "metadata": {},
   "outputs": [],
   "source": [
    "type(y_vld)"
   ]
  },
  {
   "cell_type": "markdown",
   "id": "176de9f9-2a36-455e-8eab-b160851e67bf",
   "metadata": {
    "jp-MarkdownHeadingCollapsed": true
   },
   "source": [
    "### Para dados de validação"
   ]
  },
  {
   "cell_type": "code",
   "execution_count": 80,
   "id": "40fdf55a-3939-4dce-9f0e-676f90b6ed03",
   "metadata": {},
   "outputs": [
    {
     "data": {
      "text/plain": [
       "array([[12067,  2461],\n",
       "       [ 2778,  8587]], dtype=int64)"
      ]
     },
     "execution_count": 80,
     "metadata": {},
     "output_type": "execute_result"
    }
   ],
   "source": [
    "# Confusion matrix\n",
    "mt.confusion_matrix(y_test, y_pred_knn_vld)"
   ]
  },
  {
   "cell_type": "code",
   "execution_count": 81,
   "id": "cc8e1921-a4e7-47d7-964a-4851147657a7",
   "metadata": {},
   "outputs": [],
   "source": [
    "get_metrics(y_test, y_pred_knn_vld, list_accuracy_vld, list_precision_vld, list_recall_vld, list_f1Score_vld)"
   ]
  },
  {
   "cell_type": "markdown",
   "id": "3a72b39e-fd79-49e9-89bd-6e77da2b376f",
   "metadata": {
    "jp-MarkdownHeadingCollapsed": true
   },
   "source": [
    "### Para dados de teste"
   ]
  },
  {
   "cell_type": "code",
   "execution_count": 82,
   "id": "60196ea3-37c4-4e9b-bec8-e35c520ecaf6",
   "metadata": {},
   "outputs": [
    {
     "data": {
      "text/plain": [
       "array([[12067,  2461],\n",
       "       [ 2778,  8587]], dtype=int64)"
      ]
     },
     "execution_count": 82,
     "metadata": {},
     "output_type": "execute_result"
    }
   ],
   "source": [
    "# Confusion matrix\n",
    "mt.confusion_matrix(y_test, y_pred_knn_test)"
   ]
  },
  {
   "cell_type": "code",
   "execution_count": 83,
   "id": "879669c9-11ff-477a-8fb5-1c726a7e84f4",
   "metadata": {},
   "outputs": [],
   "source": [
    "get_metrics(y_test, y_pred_knn_test, list_accuracy_test, list_precision_test, list_recall_test, list_f1Score_test)"
   ]
  },
  {
   "cell_type": "markdown",
   "id": "a5070ffa-4cfe-4c48-8fd3-87bcc99f9a76",
   "metadata": {
    "jp-MarkdownHeadingCollapsed": true
   },
   "source": [
    "## Decision Tree"
   ]
  },
  {
   "cell_type": "markdown",
   "id": "a0e0de11-539f-46ed-9805-a650ee093b66",
   "metadata": {
    "jp-MarkdownHeadingCollapsed": true
   },
   "source": [
    "### Para dados de treinamentos"
   ]
  },
  {
   "cell_type": "code",
   "execution_count": 84,
   "id": "34afba40-c463-46bf-99cf-e5aa50434e1b",
   "metadata": {},
   "outputs": [
    {
     "data": {
      "text/plain": [
       "array([[17402,   208],\n",
       "       [  430, 13039]], dtype=int64)"
      ]
     },
     "execution_count": 84,
     "metadata": {},
     "output_type": "execute_result"
    }
   ],
   "source": [
    "# Confusion matrix\n",
    "mt.confusion_matrix(y_vld, y_pred_tree_train)"
   ]
  },
  {
   "cell_type": "code",
   "execution_count": 85,
   "id": "c5a22bed-9a0b-4117-a982-242a4e390a3e",
   "metadata": {},
   "outputs": [],
   "source": [
    "get_metrics(y_vld, y_pred_tree_train, list_accuracy_train, list_precision_train, list_recall_train, list_f1Score_train)"
   ]
  },
  {
   "cell_type": "markdown",
   "id": "b617860c-3971-4e1c-9b1d-d3879e55670c",
   "metadata": {
    "jp-MarkdownHeadingCollapsed": true
   },
   "source": [
    "### Para dados de validação"
   ]
  },
  {
   "cell_type": "code",
   "execution_count": 86,
   "id": "6cef6772-3ddb-45fe-b946-29815cdfcdce",
   "metadata": {},
   "outputs": [
    {
     "data": {
      "text/plain": [
       "array([[14342,   186],\n",
       "       [  364, 11001]], dtype=int64)"
      ]
     },
     "execution_count": 86,
     "metadata": {},
     "output_type": "execute_result"
    }
   ],
   "source": [
    "# Confusion matrix\n",
    "mt.confusion_matrix(y_test, y_pred_tree_vld)"
   ]
  },
  {
   "cell_type": "code",
   "execution_count": 87,
   "id": "4d413048-d670-4c6f-850d-b2755741a966",
   "metadata": {},
   "outputs": [],
   "source": [
    "get_metrics(y_test, y_pred_tree_vld, list_accuracy_vld, list_precision_vld, list_recall_vld, list_f1Score_vld)"
   ]
  },
  {
   "cell_type": "markdown",
   "id": "3ed850ff-5978-4e5c-9a08-6a3fb98b056e",
   "metadata": {},
   "source": [
    "#### Calculando e visualizando as curvas"
   ]
  },
  {
   "cell_type": "code",
   "execution_count": null,
   "id": "231a1867-2eb1-4b3f-be04-5b02ddaa136c",
   "metadata": {},
   "outputs": [],
   "source": [
    "# Para calcular a curva Precision, Recall e Threshold\n",
    "precision, recall, threshold = mt.precision_recall_curve(y_vld, y_pred)"
   ]
  },
  {
   "cell_type": "code",
   "execution_count": null,
   "id": "754dbd41-2d74-4314-b54d-83b47466ce18",
   "metadata": {},
   "outputs": [],
   "source": [
    "# Para visualizar a Curva Precision vs Recall\n",
    "plt.plot(recall, precision, marker='.', label='Model')\n",
    "plt.xlabel(\"Recall\")\n",
    "plt.ylabel(\"Precision\")"
   ]
  },
  {
   "cell_type": "code",
   "execution_count": null,
   "id": "a8cbe473-8e0b-41f8-ad71-628daa358c43",
   "metadata": {},
   "outputs": [],
   "source": [
    "# Para visualizar a Curva Threshold, Precision x Recall\n",
    "plt.plot( threshold, precision[:-1], 'b--', label='Precision' );\n",
    "plt.plot( threshold, recall[:-1], 'g-', label='Recall' );\n",
    "plt.xlabel( 'Thresholds' );\n",
    "plt.ylabel( 'Precison, Recall' );\n",
    "plt.legend()\n",
    "plt.grid()"
   ]
  },
  {
   "cell_type": "code",
   "execution_count": null,
   "id": "80abd507-be88-4c51-9459-2e48ee6b58c6",
   "metadata": {},
   "outputs": [],
   "source": [
    "# Para calcular a curva ROC\n",
    "fpr, tpr, thresholds = mt.roc_curve(y_vld, y_pred)"
   ]
  },
  {
   "cell_type": "code",
   "execution_count": null,
   "id": "ac1874bc-aca0-4ef5-abbb-098389c95863",
   "metadata": {},
   "outputs": [],
   "source": [
    "# Para visualizar a curva ROC\n",
    "plt.plot(fpr, tpr, marker='.', label='Model(AUC=%0.2f)' % auc)\n",
    "plt.xlabel('False Positive Rate')\n",
    "plt.ylabel('True Positive Rate')\n",
    "plt.legend()\n",
    "plt.show()"
   ]
  },
  {
   "cell_type": "code",
   "execution_count": null,
   "id": "c09dc223-8e3d-46ca-a614-9ae91bdf6246",
   "metadata": {},
   "outputs": [],
   "source": [
    "# Para calcular a área sob a curva ROC\n",
    "auc = mt.auc(fpr, tpr)\n",
    "auc"
   ]
  },
  {
   "cell_type": "code",
   "execution_count": null,
   "id": "10ff0752-2cab-4988-a2c1-787655582f49",
   "metadata": {},
   "outputs": [],
   "source": [
    "# Para visualizar a curva Threshold, TPR x FPR\n",
    "plt.plot(thresholds, tpr, 'b--', label='TPR')\n",
    "plt.plot(thresholds, 1-fpr, 'g-', label='FPR')\n",
    "plt.xlabel('True Positive Rate')\n",
    "plt.ylabel('False Positive Rate')\n",
    "plt.legend()\n",
    "plt.grid()"
   ]
  },
  {
   "cell_type": "markdown",
   "id": "9ac4daa1-e5a3-43b4-8f2e-49566ef5e830",
   "metadata": {
    "jp-MarkdownHeadingCollapsed": true
   },
   "source": [
    "### Para dados de teste"
   ]
  },
  {
   "cell_type": "code",
   "execution_count": 88,
   "id": "74c3538d-1aa7-4130-ab38-75778ce7a8f2",
   "metadata": {},
   "outputs": [
    {
     "data": {
      "text/plain": [
       "array([[14342,   186],\n",
       "       [  364, 11001]], dtype=int64)"
      ]
     },
     "execution_count": 88,
     "metadata": {},
     "output_type": "execute_result"
    }
   ],
   "source": [
    "# Confusion matrix\n",
    "mt.confusion_matrix(y_test, y_pred_tree_test)"
   ]
  },
  {
   "cell_type": "code",
   "execution_count": 89,
   "id": "ae7a16b1-5def-4b4c-bd6d-0e93ca48dbb8",
   "metadata": {},
   "outputs": [],
   "source": [
    "get_metrics(y_test, y_pred_tree_test, list_accuracy_test, list_precision_test, list_recall_test, list_f1Score_test)"
   ]
  },
  {
   "cell_type": "markdown",
   "id": "ad0984c3-1eed-4036-9af1-23b99211f681",
   "metadata": {
    "jp-MarkdownHeadingCollapsed": true
   },
   "source": [
    "## Random Forest"
   ]
  },
  {
   "cell_type": "markdown",
   "id": "8fb54fb8-4fb0-49b2-847e-06ac56022234",
   "metadata": {
    "jp-MarkdownHeadingCollapsed": true
   },
   "source": [
    "### Para dados de treinamento"
   ]
  },
  {
   "cell_type": "code",
   "execution_count": 90,
   "id": "9d64c8ea-3e39-4ca6-993c-de7d55ce0621",
   "metadata": {},
   "outputs": [
    {
     "data": {
      "text/plain": [
       "array([[17006,   604],\n",
       "       [  961, 12508]], dtype=int64)"
      ]
     },
     "execution_count": 90,
     "metadata": {},
     "output_type": "execute_result"
    }
   ],
   "source": [
    "# Confusion matrix\n",
    "mt.confusion_matrix(y_vld, y_pred_rf_train)"
   ]
  },
  {
   "cell_type": "code",
   "execution_count": 91,
   "id": "2fa8115b-a9a9-44da-ba8f-f3b7451852b8",
   "metadata": {},
   "outputs": [],
   "source": [
    "get_metrics(y_vld, y_pred_rf_train, list_accuracy_train, list_precision_train, list_recall_train, list_f1Score_train)"
   ]
  },
  {
   "cell_type": "markdown",
   "id": "c05b4f8f-dd50-46a6-ae02-110d91be522f",
   "metadata": {
    "jp-MarkdownHeadingCollapsed": true
   },
   "source": [
    "### Para dados de validação"
   ]
  },
  {
   "cell_type": "code",
   "execution_count": 92,
   "id": "147d2bc2-c7d0-4d5c-9f3b-0f9d22a9114b",
   "metadata": {},
   "outputs": [
    {
     "data": {
      "text/plain": [
       "array([[14006,   522],\n",
       "       [  799, 10566]], dtype=int64)"
      ]
     },
     "execution_count": 92,
     "metadata": {},
     "output_type": "execute_result"
    }
   ],
   "source": [
    "# Confusion matrix\n",
    "mt.confusion_matrix(y_test, y_pred_rf_vld)"
   ]
  },
  {
   "cell_type": "code",
   "execution_count": 93,
   "id": "f0e6755e-89f2-4b38-a428-2f2113d11f88",
   "metadata": {},
   "outputs": [],
   "source": [
    "get_metrics(y_test, y_pred_rf_vld, list_accuracy_vld, list_precision_vld, list_recall_vld, list_f1Score_vld)"
   ]
  },
  {
   "cell_type": "markdown",
   "id": "57cca8a8-174b-4c35-811e-d6e4c384643d",
   "metadata": {
    "jp-MarkdownHeadingCollapsed": true
   },
   "source": [
    "#### Calculando e visualizando as curvas"
   ]
  },
  {
   "cell_type": "code",
   "execution_count": null,
   "id": "1d1c3b17-7f12-47ac-a660-b408d7a7ec5c",
   "metadata": {},
   "outputs": [],
   "source": [
    "# Para calcular o valor da curva ROC\n",
    "fpr, tpr, thresholds = mt.roc_curve(y_vld, y_scores)"
   ]
  },
  {
   "cell_type": "code",
   "execution_count": null,
   "id": "40da2ec0-a563-438b-9f55-f1ed00273a80",
   "metadata": {},
   "outputs": [],
   "source": [
    "# Para calcular AUC score\n",
    "auc = mt.roc_auc_score(y_vld, y_scores)\n",
    "auc"
   ]
  },
  {
   "cell_type": "code",
   "execution_count": null,
   "id": "b61801d6-ffa5-4f36-933c-1c5b197c0ca0",
   "metadata": {},
   "outputs": [],
   "source": [
    "# Para plotar a curva ROC\n",
    "plt.plot(fpr, tpr, color='b', label=f'curva ROC (AUC = {auc:.2f})')\n",
    "plt.plot([0, 1], [0, 1], color='r', linestyle='--')\n",
    "plt.xlabel('False Positive Rate')\n",
    "plt.ylabel('True Positive Rate')\n",
    "plt.title('Receiver Operating Characteristic (ROC) Curve')\n",
    "plt.legend()\n",
    "plt.show()"
   ]
  },
  {
   "cell_type": "code",
   "execution_count": null,
   "id": "662fead4-47c3-49b9-ad23-1603be1dafb7",
   "metadata": {},
   "outputs": [],
   "source": [
    "# Para encontrar o melhor threshold baseado na curva ROC\n",
    "distances = np.sqrt((1 - tpr) ** 2 + fpr ** 2)\n",
    "best_threshold = thresholds[np.argmin(distances)]\n",
    "print(f'Best Threshold: {best_threshold}')"
   ]
  },
  {
   "cell_type": "code",
   "execution_count": null,
   "id": "adb93b90-39d9-4e72-a47e-ea98fedcb9e6",
   "metadata": {},
   "outputs": [],
   "source": [
    "# Para calcular accuracy usando o melhor threshold\n",
    "y_pred = (y_scores >= best_threshold).astype(int)\n",
    "accuracy = mt.accuracy_score(y_vld, y_pred)\n",
    "print(f'Accuracy: {accuracy}')"
   ]
  },
  {
   "cell_type": "markdown",
   "id": "25653138-208b-4906-bdda-20b335ea1019",
   "metadata": {
    "jp-MarkdownHeadingCollapsed": true
   },
   "source": [
    "### Para dados de teste"
   ]
  },
  {
   "cell_type": "code",
   "execution_count": 94,
   "id": "a60e21bf-c713-40f6-94a5-f5ad9eeffb21",
   "metadata": {},
   "outputs": [
    {
     "data": {
      "text/plain": [
       "array([[14006,   522],\n",
       "       [  799, 10566]], dtype=int64)"
      ]
     },
     "execution_count": 94,
     "metadata": {},
     "output_type": "execute_result"
    }
   ],
   "source": [
    "# Confusion matrix\n",
    "mt.confusion_matrix(y_test, y_pred_rf_test)"
   ]
  },
  {
   "cell_type": "code",
   "execution_count": 95,
   "id": "bff40ed7-dfc6-4a1d-a04a-0d14a21417c0",
   "metadata": {},
   "outputs": [],
   "source": [
    "get_metrics(y_test, y_pred_rf_test, list_accuracy_test, list_precision_test, list_recall_test, list_f1Score_test)"
   ]
  },
  {
   "cell_type": "markdown",
   "id": "089c5210-4c16-46cf-b263-ee5135866db4",
   "metadata": {
    "jp-MarkdownHeadingCollapsed": true
   },
   "source": [
    "## Logistic Regression"
   ]
  },
  {
   "cell_type": "markdown",
   "id": "95606a8b-b015-4f57-b3e3-af382e64553d",
   "metadata": {
    "jp-MarkdownHeadingCollapsed": true
   },
   "source": [
    "### Para dados de treinamento"
   ]
  },
  {
   "cell_type": "code",
   "execution_count": 96,
   "id": "0c2a993f-37cc-4d48-b2f1-8dc7ecca3075",
   "metadata": {},
   "outputs": [
    {
     "data": {
      "text/plain": [
       "array([[15913,  1697],\n",
       "       [ 2209, 11260]], dtype=int64)"
      ]
     },
     "execution_count": 96,
     "metadata": {},
     "output_type": "execute_result"
    }
   ],
   "source": [
    "# Confusion matrix\n",
    "mt.confusion_matrix(y_vld, y_pred_lr_train)"
   ]
  },
  {
   "cell_type": "code",
   "execution_count": 97,
   "id": "268c7481-accc-415e-81db-ea3636afc11b",
   "metadata": {},
   "outputs": [],
   "source": [
    "get_metrics(y_vld, y_pred_lr_train, list_accuracy_train, list_precision_train, list_recall_train, list_f1Score_train)"
   ]
  },
  {
   "cell_type": "markdown",
   "id": "7d5ea88a-ad95-4c95-aaae-cad54f0871b0",
   "metadata": {
    "jp-MarkdownHeadingCollapsed": true
   },
   "source": [
    "### Para dados de validação"
   ]
  },
  {
   "cell_type": "code",
   "execution_count": 98,
   "id": "1148b7ef-b21d-4b1c-8b89-342845ae09e6",
   "metadata": {},
   "outputs": [
    {
     "data": {
      "text/plain": [
       "array([[13080,  1448],\n",
       "       [ 1867,  9498]], dtype=int64)"
      ]
     },
     "execution_count": 98,
     "metadata": {},
     "output_type": "execute_result"
    }
   ],
   "source": [
    "# Confusion matrix\n",
    "mt.confusion_matrix(y_test, y_pred_lr_vld)"
   ]
  },
  {
   "cell_type": "code",
   "execution_count": 99,
   "id": "ae34b048-7d73-4f4c-a5ac-4259b61d52d3",
   "metadata": {},
   "outputs": [],
   "source": [
    "get_metrics(y_test, y_pred_lr_vld, list_accuracy_vld, list_precision_vld, list_recall_vld, list_f1Score_vld)"
   ]
  },
  {
   "cell_type": "markdown",
   "id": "52c3380f-4197-440e-ad8f-823549244455",
   "metadata": {
    "jp-MarkdownHeadingCollapsed": true
   },
   "source": [
    "#### Calculando e visualizando as curvas"
   ]
  },
  {
   "cell_type": "code",
   "execution_count": null,
   "id": "5b8018ae-03a5-4268-99b8-a75c0bb336a0",
   "metadata": {},
   "outputs": [],
   "source": [
    "# Para calcular a curva ROC\n",
    "fpr, tpr, thresholds = mt.roc_curve(y_vld, y_pred_prob)"
   ]
  },
  {
   "cell_type": "code",
   "execution_count": null,
   "id": "885adfd1-e5e2-4542-baf3-87d2aa29d655",
   "metadata": {},
   "outputs": [],
   "source": [
    "# Para calcular a área sob a curva ROC\n",
    "auc = mt.auc(fpr, tpr)\n",
    "auc"
   ]
  },
  {
   "cell_type": "code",
   "execution_count": null,
   "id": "fcdd5de9-f6a7-4035-a55b-0527e0e8ec02",
   "metadata": {},
   "outputs": [],
   "source": [
    "# Para visualizar a curva ROC\n",
    "plt.plot(fpr, tpr, marker='.', label='Model(AUC=%0.2f)' % auc)\n",
    "plt.xlabel('False Positive Rate')\n",
    "plt.ylabel('True Positive Rate')\n",
    "plt.legend()\n",
    "plt.show()"
   ]
  },
  {
   "cell_type": "markdown",
   "id": "65e449ff-b06f-481c-a8e2-dd8918bb63b3",
   "metadata": {
    "jp-MarkdownHeadingCollapsed": true
   },
   "source": [
    "### Para dados de teste"
   ]
  },
  {
   "cell_type": "code",
   "execution_count": 100,
   "id": "9140819d-b477-4a77-b07d-37430db39f27",
   "metadata": {},
   "outputs": [
    {
     "data": {
      "text/plain": [
       "array([[13080,  1448],\n",
       "       [ 1867,  9498]], dtype=int64)"
      ]
     },
     "execution_count": 100,
     "metadata": {},
     "output_type": "execute_result"
    }
   ],
   "source": [
    "# Confusion matrix\n",
    "mt.confusion_matrix(y_test, y_pred_lr_test)"
   ]
  },
  {
   "cell_type": "code",
   "execution_count": 101,
   "id": "5f974642-2514-4fde-a6f5-110c1b0b5872",
   "metadata": {},
   "outputs": [],
   "source": [
    "get_metrics(y_test, y_pred_lr_test, list_accuracy_test, list_precision_test, list_recall_test, list_f1Score_test)"
   ]
  },
  {
   "cell_type": "markdown",
   "id": "a0b31023-04ed-40a6-8c5a-e09c23a6f0c1",
   "metadata": {
    "jp-MarkdownHeadingCollapsed": true
   },
   "source": [
    "## Tabela de Performance sobre os dados de treinamento"
   ]
  },
  {
   "cell_type": "code",
   "execution_count": 102,
   "id": "c72517ea-0449-4cb6-91ba-b6c810ed3bd9",
   "metadata": {},
   "outputs": [
    {
     "data": {
      "text/html": [
       "<div>\n",
       "<style scoped>\n",
       "    .dataframe tbody tr th:only-of-type {\n",
       "        vertical-align: middle;\n",
       "    }\n",
       "\n",
       "    .dataframe tbody tr th {\n",
       "        vertical-align: top;\n",
       "    }\n",
       "\n",
       "    .dataframe thead th {\n",
       "        text-align: right;\n",
       "    }\n",
       "</style>\n",
       "<table border=\"1\" class=\"dataframe\">\n",
       "  <thead>\n",
       "    <tr style=\"text-align: right;\">\n",
       "      <th></th>\n",
       "      <th>Algorithm Name</th>\n",
       "      <th>Accuracy</th>\n",
       "      <th>Precision</th>\n",
       "      <th>Recall</th>\n",
       "      <th>F1-Score</th>\n",
       "    </tr>\n",
       "  </thead>\n",
       "  <tbody>\n",
       "    <tr>\n",
       "      <th>0</th>\n",
       "      <td>KNN</td>\n",
       "      <td>0.796068</td>\n",
       "      <td>0.771699</td>\n",
       "      <td>0.751875</td>\n",
       "      <td>0.761658</td>\n",
       "    </tr>\n",
       "    <tr>\n",
       "      <th>1</th>\n",
       "      <td>Decision Tree</td>\n",
       "      <td>0.979472</td>\n",
       "      <td>0.984298</td>\n",
       "      <td>0.968075</td>\n",
       "      <td>0.976119</td>\n",
       "    </tr>\n",
       "    <tr>\n",
       "      <th>2</th>\n",
       "      <td>Random Forest</td>\n",
       "      <td>0.949644</td>\n",
       "      <td>0.953935</td>\n",
       "      <td>0.928651</td>\n",
       "      <td>0.941123</td>\n",
       "    </tr>\n",
       "    <tr>\n",
       "      <th>3</th>\n",
       "      <td>Logistic Regression</td>\n",
       "      <td>0.874320</td>\n",
       "      <td>0.869028</td>\n",
       "      <td>0.835994</td>\n",
       "      <td>0.852191</td>\n",
       "    </tr>\n",
       "  </tbody>\n",
       "</table>\n",
       "</div>"
      ],
      "text/plain": [
       "        Algorithm Name  Accuracy  Precision    Recall  F1-Score\n",
       "0                  KNN  0.796068   0.771699  0.751875  0.761658\n",
       "1        Decision Tree  0.979472   0.984298  0.968075  0.976119\n",
       "2        Random Forest  0.949644   0.953935  0.928651  0.941123\n",
       "3  Logistic Regression  0.874320   0.869028  0.835994  0.852191"
      ]
     },
     "execution_count": 102,
     "metadata": {},
     "output_type": "execute_result"
    }
   ],
   "source": [
    "values_metrics_train = [list_accuracy_train, list_precision_train, list_recall_train, list_f1Score_train]\n",
    "df_tab_train = show_table(names_algorithm, names_metrics, values_metrics_train)\n",
    "df_tab_train"
   ]
  },
  {
   "cell_type": "markdown",
   "id": "c2263563-d403-4956-9220-a4b707dfb194",
   "metadata": {
    "jp-MarkdownHeadingCollapsed": true
   },
   "source": [
    "## Tabela de Performance sobre os dados de validação"
   ]
  },
  {
   "cell_type": "code",
   "execution_count": 103,
   "id": "a68aea1f-3118-492f-9994-b7127b7e625f",
   "metadata": {},
   "outputs": [
    {
     "data": {
      "text/html": [
       "<div>\n",
       "<style scoped>\n",
       "    .dataframe tbody tr th:only-of-type {\n",
       "        vertical-align: middle;\n",
       "    }\n",
       "\n",
       "    .dataframe tbody tr th {\n",
       "        vertical-align: top;\n",
       "    }\n",
       "\n",
       "    .dataframe thead th {\n",
       "        text-align: right;\n",
       "    }\n",
       "</style>\n",
       "<table border=\"1\" class=\"dataframe\">\n",
       "  <thead>\n",
       "    <tr style=\"text-align: right;\">\n",
       "      <th></th>\n",
       "      <th>Algorithm Name</th>\n",
       "      <th>Accuracy</th>\n",
       "      <th>Precision</th>\n",
       "      <th>Recall</th>\n",
       "      <th>F1-Score</th>\n",
       "    </tr>\n",
       "  </thead>\n",
       "  <tbody>\n",
       "    <tr>\n",
       "      <th>0</th>\n",
       "      <td>KNN</td>\n",
       "      <td>0.797667</td>\n",
       "      <td>0.777245</td>\n",
       "      <td>0.755565</td>\n",
       "      <td>0.766252</td>\n",
       "    </tr>\n",
       "    <tr>\n",
       "      <th>1</th>\n",
       "      <td>Decision Tree</td>\n",
       "      <td>0.978759</td>\n",
       "      <td>0.983374</td>\n",
       "      <td>0.967972</td>\n",
       "      <td>0.975612</td>\n",
       "    </tr>\n",
       "    <tr>\n",
       "      <th>2</th>\n",
       "      <td>Random Forest</td>\n",
       "      <td>0.948982</td>\n",
       "      <td>0.952922</td>\n",
       "      <td>0.929696</td>\n",
       "      <td>0.941166</td>\n",
       "    </tr>\n",
       "    <tr>\n",
       "      <th>3</th>\n",
       "      <td>Logistic Regression</td>\n",
       "      <td>0.871973</td>\n",
       "      <td>0.867714</td>\n",
       "      <td>0.835724</td>\n",
       "      <td>0.851419</td>\n",
       "    </tr>\n",
       "  </tbody>\n",
       "</table>\n",
       "</div>"
      ],
      "text/plain": [
       "        Algorithm Name  Accuracy  Precision    Recall  F1-Score\n",
       "0                  KNN  0.797667   0.777245  0.755565  0.766252\n",
       "1        Decision Tree  0.978759   0.983374  0.967972  0.975612\n",
       "2        Random Forest  0.948982   0.952922  0.929696  0.941166\n",
       "3  Logistic Regression  0.871973   0.867714  0.835724  0.851419"
      ]
     },
     "execution_count": 103,
     "metadata": {},
     "output_type": "execute_result"
    }
   ],
   "source": [
    "values_metrics_vld = [list_accuracy_vld, list_precision_vld, list_recall_vld, list_f1Score_vld]\n",
    "df_tab_vld = show_table(names_algorithm, names_metrics, values_metrics_vld)\n",
    "df_tab_vld"
   ]
  },
  {
   "cell_type": "markdown",
   "id": "09299824-81cd-49d0-8a46-7b24ee9193f7",
   "metadata": {
    "jp-MarkdownHeadingCollapsed": true
   },
   "source": [
    "## Tabela de Performance sobre os dados de Teste"
   ]
  },
  {
   "cell_type": "code",
   "execution_count": 104,
   "id": "67ff6e36-43e4-4614-86ae-a8953ea2c738",
   "metadata": {},
   "outputs": [
    {
     "data": {
      "text/html": [
       "<div>\n",
       "<style scoped>\n",
       "    .dataframe tbody tr th:only-of-type {\n",
       "        vertical-align: middle;\n",
       "    }\n",
       "\n",
       "    .dataframe tbody tr th {\n",
       "        vertical-align: top;\n",
       "    }\n",
       "\n",
       "    .dataframe thead th {\n",
       "        text-align: right;\n",
       "    }\n",
       "</style>\n",
       "<table border=\"1\" class=\"dataframe\">\n",
       "  <thead>\n",
       "    <tr style=\"text-align: right;\">\n",
       "      <th></th>\n",
       "      <th>Algorithm Name</th>\n",
       "      <th>Accuracy</th>\n",
       "      <th>Precision</th>\n",
       "      <th>Recall</th>\n",
       "      <th>F1-Score</th>\n",
       "    </tr>\n",
       "  </thead>\n",
       "  <tbody>\n",
       "    <tr>\n",
       "      <th>0</th>\n",
       "      <td>KNN</td>\n",
       "      <td>0.797667</td>\n",
       "      <td>0.777245</td>\n",
       "      <td>0.755565</td>\n",
       "      <td>0.766252</td>\n",
       "    </tr>\n",
       "    <tr>\n",
       "      <th>1</th>\n",
       "      <td>Decision Tree</td>\n",
       "      <td>0.978759</td>\n",
       "      <td>0.983374</td>\n",
       "      <td>0.967972</td>\n",
       "      <td>0.975612</td>\n",
       "    </tr>\n",
       "    <tr>\n",
       "      <th>2</th>\n",
       "      <td>Random Forest</td>\n",
       "      <td>0.948982</td>\n",
       "      <td>0.952922</td>\n",
       "      <td>0.929696</td>\n",
       "      <td>0.941166</td>\n",
       "    </tr>\n",
       "    <tr>\n",
       "      <th>3</th>\n",
       "      <td>Logistic Regression</td>\n",
       "      <td>0.871973</td>\n",
       "      <td>0.867714</td>\n",
       "      <td>0.835724</td>\n",
       "      <td>0.851419</td>\n",
       "    </tr>\n",
       "  </tbody>\n",
       "</table>\n",
       "</div>"
      ],
      "text/plain": [
       "        Algorithm Name  Accuracy  Precision    Recall  F1-Score\n",
       "0                  KNN  0.797667   0.777245  0.755565  0.766252\n",
       "1        Decision Tree  0.978759   0.983374  0.967972  0.975612\n",
       "2        Random Forest  0.948982   0.952922  0.929696  0.941166\n",
       "3  Logistic Regression  0.871973   0.867714  0.835724  0.851419"
      ]
     },
     "execution_count": 104,
     "metadata": {},
     "output_type": "execute_result"
    }
   ],
   "source": [
    "values_metrics_test = [list_accuracy_test, list_precision_test, list_recall_test, list_f1Score_test]\n",
    "df_tab_test = show_table(names_algorithm, names_metrics, values_metrics_test)\n",
    "df_tab_test"
   ]
  }
 ],
 "metadata": {
  "kernelspec": {
   "display_name": "Python 3 (ipykernel)",
   "language": "python",
   "name": "python3"
  },
  "language_info": {
   "codemirror_mode": {
    "name": "ipython",
    "version": 3
   },
   "file_extension": ".py",
   "mimetype": "text/x-python",
   "name": "python",
   "nbconvert_exporter": "python",
   "pygments_lexer": "ipython3",
   "version": "3.11.3"
  }
 },
 "nbformat": 4,
 "nbformat_minor": 5
}
